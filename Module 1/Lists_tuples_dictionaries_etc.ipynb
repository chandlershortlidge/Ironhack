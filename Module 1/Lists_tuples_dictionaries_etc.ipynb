{
 "cells": [
  {
   "cell_type": "markdown",
   "id": "66e4ab6c",
   "metadata": {},
   "source": [
    "# Collections\n",
    "- rodered \n",
    "- unrodred \n",
    "- mutable\n",
    "- immutable "
   ]
  },
  {
   "cell_type": "markdown",
   "id": "56a50e5b",
   "metadata": {},
   "source": [
    "## Ordered Collections"
   ]
  },
  {
   "cell_type": "code",
   "execution_count": null,
   "id": "d071f260",
   "metadata": {},
   "outputs": [],
   "source": []
  },
  {
   "cell_type": "code",
   "execution_count": 122,
   "id": "a0ade6a4",
   "metadata": {},
   "outputs": [],
   "source": [
    "users = [\"john\", \"sandra\", \"chris\", \"alice\"] # list array "
   ]
  },
  {
   "cell_type": "code",
   "execution_count": 123,
   "id": "3d3a02cf",
   "metadata": {},
   "outputs": [
    {
     "data": {
      "text/plain": [
       "['john', 'sandra', 'chris', 'alice']"
      ]
     },
     "execution_count": 123,
     "metadata": {},
     "output_type": "execute_result"
    }
   ],
   "source": [
    "users"
   ]
  },
  {
   "cell_type": "code",
   "execution_count": 128,
   "id": "5c761d63",
   "metadata": {},
   "outputs": [
    {
     "data": {
      "text/plain": [
       "('john', 'bill')"
      ]
     },
     "execution_count": 128,
     "metadata": {},
     "output_type": "execute_result"
    }
   ],
   "source": [
    "users[0], \"bill\" "
   ]
  },
  {
   "cell_type": "markdown",
   "id": "a58ec7ca",
   "metadata": {},
   "source": [
    "users [1]\n",
    "John"
   ]
  },
  {
   "cell_type": "code",
   "execution_count": 129,
   "id": "f7d7c08e",
   "metadata": {},
   "outputs": [],
   "source": [
    "site_visits = [4, 5, 10, 1]"
   ]
  },
  {
   "cell_type": "code",
   "execution_count": 130,
   "id": "dea85d18",
   "metadata": {},
   "outputs": [
    {
     "data": {
      "text/plain": [
       "4"
      ]
     },
     "execution_count": 130,
     "metadata": {},
     "output_type": "execute_result"
    }
   ],
   "source": [
    "users[0] # user name \n",
    "site_visits[0] #user 0 site vistis "
   ]
  },
  {
   "cell_type": "markdown",
   "id": "7ac5cb5b",
   "metadata": {},
   "source": [
    "## Unordered collections (set)"
   ]
  },
  {
   "cell_type": "code",
   "execution_count": 10,
   "id": "1f7e4ba9",
   "metadata": {},
   "outputs": [
    {
     "data": {
      "text/plain": [
       "True"
      ]
     },
     "execution_count": 10,
     "metadata": {},
     "output_type": "execute_result"
    }
   ],
   "source": [
    "fruits = {\"apple\", \"bannana\", \"apple\",\"pineapple\"}\n",
    "fruits # setis unordred collection \n",
    "\"apple\" in fruits"
   ]
  },
  {
   "cell_type": "code",
   "execution_count": null,
   "id": "0c919a64",
   "metadata": {},
   "outputs": [],
   "source": [
    "fruits.add(\"pear\")"
   ]
  },
  {
   "cell_type": "markdown",
   "id": "131a1fe1",
   "metadata": {},
   "source": [
    "## Mutable vs immutable "
   ]
  },
  {
   "cell_type": "code",
   "execution_count": 131,
   "id": "0f638ab1",
   "metadata": {},
   "outputs": [
    {
     "data": {
      "text/plain": [
       "['john', 'sandra', 'chris', 'alice']"
      ]
     },
     "execution_count": 131,
     "metadata": {},
     "output_type": "execute_result"
    }
   ],
   "source": [
    "users "
   ]
  },
  {
   "cell_type": "code",
   "execution_count": 132,
   "id": "5d623a08",
   "metadata": {},
   "outputs": [],
   "source": [
    "frozen_fruits = frozenset([\"apple\", \"banana\"])"
   ]
  },
  {
   "cell_type": "markdown",
   "id": "27c975d5",
   "metadata": {},
   "source": [
    "## Dictionary"
   ]
  },
  {
   "cell_type": "code",
   "execution_count": 13,
   "id": "4b07d6ab",
   "metadata": {},
   "outputs": [],
   "source": [
    "users = [\"Sandra\", \"John\"]\n",
    "ids = [2, 5]"
   ]
  },
  {
   "cell_type": "code",
   "execution_count": null,
   "id": "edf6c944",
   "metadata": {},
   "outputs": [],
   "source": [
    "users[0], ids[0]"
   ]
  },
  {
   "cell_type": "markdown",
   "id": "08915f8a",
   "metadata": {},
   "source": [
    "## How to work with lists and tuples "
   ]
  },
  {
   "cell_type": "code",
   "execution_count": 14,
   "id": "23023d26",
   "metadata": {},
   "outputs": [],
   "source": [
    "my_mixed_list = [1, 1.5, \"hello\", True]\n",
    "my_mixed_tuple = (2, 1.5, \"bye\")\n"
   ]
  },
  {
   "cell_type": "code",
   "execution_count": 19,
   "id": "5fa4f012",
   "metadata": {},
   "outputs": [],
   "source": [
    "my_nested_list = [1, [], [3], (4, 5)]"
   ]
  },
  {
   "cell_type": "markdown",
   "id": "8c0725d9",
   "metadata": {},
   "source": [
    "## Access elements"
   ]
  },
  {
   "cell_type": "code",
   "execution_count": 17,
   "id": "491aedbd",
   "metadata": {},
   "outputs": [
    {
     "data": {
      "text/plain": [
       "(1, 1.5)"
      ]
     },
     "execution_count": 17,
     "metadata": {},
     "output_type": "execute_result"
    }
   ],
   "source": [
    "my_mixed_list[0], my_mixed_tuple[1]"
   ]
  },
  {
   "cell_type": "code",
   "execution_count": 21,
   "id": "dfb317fb",
   "metadata": {},
   "outputs": [
    {
     "data": {
      "text/plain": [
       "(True, 1.5)"
      ]
     },
     "execution_count": 21,
     "metadata": {},
     "output_type": "execute_result"
    }
   ],
   "source": [
    "my_mixed_list[-1], my_mixed_tuple[-2]"
   ]
  },
  {
   "cell_type": "code",
   "execution_count": 27,
   "id": "7ba3ef71",
   "metadata": {},
   "outputs": [],
   "source": [
    "my_mixed_list = [1, 1.5, \"hello\", True, 3, 5, 6, 7]\n",
    "my_mixed_tuple = (2, 1.5, \"bye\")"
   ]
  },
  {
   "cell_type": "code",
   "execution_count": 24,
   "id": "abd77e37",
   "metadata": {},
   "outputs": [
    {
     "data": {
      "text/plain": [
       "[1.5, 'hello', True]"
      ]
     },
     "execution_count": 24,
     "metadata": {},
     "output_type": "execute_result"
    }
   ],
   "source": [
    "# access multiple lements \n",
    "my_mixed_list[1:]"
   ]
  },
  {
   "cell_type": "code",
   "execution_count": 25,
   "id": "03ff00f9",
   "metadata": {},
   "outputs": [
    {
     "data": {
      "text/plain": [
       "(1.5, 'bye')"
      ]
     },
     "execution_count": 25,
     "metadata": {},
     "output_type": "execute_result"
    }
   ],
   "source": [
    "my_mixed_tuple[1:]"
   ]
  },
  {
   "cell_type": "code",
   "execution_count": 29,
   "id": "09b18fc6",
   "metadata": {},
   "outputs": [
    {
     "data": {
      "text/plain": [
       "[1, 1.5, 'hello', True, 3, 5]"
      ]
     },
     "execution_count": 29,
     "metadata": {},
     "output_type": "execute_result"
    }
   ],
   "source": [
    "my_mixed_list[0:6] # we don't return the end index's element"
   ]
  },
  {
   "cell_type": "code",
   "execution_count": null,
   "id": "4e161fe3",
   "metadata": {},
   "outputs": [
    {
     "data": {
      "text/plain": [
       "[1, 'hello', 3]"
      ]
     },
     "execution_count": 28,
     "metadata": {},
     "output_type": "execute_result"
    }
   ],
   "source": [
    "my_mixed_list[0:6:2] # from index 0 until "
   ]
  },
  {
   "cell_type": "code",
   "execution_count": 30,
   "id": "5e12feb3",
   "metadata": {},
   "outputs": [
    {
     "data": {
      "text/plain": [
       "[1, 1.5, 'hello', True, 3, 5, 6, 7]"
      ]
     },
     "execution_count": 30,
     "metadata": {},
     "output_type": "execute_result"
    }
   ],
   "source": [
    "my_mixed_list[:]"
   ]
  },
  {
   "cell_type": "code",
   "execution_count": null,
   "id": "ddd9e311",
   "metadata": {},
   "outputs": [
    {
     "data": {
      "text/plain": [
       "[7, 6, 5, 3, True, 'hello', 1.5, 1]"
      ]
     },
     "execution_count": 31,
     "metadata": {},
     "output_type": "execute_result"
    }
   ],
   "source": [
    "my_mixed_list[::-1] # opposite"
   ]
  },
  {
   "cell_type": "code",
   "execution_count": null,
   "id": "c66d8e61",
   "metadata": {},
   "outputs": [
    {
     "data": {
      "text/plain": [
       "('bye', 1.5, 2)"
      ]
     },
     "execution_count": 32,
     "metadata": {},
     "output_type": "execute_result"
    }
   ],
   "source": [
    "my_mixed_tuple[::-1] #output is also immutable; :: = whole list, -1 = step minus one"
   ]
  },
  {
   "cell_type": "code",
   "execution_count": 33,
   "id": "7ee73e1c",
   "metadata": {},
   "outputs": [
    {
     "data": {
      "text/plain": [
       "()"
      ]
     },
     "execution_count": 33,
     "metadata": {},
     "output_type": "execute_result"
    }
   ],
   "source": [
    "my_mixed_tuple[0:3:-1]"
   ]
  },
  {
   "cell_type": "code",
   "execution_count": 34,
   "id": "c7c7c813",
   "metadata": {},
   "outputs": [
    {
     "data": {
      "text/plain": [
       "('bye', 1.5, 2)"
      ]
     },
     "execution_count": 34,
     "metadata": {},
     "output_type": "execute_result"
    }
   ],
   "source": [
    "my_mixed_tuple[-1::-1]"
   ]
  },
  {
   "cell_type": "markdown",
   "id": "9cc90394",
   "metadata": {},
   "source": [
    "## Checking if element is there"
   ]
  },
  {
   "cell_type": "code",
   "execution_count": 35,
   "id": "731dd33f",
   "metadata": {},
   "outputs": [],
   "source": [
    "my_mixed_list = [1, 1.5, \"hello\", True, 3, 5, 6, 7]\n",
    "my_mixed_tuple = (2, 1.5, \"bye\")"
   ]
  },
  {
   "cell_type": "code",
   "execution_count": 36,
   "id": "6a2ef7da",
   "metadata": {},
   "outputs": [
    {
     "data": {
      "text/plain": [
       "True"
      ]
     },
     "execution_count": 36,
     "metadata": {},
     "output_type": "execute_result"
    }
   ],
   "source": [
    "3 in my_mixed_list"
   ]
  },
  {
   "cell_type": "code",
   "execution_count": null,
   "id": "c274b1c2",
   "metadata": {},
   "outputs": [
    {
     "name": "stdout",
     "output_type": "stream",
     "text": [
      "\u001b[31mType:\u001b[39m        tuple\n",
      "\u001b[31mString form:\u001b[39m (2, 1.5, 'bye')\n",
      "\u001b[31mLength:\u001b[39m      3\n",
      "\u001b[31mDocstring:\u001b[39m  \n",
      "Built-in immutable sequence.\n",
      "\n",
      "If no argument is given, the constructor returns an empty tuple.\n",
      "If iterable is specified the tuple is initialized from iterable's items.\n",
      "\n",
      "If the argument is a tuple, the return value is the same object."
     ]
    }
   ],
   "source": [
    "my_mixed_tuple? #describes the entity"
   ]
  },
  {
   "cell_type": "code",
   "execution_count": null,
   "id": "3d75aee6",
   "metadata": {},
   "outputs": [
    {
     "name": "stdout",
     "output_type": "stream",
     "text": [
      "\u001b[31mType:\u001b[39m        tuple\n",
      "\u001b[31mString form:\u001b[39m (2, 1.5, 'bye')\n",
      "\u001b[31mLength:\u001b[39m      3\n",
      "\u001b[31mDocstring:\u001b[39m  \n",
      "Built-in immutable sequence.\n",
      "\n",
      "If no argument is given, the constructor returns an empty tuple.\n",
      "If iterable is specified the tuple is initialized from iterable's items.\n",
      "\n",
      "If the argument is a tuple, the return value is the same object."
     ]
    }
   ],
   "source": [
    "my_mixed_tuple?? #provides more info like source code"
   ]
  },
  {
   "cell_type": "markdown",
   "id": "fcd0c1be",
   "metadata": {},
   "source": [
    "## Methods for lists and tuples"
   ]
  },
  {
   "cell_type": "code",
   "execution_count": 54,
   "id": "f8469657",
   "metadata": {},
   "outputs": [],
   "source": [
    "new_list = [1, 2, 3, 4, 6, 7, 5, 5, 5, 5]\n",
    "new_tuple = (4, 5, 6, 7)"
   ]
  },
  {
   "cell_type": "code",
   "execution_count": null,
   "id": "de6c92bd",
   "metadata": {},
   "outputs": [
    {
     "data": {
      "text/plain": [
       "[1, 2, 3, 4]"
      ]
     },
     "execution_count": 41,
     "metadata": {},
     "output_type": "execute_result"
    }
   ],
   "source": [
    "new_list.copy() #method: an action or (funcion) that can be called on this particular data type"
   ]
  },
  {
   "cell_type": "code",
   "execution_count": 42,
   "id": "5bf96579",
   "metadata": {},
   "outputs": [],
   "source": [
    "new_list.append(5)"
   ]
  },
  {
   "cell_type": "code",
   "execution_count": 43,
   "id": "3358af41",
   "metadata": {},
   "outputs": [
    {
     "data": {
      "text/plain": [
       "[1, 2, 3, 4, 5]"
      ]
     },
     "execution_count": 43,
     "metadata": {},
     "output_type": "execute_result"
    }
   ],
   "source": [
    "new_list"
   ]
  },
  {
   "cell_type": "code",
   "execution_count": 49,
   "id": "e3337806",
   "metadata": {},
   "outputs": [
    {
     "data": {
      "text/plain": [
       "0"
      ]
     },
     "execution_count": 49,
     "metadata": {},
     "output_type": "execute_result"
    }
   ],
   "source": [
    "new_tuple.count(3)"
   ]
  },
  {
   "cell_type": "code",
   "execution_count": 50,
   "id": "c41d4a3d",
   "metadata": {},
   "outputs": [
    {
     "data": {
      "text/plain": [
       "4"
      ]
     },
     "execution_count": 50,
     "metadata": {},
     "output_type": "execute_result"
    }
   ],
   "source": [
    "new_list.count(5)"
   ]
  },
  {
   "cell_type": "code",
   "execution_count": 55,
   "id": "f4a7729c",
   "metadata": {},
   "outputs": [
    {
     "data": {
      "text/plain": [
       "6"
      ]
     },
     "execution_count": 55,
     "metadata": {},
     "output_type": "execute_result"
    }
   ],
   "source": [
    "new_list.index(5) #the index of the first encounter of 5"
   ]
  },
  {
   "cell_type": "code",
   "execution_count": 56,
   "id": "33ba1549",
   "metadata": {},
   "outputs": [
    {
     "data": {
      "text/plain": [
       "1"
      ]
     },
     "execution_count": 56,
     "metadata": {},
     "output_type": "execute_result"
    }
   ],
   "source": [
    "new_tuple.index(5)"
   ]
  },
  {
   "cell_type": "code",
   "execution_count": null,
   "id": "4c35c2e6",
   "metadata": {},
   "outputs": [
    {
     "data": {
      "text/plain": [
       "10"
      ]
     },
     "execution_count": 58,
     "metadata": {},
     "output_type": "execute_result"
    }
   ],
   "source": [
    "len(new_list) #lenght of elements"
   ]
  },
  {
   "cell_type": "code",
   "execution_count": null,
   "id": "200a47a7",
   "metadata": {},
   "outputs": [
    {
     "data": {
      "text/plain": [
       "4"
      ]
     },
     "execution_count": 62,
     "metadata": {},
     "output_type": "execute_result"
    }
   ],
   "source": [
    "len(new_tuple) #number of elements (length)"
   ]
  },
  {
   "cell_type": "code",
   "execution_count": null,
   "id": "9c20cab3",
   "metadata": {},
   "outputs": [
    {
     "data": {
      "text/plain": [
       "2"
      ]
     },
     "execution_count": 66,
     "metadata": {},
     "output_type": "execute_result"
    }
   ],
   "source": [
    "new_tuple.index(6) #method (function) if you call it, you have to put perentheses"
   ]
  },
  {
   "cell_type": "code",
   "execution_count": 70,
   "id": "3af1c9ef",
   "metadata": {},
   "outputs": [
    {
     "data": {
      "text/plain": [
       "[1, 2, 3, 4, 6, 7, 5, 5, 5, 5, 3, 3, 3]"
      ]
     },
     "execution_count": 70,
     "metadata": {},
     "output_type": "execute_result"
    }
   ],
   "source": [
    "new_list.append(3) #modified object in place\n",
    "new_list"
   ]
  },
  {
   "cell_type": "code",
   "execution_count": 71,
   "id": "264670c6",
   "metadata": {},
   "outputs": [
    {
     "data": {
      "text/plain": [
       "False"
      ]
     },
     "execution_count": 71,
     "metadata": {},
     "output_type": "execute_result"
    }
   ],
   "source": [
    "len(new_tuple) == 3"
   ]
  },
  {
   "cell_type": "markdown",
   "id": "a7ccf86a",
   "metadata": {},
   "source": [
    "## Lists and what we can do with them"
   ]
  },
  {
   "cell_type": "markdown",
   "id": "dbd21a56",
   "metadata": {},
   "source": [
    "new_list.append(3) #inserts element in the end "
   ]
  },
  {
   "cell_type": "code",
   "execution_count": 78,
   "id": "7b54123e",
   "metadata": {},
   "outputs": [],
   "source": [
    "new_list.insert(5, \"hi hi\") "
   ]
  },
  {
   "cell_type": "code",
   "execution_count": 73,
   "id": "d1e2e363",
   "metadata": {},
   "outputs": [
    {
     "data": {
      "text/plain": [
       "[1, 2, 3, 4, 6, 'hi hi', 7, 5, 5, 5, 5, 3, 3, 3]"
      ]
     },
     "execution_count": 73,
     "metadata": {},
     "output_type": "execute_result"
    }
   ],
   "source": [
    "new_list"
   ]
  },
  {
   "cell_type": "code",
   "execution_count": null,
   "id": "1de83613",
   "metadata": {},
   "outputs": [],
   "source": [
    "new_list.remove(5)"
   ]
  },
  {
   "cell_type": "code",
   "execution_count": 79,
   "id": "2e405f0e",
   "metadata": {},
   "outputs": [
    {
     "data": {
      "text/plain": [
       "[2, 3, 4, 6, 'hi hi', 'hi hi', 'hi hi', 'hi hi', 7, 5, 5, 5, 5, 3, 3, 3]"
      ]
     },
     "execution_count": 79,
     "metadata": {},
     "output_type": "execute_result"
    }
   ],
   "source": [
    "new_list"
   ]
  },
  {
   "cell_type": "code",
   "execution_count": 80,
   "id": "caea6d32",
   "metadata": {},
   "outputs": [],
   "source": [
    "new_list.remove(5)"
   ]
  },
  {
   "cell_type": "code",
   "execution_count": 81,
   "id": "1fb15bdd",
   "metadata": {},
   "outputs": [
    {
     "data": {
      "text/plain": [
       "[2, 3, 4, 6, 'hi hi', 'hi hi', 'hi hi', 'hi hi', 7, 5, 5, 5, 3, 3, 3]"
      ]
     },
     "execution_count": 81,
     "metadata": {},
     "output_type": "execute_result"
    }
   ],
   "source": [
    "new_list"
   ]
  },
  {
   "cell_type": "code",
   "execution_count": null,
   "id": "2d24e247",
   "metadata": {},
   "outputs": [
    {
     "data": {
      "text/plain": [
       "6"
      ]
     },
     "execution_count": 82,
     "metadata": {},
     "output_type": "execute_result"
    }
   ],
   "source": [
    "new_list.pop(3) "
   ]
  },
  {
   "cell_type": "code",
   "execution_count": null,
   "id": "97c1d4e9",
   "metadata": {},
   "outputs": [
    {
     "data": {
      "text/plain": [
       "'hi hi'"
      ]
     },
     "execution_count": 84,
     "metadata": {},
     "output_type": "execute_result"
    }
   ],
   "source": [
    "new_list.pop(3) #removes element with index 3 and returns this elemnet"
   ]
  },
  {
   "cell_type": "code",
   "execution_count": 85,
   "id": "b95d3ab1",
   "metadata": {},
   "outputs": [
    {
     "data": {
      "text/plain": [
       "[2, 3, 4, 'hi hi', 'hi hi', 7, 5, 5, 5, 3, 3, 3]"
      ]
     },
     "execution_count": 85,
     "metadata": {},
     "output_type": "execute_result"
    }
   ],
   "source": [
    "new_list"
   ]
  },
  {
   "cell_type": "code",
   "execution_count": null,
   "id": "68b0b198",
   "metadata": {},
   "outputs": [],
   "source": [
    "third_item = new_list.pop(3) #if funciotn returns something, yoyu can assign variable to it and do something"
   ]
  },
  {
   "cell_type": "code",
   "execution_count": 87,
   "id": "3be42073",
   "metadata": {},
   "outputs": [
    {
     "data": {
      "text/plain": [
       "'hi hi'"
      ]
     },
     "execution_count": 87,
     "metadata": {},
     "output_type": "execute_result"
    }
   ],
   "source": [
    "third_item"
   ]
  },
  {
   "cell_type": "code",
   "execution_count": 88,
   "id": "cfceb508",
   "metadata": {},
   "outputs": [],
   "source": [
    "new_list.clear()"
   ]
  },
  {
   "cell_type": "code",
   "execution_count": 89,
   "id": "1e9e34f2",
   "metadata": {},
   "outputs": [
    {
     "data": {
      "text/plain": [
       "[]"
      ]
     },
     "execution_count": 89,
     "metadata": {},
     "output_type": "execute_result"
    }
   ],
   "source": [
    "new_list"
   ]
  },
  {
   "cell_type": "code",
   "execution_count": 95,
   "id": "f5647b00",
   "metadata": {},
   "outputs": [],
   "source": [
    "new_list_1 = [1, 2, 3]\n",
    "new_list_2 = [4, 5, 6]"
   ]
  },
  {
   "cell_type": "code",
   "execution_count": 96,
   "id": "cb350b5c",
   "metadata": {},
   "outputs": [],
   "source": [
    "new_list_1.extend(new_list_2)"
   ]
  },
  {
   "cell_type": "code",
   "execution_count": 97,
   "id": "c024b1c9",
   "metadata": {},
   "outputs": [
    {
     "data": {
      "text/plain": [
       "[1, 2, 3, 4, 5, 6]"
      ]
     },
     "execution_count": 97,
     "metadata": {},
     "output_type": "execute_result"
    }
   ],
   "source": [
    "new_list_1"
   ]
  },
  {
   "cell_type": "code",
   "execution_count": 98,
   "id": "378b9b21",
   "metadata": {},
   "outputs": [],
   "source": [
    "new_list_1.sort() # modified list so it's sorted"
   ]
  },
  {
   "cell_type": "code",
   "execution_count": 99,
   "id": "68433689",
   "metadata": {},
   "outputs": [
    {
     "data": {
      "text/plain": [
       "[1, 2, 3, 4, 5, 6]"
      ]
     },
     "execution_count": 99,
     "metadata": {},
     "output_type": "execute_result"
    }
   ],
   "source": [
    "new_list_1"
   ]
  },
  {
   "cell_type": "code",
   "execution_count": 100,
   "id": "3f853fc5",
   "metadata": {},
   "outputs": [],
   "source": [
    "my_precious_list = [1, 2, 3]"
   ]
  },
  {
   "cell_type": "code",
   "execution_count": 101,
   "id": "e30ba7d4",
   "metadata": {},
   "outputs": [],
   "source": [
    "less_important_list = my_precious_list.copy()"
   ]
  },
  {
   "cell_type": "code",
   "execution_count": 102,
   "id": "a417ba57",
   "metadata": {},
   "outputs": [
    {
     "data": {
      "text/plain": [
       "[1, 2, 3]"
      ]
     },
     "execution_count": 102,
     "metadata": {},
     "output_type": "execute_result"
    }
   ],
   "source": [
    "less_important_list"
   ]
  },
  {
   "cell_type": "code",
   "execution_count": null,
   "id": "7c387a17",
   "metadata": {},
   "outputs": [],
   "source": [
    "my_precious_tuple = (1, 2, 3)\n",
    "less_important_list = "
   ]
  },
  {
   "cell_type": "markdown",
   "id": "7df74a36",
   "metadata": {},
   "source": [
    "## Comparing objects"
   ]
  },
  {
   "cell_type": "code",
   "execution_count": null,
   "id": "bdc11757",
   "metadata": {},
   "outputs": [],
   "source": [
    "new_list_1 = [1, 2, 3]\n",
    "new_list_2 = [4, 5, 6]\n",
    "new_list_3 = new_list_1.copy()\n",
    "new_list_4 = new_list_1 #alias for other list"
   ]
  },
  {
   "cell_type": "code",
   "execution_count": 107,
   "id": "5629efe0",
   "metadata": {},
   "outputs": [
    {
     "data": {
      "text/plain": [
       "False"
      ]
     },
     "execution_count": 107,
     "metadata": {},
     "output_type": "execute_result"
    }
   ],
   "source": [
    "## See if objects are equal\n",
    "\n",
    "new_list_1 == new_list_2"
   ]
  },
  {
   "cell_type": "code",
   "execution_count": null,
   "id": "cb600451",
   "metadata": {},
   "outputs": [
    {
     "data": {
      "text/plain": [
       "True"
      ]
     },
     "execution_count": 110,
     "metadata": {},
     "output_type": "execute_result"
    }
   ],
   "source": [
    "new_list_1 == new_list_3 #check and see if lists are same "
   ]
  },
  {
   "cell_type": "code",
   "execution_count": 113,
   "id": "8e0d9c77",
   "metadata": {},
   "outputs": [
    {
     "data": {
      "text/plain": [
       "False"
      ]
     },
     "execution_count": 113,
     "metadata": {},
     "output_type": "execute_result"
    }
   ],
   "source": [
    "new_list_1 is new_list_3 "
   ]
  },
  {
   "cell_type": "code",
   "execution_count": 114,
   "id": "622a7178",
   "metadata": {},
   "outputs": [
    {
     "data": {
      "text/plain": [
       "True"
      ]
     },
     "execution_count": 114,
     "metadata": {},
     "output_type": "execute_result"
    }
   ],
   "source": [
    "new_list_1 is new_list_4 "
   ]
  },
  {
   "cell_type": "markdown",
   "id": "ee381325",
   "metadata": {},
   "source": [
    "## List (Task list)\n",
    "You're planning your Monday and tasks keep changing:\n",
    "\n",
    "1. Start with your Monday tasks with 3 tasks: `tasks = <you tasks here>\n",
    "2. Add \"lunch\" at the ened (use `append`)\n",
    "3. Add \"a cup of tea\" to the beginning using (use `insert`)\n",
    "4. Remove \"email\" using `remove()`\n",
    "5. Check what your 2nd task is using indexing\n",
    "6. Print the total number of tasks using \n",
    "7. Print your first and last tasks"
   ]
  },
  {
   "cell_type": "code",
   "execution_count": 179,
   "id": "c2e2626c",
   "metadata": {},
   "outputs": [
    {
     "data": {
      "text/plain": [
       "['email', 'call', 'write friend']"
      ]
     },
     "execution_count": 179,
     "metadata": {},
     "output_type": "execute_result"
    }
   ],
   "source": [
    "tasks = [\"email\", \"call\", \"write friend\"]\n",
    "tasks\n"
   ]
  },
  {
   "cell_type": "code",
   "execution_count": 180,
   "id": "89f09810",
   "metadata": {},
   "outputs": [
    {
     "data": {
      "text/plain": [
       "['email', 'call', 'write friend', 'lunch']"
      ]
     },
     "execution_count": 180,
     "metadata": {},
     "output_type": "execute_result"
    }
   ],
   "source": [
    "tasks.append(\"lunch\")\n",
    "tasks"
   ]
  },
  {
   "cell_type": "code",
   "execution_count": 181,
   "id": "f756876e",
   "metadata": {},
   "outputs": [
    {
     "data": {
      "text/plain": [
       "['tea', 'email', 'call', 'write friend', 'lunch']"
      ]
     },
     "execution_count": 181,
     "metadata": {},
     "output_type": "execute_result"
    }
   ],
   "source": [
    "tasks.insert(0,\"tea\")\n",
    "tasks"
   ]
  },
  {
   "cell_type": "code",
   "execution_count": 182,
   "id": "df7d0195",
   "metadata": {},
   "outputs": [
    {
     "data": {
      "text/plain": [
       "['tea', 'call', 'write friend', 'lunch']"
      ]
     },
     "execution_count": 182,
     "metadata": {},
     "output_type": "execute_result"
    }
   ],
   "source": [
    "tasks.remove(\"email\")\n",
    "tasks"
   ]
  },
  {
   "cell_type": "code",
   "execution_count": 183,
   "id": "3e2eba9e",
   "metadata": {},
   "outputs": [
    {
     "data": {
      "text/plain": [
       "'write friend'"
      ]
     },
     "execution_count": 183,
     "metadata": {},
     "output_type": "execute_result"
    }
   ],
   "source": [
    "tasks[2]"
   ]
  },
  {
   "cell_type": "code",
   "execution_count": 184,
   "id": "4f972e4e",
   "metadata": {},
   "outputs": [
    {
     "data": {
      "text/plain": [
       "4"
      ]
     },
     "execution_count": 184,
     "metadata": {},
     "output_type": "execute_result"
    }
   ],
   "source": [
    "len(tasks)"
   ]
  },
  {
   "cell_type": "code",
   "execution_count": 185,
   "id": "6e3dc42d",
   "metadata": {},
   "outputs": [
    {
     "data": {
      "text/plain": [
       "('tea', 'lunch')"
      ]
     },
     "execution_count": 185,
     "metadata": {},
     "output_type": "execute_result"
    }
   ],
   "source": [
    "tasks[0], tasks[-1]"
   ]
  },
  {
   "cell_type": "code",
   "execution_count": 189,
   "id": "81fb1433",
   "metadata": {},
   "outputs": [
    {
     "data": {
      "text/plain": [
       "['tea', 'call']"
      ]
     },
     "execution_count": 189,
     "metadata": {},
     "output_type": "execute_result"
    }
   ],
   "source": [
    "tasks[0:2] #slices return lists"
   ]
  },
  {
   "cell_type": "code",
   "execution_count": 188,
   "id": "c25f2765",
   "metadata": {},
   "outputs": [
    {
     "data": {
      "text/plain": [
       "['write friend', 'lunch']"
      ]
     },
     "execution_count": 188,
     "metadata": {},
     "output_type": "execute_result"
    }
   ],
   "source": [
    "tasks[len(tasks)-2:]"
   ]
  },
  {
   "cell_type": "code",
   "execution_count": 193,
   "id": "0e2880e3",
   "metadata": {},
   "outputs": [
    {
     "data": {
      "text/plain": [
       "['lunch']"
      ]
     },
     "execution_count": 193,
     "metadata": {},
     "output_type": "execute_result"
    }
   ],
   "source": [
    "tasks[-1:2:-1]"
   ]
  },
  {
   "cell_type": "code",
   "execution_count": null,
   "id": "057bfab4",
   "metadata": {},
   "outputs": [],
   "source": []
  },
  {
   "cell_type": "markdown",
   "id": "0250f8d4",
   "metadata": {},
   "source": [
    "## Tuples (Coordinates)\n",
    "\n",
    "Work with coordinate points:\n",
    "\n",
    "1. Create a tuple `point1` with coordinates (3, 5)\n",
    "2. Create a tuple `point2` with coordinates (7, 2)\n",
    "3. Calculate the distance between points using: √((x₂-x₁)² + (y₂-y₁)²)\n",
    "4. Store both of your points in a tuple called `all_points`\n",
    "5. Print which point has the larger x-coordinate\n",
    "\n",
    "**Hint:** Use `point1[0]` to get x-coordinate, `point1[1]` for y-coordinate"
   ]
  },
  {
   "cell_type": "code",
   "execution_count": null,
   "id": "eb46b517",
   "metadata": {},
   "outputs": [],
   "source": [
    "point1 = (3, 5) #(x1, y1)\n",
    "point2 = (7, 2) #(x2, y2)"
   ]
  },
  {
   "cell_type": "code",
   "execution_count": 200,
   "id": "881324df",
   "metadata": {},
   "outputs": [
    {
     "data": {
      "text/plain": [
       "25"
      ]
     },
     "execution_count": 200,
     "metadata": {},
     "output_type": "execute_result"
    }
   ],
   "source": [
    "inside_sqrt = (point2[0] - point1[0])**2 + (point2[1] - point1[1])**2\n",
    "inside_sqrt"
   ]
  },
  {
   "cell_type": "code",
   "execution_count": 201,
   "id": "00702e98",
   "metadata": {},
   "outputs": [],
   "source": [
    "import math "
   ]
  },
  {
   "cell_type": "code",
   "execution_count": 202,
   "id": "8e715a6e",
   "metadata": {},
   "outputs": [
    {
     "data": {
      "text/plain": [
       "5.0"
      ]
     },
     "execution_count": 202,
     "metadata": {},
     "output_type": "execute_result"
    }
   ],
   "source": [
    "math.sqrt(inside_sqrt)"
   ]
  },
  {
   "cell_type": "markdown",
   "id": "516c394d",
   "metadata": {},
   "source": [
    "## What we can do with sets and dictionaries "
   ]
  },
  {
   "cell_type": "code",
   "execution_count": 203,
   "id": "c4425d61",
   "metadata": {},
   "outputs": [
    {
     "data": {
      "text/plain": [
       "{1, 2, 5, 6}"
      ]
     },
     "execution_count": 203,
     "metadata": {},
     "output_type": "execute_result"
    }
   ],
   "source": [
    "my_set = {1, 2, 2, 2, 5, 6,}\n",
    "my_set"
   ]
  },
  {
   "cell_type": "code",
   "execution_count": 204,
   "id": "674bfded",
   "metadata": {},
   "outputs": [
    {
     "data": {
      "text/plain": [
       "set()"
      ]
     },
     "execution_count": 204,
     "metadata": {},
     "output_type": "execute_result"
    }
   ],
   "source": [
    "empty_set = set()\n",
    "empty_set"
   ]
  },
  {
   "cell_type": "code",
   "execution_count": 205,
   "id": "14cdb2ba",
   "metadata": {},
   "outputs": [],
   "source": [
    "#we can add elements to sets\n",
    "empty_set.add(4)"
   ]
  },
  {
   "cell_type": "code",
   "execution_count": 206,
   "id": "96416048",
   "metadata": {},
   "outputs": [
    {
     "data": {
      "text/plain": [
       "{4}"
      ]
     },
     "execution_count": 206,
     "metadata": {},
     "output_type": "execute_result"
    }
   ],
   "source": [
    "empty_set"
   ]
  },
  {
   "cell_type": "code",
   "execution_count": 207,
   "id": "eed8a3fe",
   "metadata": {},
   "outputs": [],
   "source": [
    "my_set.remove(2)"
   ]
  },
  {
   "cell_type": "code",
   "execution_count": 208,
   "id": "68b278aa",
   "metadata": {},
   "outputs": [
    {
     "data": {
      "text/plain": [
       "{1, 5, 6}"
      ]
     },
     "execution_count": 208,
     "metadata": {},
     "output_type": "execute_result"
    }
   ],
   "source": [
    "my_set"
   ]
  },
  {
   "cell_type": "code",
   "execution_count": null,
   "id": "1cd75877",
   "metadata": {},
   "outputs": [
    {
     "data": {
      "text/plain": [
       "1"
      ]
     },
     "execution_count": 210,
     "metadata": {},
     "output_type": "execute_result"
    }
   ],
   "source": [
    "my_set.pop() #removes a random element"
   ]
  },
  {
   "cell_type": "code",
   "execution_count": 211,
   "id": "6ebd7ac5",
   "metadata": {},
   "outputs": [
    {
     "data": {
      "text/plain": [
       "{5, 6}"
      ]
     },
     "execution_count": 211,
     "metadata": {},
     "output_type": "execute_result"
    }
   ],
   "source": [
    "my_set"
   ]
  },
  {
   "cell_type": "code",
   "execution_count": 212,
   "id": "eade308b",
   "metadata": {},
   "outputs": [
    {
     "data": {
      "text/plain": [
       "{5, 6, 15}"
      ]
     },
     "execution_count": 212,
     "metadata": {},
     "output_type": "execute_result"
    }
   ],
   "source": [
    "my_set.add(15)\n",
    "my_set"
   ]
  },
  {
   "cell_type": "code",
   "execution_count": null,
   "id": "dbe89963",
   "metadata": {},
   "outputs": [
    {
     "ename": "KeyError",
     "evalue": "2",
     "output_type": "error",
     "traceback": [
      "\u001b[31m---------------------------------------------------------------------------\u001b[39m",
      "\u001b[31mKeyError\u001b[39m                                  Traceback (most recent call last)",
      "\u001b[36mCell\u001b[39m\u001b[36m \u001b[39m\u001b[32mIn[213]\u001b[39m\u001b[32m, line 1\u001b[39m\n\u001b[32m----> \u001b[39m\u001b[32m1\u001b[39m \u001b[43mmy_set\u001b[49m\u001b[43m.\u001b[49m\u001b[43mremove\u001b[49m\u001b[43m(\u001b[49m\u001b[32;43m2\u001b[39;49m\u001b[43m)\u001b[49m\n",
      "\u001b[31mKeyError\u001b[39m: 2"
     ]
    }
   ],
   "source": [
    "my_set.remove(2) #removes element but error if element isn't present"
   ]
  },
  {
   "cell_type": "code",
   "execution_count": 214,
   "id": "49dd609a",
   "metadata": {},
   "outputs": [],
   "source": [
    "my_set.discard(2) #removes element but silent if not present "
   ]
  },
  {
   "cell_type": "code",
   "execution_count": null,
   "id": "60c6e6b2",
   "metadata": {},
   "outputs": [
    {
     "data": {
      "text/plain": [
       "set()"
      ]
     },
     "execution_count": 215,
     "metadata": {},
     "output_type": "execute_result"
    }
   ],
   "source": [
    "my_set.clear() #clears all elements\n",
    "my_set"
   ]
  },
  {
   "cell_type": "code",
   "execution_count": 222,
   "id": "52b562bb",
   "metadata": {},
   "outputs": [],
   "source": [
    "my_set_1 = {1, 2, 2, 2, 5, \"orange\"}\n",
    "my_set_2 = {\"apple\", 5, \"banana\", \"orange\"}"
   ]
  },
  {
   "cell_type": "code",
   "execution_count": 224,
   "id": "33fe9350",
   "metadata": {},
   "outputs": [
    {
     "data": {
      "text/plain": [
       "{1, 2, 5, 'apple', 'banana', 'orange'}"
      ]
     },
     "execution_count": 224,
     "metadata": {},
     "output_type": "execute_result"
    }
   ],
   "source": [
    "my_set_1 | my_set_2"
   ]
  },
  {
   "cell_type": "code",
   "execution_count": 230,
   "id": "e2dbd838",
   "metadata": {},
   "outputs": [
    {
     "data": {
      "text/plain": [
       "{1, 2, 5, 'apple', 'banana', 'orange'}"
      ]
     },
     "execution_count": 230,
     "metadata": {},
     "output_type": "execute_result"
    }
   ],
   "source": [
    "union_set = my_set_1 | my_set_2 \n",
    "union_set"
   ]
  },
  {
   "cell_type": "code",
   "execution_count": 231,
   "id": "ca4d2b25",
   "metadata": {},
   "outputs": [
    {
     "data": {
      "text/plain": [
       "{5, 'orange'}"
      ]
     },
     "execution_count": 231,
     "metadata": {},
     "output_type": "execute_result"
    }
   ],
   "source": [
    "intersection_set = my_set_1 & my_set_2\n",
    "intersection_set"
   ]
  },
  {
   "cell_type": "code",
   "execution_count": 228,
   "id": "887f7f8e",
   "metadata": {},
   "outputs": [
    {
     "data": {
      "text/plain": [
       "{1, 2}"
      ]
     },
     "execution_count": 228,
     "metadata": {},
     "output_type": "execute_result"
    }
   ],
   "source": [
    "my_set_1 - my_set_2"
   ]
  },
  {
   "cell_type": "code",
   "execution_count": 229,
   "id": "bd0b1612",
   "metadata": {},
   "outputs": [
    {
     "data": {
      "text/plain": [
       "{1, 2}"
      ]
     },
     "execution_count": 229,
     "metadata": {},
     "output_type": "execute_result"
    }
   ],
   "source": [
    "my_set_1.difference(my_set_2)"
   ]
  },
  {
   "cell_type": "markdown",
   "id": "3560f5b8",
   "metadata": {},
   "source": [
    "## Dictionaries"
   ]
  },
  {
   "cell_type": "code",
   "execution_count": 237,
   "id": "1619d895",
   "metadata": {},
   "outputs": [],
   "source": [
    "student_info = {\n",
    "    \"name\": \"John\",\n",
    "    \"age\": 34,\n",
    "    \"subjects\": [\"Math\", \"Python\", \"Philosopy\"], \n",
    "    \"father name\": \"Bill\"\n",
    "}"
   ]
  },
  {
   "cell_type": "code",
   "execution_count": 238,
   "id": "ae0b58a9",
   "metadata": {},
   "outputs": [
    {
     "data": {
      "text/plain": [
       "'John'"
      ]
     },
     "execution_count": 238,
     "metadata": {},
     "output_type": "execute_result"
    }
   ],
   "source": [
    "student_info[\"name\"] #accessing values"
   ]
  },
  {
   "cell_type": "code",
   "execution_count": 240,
   "id": "5ce4b58c",
   "metadata": {},
   "outputs": [
    {
     "data": {
      "text/plain": [
       "'John'"
      ]
     },
     "execution_count": 240,
     "metadata": {},
     "output_type": "execute_result"
    }
   ],
   "source": [
    "student_info.get(\"name\")"
   ]
  },
  {
   "cell_type": "code",
   "execution_count": null,
   "id": "2df46384",
   "metadata": {},
   "outputs": [
    {
     "data": {
      "text/plain": [
       "'unknown'"
      ]
     },
     "execution_count": 241,
     "metadata": {},
     "output_type": "execute_result"
    }
   ],
   "source": [
    "student_info.get(\"mother name\", \"unknown\") #get allows to return default values"
   ]
  },
  {
   "cell_type": "code",
   "execution_count": null,
   "id": "94843b82",
   "metadata": {},
   "outputs": [],
   "source": [
    "student_info[\"mother name\"] = \"laura\" #modifies dictonary"
   ]
  },
  {
   "cell_type": "code",
   "execution_count": 243,
   "id": "667f17d3",
   "metadata": {},
   "outputs": [
    {
     "data": {
      "text/plain": [
       "{'name': 'John',\n",
       " 'age': 34,\n",
       " 'subjects': ['Math', 'Python', 'Philosopy'],\n",
       " 'father name': 'Bill',\n",
       " 'mother name': 'laura'}"
      ]
     },
     "execution_count": 243,
     "metadata": {},
     "output_type": "execute_result"
    }
   ],
   "source": [
    "student_info"
   ]
  },
  {
   "cell_type": "code",
   "execution_count": null,
   "id": "33e319b9",
   "metadata": {},
   "outputs": [],
   "source": [
    "student_info[\"subjects\"].append(\"Literature\") #append adds value to dictionary"
   ]
  },
  {
   "cell_type": "code",
   "execution_count": 245,
   "id": "5abd2b2e",
   "metadata": {},
   "outputs": [
    {
     "data": {
      "text/plain": [
       "{'name': 'John',\n",
       " 'age': 34,\n",
       " 'subjects': ['Math', 'Python', 'Philosopy', 'Literature'],\n",
       " 'father name': 'Bill',\n",
       " 'mother name': 'laura'}"
      ]
     },
     "execution_count": 245,
     "metadata": {},
     "output_type": "execute_result"
    }
   ],
   "source": [
    "student_info"
   ]
  },
  {
   "cell_type": "code",
   "execution_count": 246,
   "id": "fe08db05",
   "metadata": {},
   "outputs": [
    {
     "data": {
      "text/plain": [
       "dict_keys(['name', 'age', 'subjects', 'father name', 'mother name'])"
      ]
     },
     "execution_count": 246,
     "metadata": {},
     "output_type": "execute_result"
    }
   ],
   "source": [
    "student_info.keys()"
   ]
  },
  {
   "cell_type": "code",
   "execution_count": null,
   "id": "f8511fed",
   "metadata": {},
   "outputs": [
    {
     "data": {
      "text/plain": [
       "False"
      ]
     },
     "execution_count": 247,
     "metadata": {},
     "output_type": "execute_result"
    }
   ],
   "source": [
    "\"gender\" in student_info.keys() #check if a key exists "
   ]
  },
  {
   "cell_type": "code",
   "execution_count": 250,
   "id": "ffd4492e",
   "metadata": {},
   "outputs": [
    {
     "data": {
      "text/plain": [
       "{'name': 'John',\n",
       " 'age': 34,\n",
       " 'subjects': ['Math', 'Python', 'Philosopy', 'Literature'],\n",
       " 'father name': 'Bill',\n",
       " 'mother name': 'laura',\n",
       " (1, 2): 'huh?'}"
      ]
     },
     "execution_count": 250,
     "metadata": {},
     "output_type": "execute_result"
    }
   ],
   "source": [
    "student_info [(1, 2)] = \"huh?\"\n",
    "student_info"
   ]
  },
  {
   "cell_type": "code",
   "execution_count": null,
   "id": "a62eec4d",
   "metadata": {},
   "outputs": [
    {
     "ename": "TypeError",
     "evalue": "unhashable type: 'list'",
     "output_type": "error",
     "traceback": [
      "\u001b[31m---------------------------------------------------------------------------\u001b[39m",
      "\u001b[31mTypeError\u001b[39m                                 Traceback (most recent call last)",
      "\u001b[36mCell\u001b[39m\u001b[36m \u001b[39m\u001b[32mIn[251]\u001b[39m\u001b[32m, line 1\u001b[39m\n\u001b[32m----> \u001b[39m\u001b[32m1\u001b[39m \u001b[43mstudent_info\u001b[49m\u001b[43m[\u001b[49m\u001b[43m[\u001b[49m\u001b[32;43m1\u001b[39;49m\u001b[43m,\u001b[49m\u001b[43m \u001b[49m\u001b[32;43m3\u001b[39;49m\u001b[43m]\u001b[49m\u001b[43m]\u001b[49m = \u001b[33m\"\u001b[39m\u001b[33mhuh?\u001b[39m\u001b[33m\"\u001b[39m\n",
      "\u001b[31mTypeError\u001b[39m: unhashable type: 'list'"
     ]
    }
   ],
   "source": [
    "student_info[[1, 3]] = \"huh?\" #lists (mutalbe object) not allowed in dictionary"
   ]
  },
  {
   "cell_type": "code",
   "execution_count": 252,
   "id": "86aa49c1",
   "metadata": {},
   "outputs": [],
   "source": [
    "extra_student_info = {\n",
    "    \"gender\": \"male\",\n",
    "    \"city of origin\": \"Paris\"\n",
    "}"
   ]
  },
  {
   "cell_type": "code",
   "execution_count": null,
   "id": "f194505f",
   "metadata": {},
   "outputs": [],
   "source": [
    "student_info.update(extra_student_info) #similar to list.extend"
   ]
  },
  {
   "cell_type": "code",
   "execution_count": 254,
   "id": "a0adfc5f",
   "metadata": {},
   "outputs": [
    {
     "data": {
      "text/plain": [
       "{'name': 'John',\n",
       " 'age': 34,\n",
       " 'subjects': ['Math', 'Python', 'Philosopy', 'Literature'],\n",
       " 'father name': 'Bill',\n",
       " 'mother name': 'laura',\n",
       " (1, 2): 'huh?',\n",
       " 'gender': 'male',\n",
       " 'city of origin': 'Paris'}"
      ]
     },
     "execution_count": 254,
     "metadata": {},
     "output_type": "execute_result"
    }
   ],
   "source": [
    "student_info"
   ]
  },
  {
   "cell_type": "code",
   "execution_count": 256,
   "id": "3f43d197",
   "metadata": {},
   "outputs": [],
   "source": [
    "more_student_info = {\n",
    "    \"city of origin\": \"Berlin\", \n",
    "    \"country\": \"Germany\"\n",
    "}"
   ]
  },
  {
   "cell_type": "code",
   "execution_count": 257,
   "id": "21e13ee0",
   "metadata": {},
   "outputs": [],
   "source": [
    "student_info.update(more_student_info)"
   ]
  },
  {
   "cell_type": "code",
   "execution_count": 258,
   "id": "b912e735",
   "metadata": {},
   "outputs": [
    {
     "data": {
      "text/plain": [
       "{'name': 'John',\n",
       " 'age': 34,\n",
       " 'subjects': ['Math', 'Python', 'Philosopy', 'Literature'],\n",
       " 'father name': 'Bill',\n",
       " 'mother name': 'laura',\n",
       " (1, 2): 'huh?',\n",
       " 'gender': 'male',\n",
       " 'city of origin': 'Berlin',\n",
       " 'country': 'Germany'}"
      ]
     },
     "execution_count": 258,
     "metadata": {},
     "output_type": "execute_result"
    }
   ],
   "source": [
    "student_info"
   ]
  },
  {
   "cell_type": "code",
   "execution_count": 259,
   "id": "d8e8773b",
   "metadata": {},
   "outputs": [],
   "source": [
    "student_info_1 = {\n",
    "    \"name\": \"John\",\n",
    "    \"age\": 34,\n",
    "    \"subjects\": [\"Math\", \"Python\", \"Philosopy\"], \n",
    "    \"father name\": \"Bill\"\n",
    "}\n",
    "student_info_2 = {\n",
    "    \"name\": \"John\",\n",
    "    \"age\": 34,\n",
    "    \"subjects\": [\"Math\", \"Python\", \"Philosopy\"], \n",
    "    \"father name\": \"Bill\"\n",
    "}\n",
    "student_info_3 = student_info_1.copy()\n",
    "student_info_4 = student_info_1"
   ]
  },
  {
   "cell_type": "code",
   "execution_count": 261,
   "id": "c98c5072",
   "metadata": {},
   "outputs": [
    {
     "data": {
      "text/plain": [
       "True"
      ]
     },
     "execution_count": 261,
     "metadata": {},
     "output_type": "execute_result"
    }
   ],
   "source": [
    "student_info_1 == student_info_3"
   ]
  },
  {
   "cell_type": "code",
   "execution_count": 262,
   "id": "b3929e54",
   "metadata": {},
   "outputs": [
    {
     "data": {
      "text/plain": [
       "False"
      ]
     },
     "execution_count": 262,
     "metadata": {},
     "output_type": "execute_result"
    }
   ],
   "source": [
    "student_info_1 is student_info_2 "
   ]
  },
  {
   "cell_type": "code",
   "execution_count": 263,
   "id": "1aab67af",
   "metadata": {},
   "outputs": [
    {
     "data": {
      "text/plain": [
       "False"
      ]
     },
     "execution_count": 263,
     "metadata": {},
     "output_type": "execute_result"
    }
   ],
   "source": [
    "student_info_1 is student_info_4"
   ]
  },
  {
   "cell_type": "code",
   "execution_count": null,
   "id": "e0626916",
   "metadata": {},
   "outputs": [
    {
     "data": {
      "text/plain": [
       "dict_keys(['name', 'age', 'subjects', 'father name'])"
      ]
     },
     "execution_count": 264,
     "metadata": {},
     "output_type": "execute_result"
    }
   ],
   "source": [
    "student_info_1.keys() #list all keys"
   ]
  },
  {
   "cell_type": "code",
   "execution_count": null,
   "id": "a2df97c8",
   "metadata": {},
   "outputs": [
    {
     "data": {
      "text/plain": [
       "dict_values(['John', 34, ['Math', 'Python', 'Philosopy'], 'Bill'])"
      ]
     },
     "execution_count": 265,
     "metadata": {},
     "output_type": "execute_result"
    }
   ],
   "source": [
    "student_info_1.values() #list all values"
   ]
  },
  {
   "cell_type": "code",
   "execution_count": null,
   "id": "932e70f4",
   "metadata": {},
   "outputs": [
    {
     "data": {
      "text/plain": [
       "dict_items([('name', 'John'), ('age', 34), ('subjects', ['Math', 'Python', 'Philosopy']), ('father name', 'Bill')])"
      ]
     },
     "execution_count": 266,
     "metadata": {},
     "output_type": "execute_result"
    }
   ],
   "source": [
    "student_info_1.items() #list all key-value pairs"
   ]
  },
  {
   "cell_type": "code",
   "execution_count": 267,
   "id": "acd30ca7",
   "metadata": {},
   "outputs": [
    {
     "name": "stdout",
     "output_type": "stream",
     "text": [
      "name\n",
      "John\n",
      "----\n",
      "age\n",
      "34\n",
      "----\n",
      "subjects\n",
      "['Math', 'Python', 'Philosopy']\n",
      "----\n",
      "father name\n",
      "Bill\n",
      "----\n"
     ]
    }
   ],
   "source": [
    "for (key, value) in student_info_1.items():\n",
    "    print(key)\n",
    "    print(value)\n",
    "    print('----')"
   ]
  },
  {
   "cell_type": "code",
   "execution_count": null,
   "id": "935e13a4",
   "metadata": {},
   "outputs": [],
   "source": []
  }
 ],
 "metadata": {
  "kernelspec": {
   "display_name": ".venv",
   "language": "python",
   "name": "python3"
  },
  "language_info": {
   "codemirror_mode": {
    "name": "ipython",
    "version": 3
   },
   "file_extension": ".py",
   "mimetype": "text/x-python",
   "name": "python",
   "nbconvert_exporter": "python",
   "pygments_lexer": "ipython3",
   "version": "3.13.3"
  }
 },
 "nbformat": 4,
 "nbformat_minor": 5
}
