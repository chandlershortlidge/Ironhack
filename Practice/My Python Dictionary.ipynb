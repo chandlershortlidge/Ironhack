{
 "cells": [
  {
   "cell_type": "markdown",
   "id": "d11d193e",
   "metadata": {},
   "source": [
    "# Element \n",
    "\n",
    "Anything inside of a list\n",
    "ex: thing = [1, 2, 3] # these are elements\n"
   ]
  },
  {
   "cell_type": "markdown",
   "id": "676fe46d",
   "metadata": {},
   "source": [
    "### When should you use .items()?\n",
    "- Use .items() when you want to loop through a dictionary and access both the key and the value for each entry."
   ]
  },
  {
   "cell_type": "code",
   "execution_count": 4,
   "id": "b307d91e",
   "metadata": {},
   "outputs": [
    {
     "name": "stdout",
     "output_type": "stream",
     "text": [
      "name Ana\n",
      "age 25\n"
     ]
    }
   ],
   "source": [
    "dictionary = {'name': 'Ana', 'age': 25}\n",
    "\n",
    "for key, value in dictionary.items():\n",
    "    print(key, value)"
   ]
  },
  {
   "cell_type": "markdown",
   "id": "aafd6a79",
   "metadata": {},
   "source": [
    "### strip()\n",
    "- strip cleans your strings of whatever is in the (). If blank, it removes witespace. "
   ]
  },
  {
   "cell_type": "code",
   "execution_count": 5,
   "id": "58e9f701",
   "metadata": {},
   "outputs": [
    {
     "name": "stdout",
     "output_type": "stream",
     "text": [
      "Dear Hiring Manager.\n",
      "To whom it may concern.\n",
      "Greetings.\n"
     ]
    }
   ],
   "source": [
    "### Problem 6\n",
    "cover_letters = [\n",
    "    \"Dear Hiring Manager. I am excited to apply for the role. My background is in AI.\",\n",
    "    \"To whom it may concern. My experience in editing is extensive.\",\n",
    "    \"Greetings. I am passionate about data-driven storytelling.\"\n",
    "]\n",
    "\n",
    "for sentences in cover_letters:\n",
    "    split_sentences = sentences.split(\".\") # output: a list of sentences split by \".\"\n",
    "    print(split_sentences[0].strip() + \".\") # strip() removes whitespace, then concat a \".\" for a complete sentence\n",
    "    # output: \n",
    "    # Dear Hiring Manager\n",
    "    # To whom it may concern.\n",
    "    # # Greetings."
   ]
  },
  {
   "cell_type": "markdown",
   "id": "0c0eb181",
   "metadata": {},
   "source": [
    "# join()"
   ]
  },
  {
   "cell_type": "code",
   "execution_count": null,
   "id": "d0cb0829",
   "metadata": {},
   "outputs": [],
   "source": []
  },
  {
   "cell_type": "markdown",
   "id": "54f541ad",
   "metadata": {},
   "source": [
    "## What does .append() do?\n",
    " .append() is a list method that adds an item to the end of a list. You can only append one item at a time, and it goes to the end of the list."
   ]
  },
  {
   "cell_type": "code",
   "execution_count": 4,
   "id": "44f68dcb",
   "metadata": {},
   "outputs": [
    {
     "name": "stdout",
     "output_type": "stream",
     "text": [
      "['pear', 'orange', 'apple', 'banana']\n"
     ]
    }
   ],
   "source": [
    "# example \n",
    "mylist = [\"pear\", \"orange\"]\n",
    "mylist.append(\"apple\")\n",
    "mylist.append(\"banana\")\n",
    "print(mylist) # output ['apple', 'banana']\n"
   ]
  },
  {
   "cell_type": "code",
   "execution_count": 5,
   "id": "0f44df30",
   "metadata": {},
   "outputs": [
    {
     "name": "stdout",
     "output_type": "stream",
     "text": [
      "[1, 4, 9, 16, 25, 36, 49, 64, 81, 100]\n"
     ]
    }
   ],
   "source": [
    "\n",
    "numbers = [1, 2, 3, 4, 5, 6, 7, 8, 9, 10] #list\n",
    "squares = [] # creates an empty list called squares, acts as a basket where you're collecting your results.\n",
    "for number in numbers: # lops through the elements in the list\n",
    "    squares.append(number**2) # adds that squared value to the end of squares\n",
    "\n",
    "print(squares) # prints the new list, squares, which contains all the squared numbers, in order\n"
   ]
  },
  {
   "cell_type": "markdown",
   "id": "9b9bf4fa",
   "metadata": {},
   "source": [
    "# Slicing\n",
    "\n",
    "*Key phrases that scream \"SLICING!\":*\n",
    "\n",
    "\"Look at words X through Y\"\n",
    "\n",
    "\"Get elements from position A to B\"\n",
    "\n",
    "\"Show me the first 10 items\"\n",
    "\n",
    "\"Remove the last 5 elements\"\n",
    "\n",
    "\"Take everything after position X\"\n",
    "\n",
    "*The pattern:*\n",
    "\n",
    "If they want a range of items from a list → slicing\n",
    "If they give you position numbers → slicing\n",
    "\n",
    "Quick reminder:"
   ]
  },
  {
   "cell_type": "code",
   "execution_count": 5,
   "id": "71b812a1",
   "metadata": {},
   "outputs": [
    {
     "name": "stdout",
     "output_type": "stream",
     "text": [
      "[1, 2, 3, 4, 5, 6, 7, 8, 9, 10, 11]\n"
     ]
    }
   ],
   "source": [
    "list = [1, 2, 3, 4, 5, 6, 7, 8, 9, 10, 11, 12, 13, 14, 15]\n",
    "print(list[0:11]) # positions 1, 2, 3, 4, 5, 6, 7, 8, 9, 10"
   ]
  },
  {
   "cell_type": "code",
   "execution_count": null,
   "id": "59470b8c",
   "metadata": {},
   "outputs": [
    {
     "data": {
      "text/plain": [
       "[1, 2, 3, 4, 5, 6, 7, 8, 9, 10]"
      ]
     },
     "execution_count": 6,
     "metadata": {},
     "output_type": "execute_result"
    }
   ],
   "source": [
    "list = [1, 2, 3, 4, 5, 6, 7, 8, 9, 10, 11, 12, 13, 14, 15]\n",
    "list[:10]  #from start up to 10"
   ]
  },
  {
   "cell_type": "code",
   "execution_count": null,
   "id": "25272dd3",
   "metadata": {},
   "outputs": [
    {
     "data": {
      "text/plain": [
       "[11, 12, 13, 14, 15]"
      ]
     },
     "execution_count": 7,
     "metadata": {},
     "output_type": "execute_result"
    }
   ],
   "source": [
    "list = [1, 2, 3, 4, 5, 6, 7, 8, 9, 10, 11, 12, 13, 14, 15]\n",
    "list[10:]  #from  10 up to end"
   ]
  },
  {
   "cell_type": "markdown",
   "id": "26038001",
   "metadata": {},
   "source": []
  },
  {
   "cell_type": "markdown",
   "id": "1c40d0cf",
   "metadata": {},
   "source": [
    "## Modulo operator"
   ]
  },
  {
   "cell_type": "code",
   "execution_count": 6,
   "id": "0e3888dc",
   "metadata": {},
   "outputs": [
    {
     "name": "stdout",
     "output_type": "stream",
     "text": [
      "0\n",
      "1\n"
     ]
    }
   ],
   "source": [
    "# Symbol:\n",
    "# The % symbol is commonly used to represent the modulo operator in programming languages. \n",
    "# Applications:\n",
    "# Finding Remainders: Determining the remainder after division. \n",
    "# Circular Arrays: Creating repeating loops by cycling through a limited set of options. \n",
    "# Even/Odd Checks: A number is even if its modulo with 2 is 0, and odd otherwise. \n",
    "# Modular Arithmetic: Used in abstract algebra to define congruences. \n",
    "\n",
    "example1 = 10 % 2 # = 0, as the remainder of 10 divided by 2 is 0. \n",
    "print(example1) # prints 0, is even number\n",
    "\n",
    "example2 = 9 % 2 # 1, as the remainder of 9 divided by 2 [(2+2+2+2) = 8] is 1. \n",
    "print(example2) # prints 1, is odd  number\n"
   ]
  },
  {
   "cell_type": "markdown",
   "id": "f7f6249a",
   "metadata": {},
   "source": [
    "# Range"
   ]
  },
  {
   "cell_type": "code",
   "execution_count": 7,
   "id": "fdab91a5",
   "metadata": {},
   "outputs": [
    {
     "name": "stdout",
     "output_type": "stream",
     "text": [
      "[4, 16, 36, 64, 100, 144, 196, 256, 324, 400, 484, 576]\n"
     ]
    }
   ],
   "source": [
    "# Create a list with the squares of all multiples of 2 below 25\n",
    "numbers = range(2, 26, 2) #starts with 2, counts to 26 by 2 (start, stop, step)\n",
    "\n",
    "two_squares = [] # creates a container for the squared numbers\n",
    "for number in numbers:\n",
    "     two_squares.append(number**2)\n",
    "\n",
    "print(two_squares)"
   ]
  },
  {
   "cell_type": "markdown",
   "id": "9097cb67",
   "metadata": {},
   "source": [
    "# For i in range\n",
    "\n",
    "Think of range(1, number) as \"count from 1 up to (but not including) number\"\n",
    "So if number = 25:\n",
    "\n",
    "range(1, 25) gives you: 1, 2, 3, 4, 5, 6, 7, 8, 9, 10, 11, 12, 13, 14, 15, 16, 17, 18, 19, 20, 21, 22, 23, 24\n",
    "\n",
    "Then for i in range(1, 25) means:\n",
    "\n",
    "First loop: i = 1\n",
    "Second loop: i = 2\n",
    "Third loop: i = 3\n",
    "...and so on...\n",
    "Last loop: i = 24\n",
    "\n",
    "So the loop is saying: \"For each number from 1 to 24, let's call that number 'i' and do something with it.\""
   ]
  },
  {
   "cell_type": "code",
   "execution_count": 2,
   "id": "1f4ff5e4",
   "metadata": {},
   "outputs": [
    {
     "data": {
      "text/plain": [
       "143"
      ]
     },
     "execution_count": 2,
     "metadata": {},
     "output_type": "execute_result"
    }
   ],
   "source": [
    "def multiples_of_3_and_5(number):\n",
    "    emptylist = []\n",
    "    for i in range(1, number):  # 1 to number-1\n",
    "        if i % 3 == 0 or i % 5 == 0:  # if divisible by 3 OR 5\n",
    "            emptylist.append(i)\n",
    "    return sum(emptylist)\n",
    "\n",
    "mynumber = 25\n",
    "multiples_of_3_and_5(mynumber)"
   ]
  },
  {
   "cell_type": "markdown",
   "id": "f7abf484",
   "metadata": {},
   "source": [
    "## Pseudocode"
   ]
  },
  {
   "cell_type": "markdown",
   "id": "a3b6d5f2",
   "metadata": {},
   "source": [
    "**1. Write Like You’re Explaining to a Friend**\n",
    "\n",
    "- Use plain English\n",
    "\n",
    "- Focus on the steps you’d actually take if you were doing the task by hand.\n",
    "\n",
    "Example:"
   ]
  },
  {
   "cell_type": "code",
   "execution_count": 2,
   "id": "7ecd3692",
   "metadata": {},
   "outputs": [],
   "source": [
    "# Function: finding the biggest element in a list of elements\n",
    "# Set biggest to the first number in the list\n",
    "# For each number in the list:\n",
    "#     If number is bigger than biggest:\n",
    "#         Set biggest to this number\n",
    "# Return biggest\n"
   ]
  },
  {
   "cell_type": "code",
   "execution_count": 8,
   "id": "59968c8e",
   "metadata": {},
   "outputs": [
    {
     "data": {
      "text/plain": [
       "5"
      ]
     },
     "execution_count": 8,
     "metadata": {},
     "output_type": "execute_result"
    }
   ],
   "source": [
    "def find_max_element(max_list):\n",
    "    biggest = max_list[0] \n",
    "    for element in max_list:\n",
    "        if element > biggest:\n",
    "            biggest = element\n",
    "    return biggest\n",
    "\n",
    "\n",
    "max_list = [1, 2, 3, 4, 5]\n",
    "\n",
    "find_max_element(max_list)"
   ]
  },
  {
   "cell_type": "markdown",
   "id": "38dcb656",
   "metadata": {},
   "source": [
    "**2. Don’t Worry About Syntax**\n",
    "\n",
    "- No need to get variable names, indentation, or even spelling perfect.\n",
    "\n",
    "- Just make the steps clear enough that you (or someone else) could turn them into real code later.\n",
    "\n",
    "**3. Break Big Problems Into Smaller Steps**\n",
    "- If you’re stuck, just write one part, then another.\n",
    "\n",
    "- Pseudocode can be as “zoomed in” or “zoomed out” as you need.\n",
    "\n",
    "**4. Use “Magic Words” If You Don’t Know How To Do Something** \n",
    "- If you don’t know how to write a loop yet, just say:\n",
    "    \n",
    "    Loop through each item in the list\n",
    "\n",
    "- If you’re not sure how to add to a list, write:\n",
    "    \n",
    "    Add result to the new list\n",
    "\n",
    "**6. Focus on “What” not “How”**\n",
    "- What needs to happen in each step?\n",
    "\n",
    "- Don’t get distracted by how to do it in Python yet."
   ]
  },
  {
   "cell_type": "markdown",
   "id": "2cb85772",
   "metadata": {},
   "source": [
    "## When do I use an empty list?\n",
    "- When you’re collecting results: (transforming/filtering/mapping)\n",
    "\n",
    "- Start with an empty list, add things to it as you go.\n",
    "\n",
    "\n",
    "## When do I use biggest = elements[0]?\n",
    "- When you want to compare things (like finding max or min):\n",
    "\n",
    "- You need to start with a value you can compare against, so use the first item.\n",
    "\n",
    "- If you start at zero, it won’t work for lists with all negative numbers!\n",
    "\n",
    "## When do I use total = 0?\n",
    "- When you want to add things up (sum, count, etc.):\n",
    "\n",
    "- Start at zero, because zero is the identity for addition (it won’t affect your total).\n",
    "\n",
    "- Works even if the list is empty."
   ]
  },
  {
   "cell_type": "markdown",
   "id": "c1b7bc4f",
   "metadata": {},
   "source": [
    "## Dictionaries"
   ]
  },
  {
   "cell_type": "markdown",
   "id": "db2f67be",
   "metadata": {},
   "source": [
    "In Python, dictionaries are a data structure that allows storing key-value pairs. Each item in a dictionary consists of a unique key associated with a corresponding value. Dictionaries are extremely flexible and versatile, and are used to represent structured data in the form of a lookup table.\n",
    "\n",
    "In a dictionary:\n",
    "\n",
    "Keys are unique and cannot be duplicated.\n",
    "Values can be of any data type, such as integers, strings, lists, or other dictionaries.\n",
    "Dictionaries are unordered, meaning they do not maintain a specific order of items.\n",
    "Dictionaries are defined using curly braces {} and each key-value pair is separated by :"
   ]
  },
  {
   "cell_type": "markdown",
   "id": "b0d548fb",
   "metadata": {},
   "source": [
    "**The get() method is used to obtain the value associated with a specific key in the dictionary. If the key does not exist, it returns an optional default value.**"
   ]
  },
  {
   "cell_type": "code",
   "execution_count": 8,
   "id": "79c4074d",
   "metadata": {},
   "outputs": [
    {
     "name": "stdout",
     "output_type": "stream",
     "text": [
      "Ana\n"
     ]
    }
   ],
   "source": [
    "dictionary = {'name': 'Ana', 'age': 25}\n",
    "value = dictionary.get('name') # gets the value ('ana') from the key ('name')\n",
    "print(value)"
   ]
  },
  {
   "cell_type": "code",
   "execution_count": 9,
   "id": "674b0334",
   "metadata": {},
   "outputs": [
    {
     "name": "stdout",
     "output_type": "stream",
     "text": [
      "dict_keys(['name', 'age'])\n"
     ]
    }
   ],
   "source": [
    "dictionary = {'name': 'Ana', 'age': 25}\n",
    "value = dictionary.keys()\n",
    "print(value)"
   ]
  },
  {
   "cell_type": "code",
   "execution_count": 10,
   "id": "fa17f06f",
   "metadata": {},
   "outputs": [
    {
     "name": "stdout",
     "output_type": "stream",
     "text": [
      "dict_values(['Ana', 25])\n"
     ]
    }
   ],
   "source": [
    "dictionary = {'name': 'Ana', 'age': 25}\n",
    "value = dictionary.values()\n",
    "print(value)"
   ]
  },
  {
   "cell_type": "markdown",
   "id": "8d2dbd78",
   "metadata": {},
   "source": [
    "**Append dictionary"
   ]
  },
  {
   "cell_type": "code",
   "execution_count": 11,
   "id": "a5302925",
   "metadata": {},
   "outputs": [],
   "source": [
    "people = [\n",
    "    {\n",
    "        \"name\": \"Juan\",\n",
    "        \"age\": 34,\n",
    "        \"n_kids\": 2\n",
    "    },\n",
    "    {\n",
    "        \"name\": \"Pepe\",\n",
    "        \"age\": 27,\n",
    "        \"n_kids\": 0\n",
    "    },\n",
    "    {\n",
    "        \"name\": \"Sonia\",\n",
    "        \"age\": 41,\n",
    "        \"n_kids\": 1\n",
    "    },\n",
    "    {\n",
    "        \"name\": \"Lucía\",\n",
    "        \"age\": 22,\n",
    "        \"n_kids\": 2\n",
    "    },\n",
    "    {\n",
    "        \"name\": \"Leo\",\n",
    "        \"age\": 55,\n",
    "        \"n_kids\": 5\n",
    "    }\n",
    "]"
   ]
  },
  {
   "cell_type": "code",
   "execution_count": 12,
   "id": "9c96da95",
   "metadata": {},
   "outputs": [
    {
     "name": "stdout",
     "output_type": "stream",
     "text": [
      "[{'name': 'Juan', 'age': 34, 'n_kids': 2}, {'name': 'Pepe', 'age': 27, 'n_kids': 0}, {'name': 'Sonia', 'age': 41, 'n_kids': 2}, {'name': 'Lucía', 'age': 22, 'n_kids': 3}, {'name': 'Leo', 'age': 55, 'n_kids': 5}]\n"
     ]
    }
   ],
   "source": [
    "updated_people = [] # create a new list\n",
    "for persons in people: # for each itteration (persons) in list (people)\n",
    "    if persons.get(\"name\").endswith(\"a\"): # get the names that end with a\n",
    "        new_dictionary =  { # create a new dictionary \n",
    "        \"name\": persons[\"name\"], # replace static keys with adjustable keys\n",
    "        \"age\": persons[\"age\"],\n",
    "        \"n_kids\": persons[\"n_kids\"]+1 \n",
    "        }\n",
    "        updated_people.append(new_dictionary) # append the list with new info in new_dictionary\n",
    "    else: # else if names don't ned in a, append new list with itterations from original list\n",
    "        updated_people.append(persons)\n",
    "\n",
    "print(updated_people) # print appended list with {itterations}\n",
    "\n",
    "# create a list\n",
    "# create a diciionary"
   ]
  },
  {
   "cell_type": "markdown",
   "id": "d4499974",
   "metadata": {},
   "source": [
    "# Count\n",
    "\n",
    "count = 0 is creating a variable called count and setting its starting value to 0.\n",
    "\n",
    "Think of it like having a piece of paper where you're going to keep track of your running total. You start by writing \"0\" on that paper.\n",
    "\n",
    "Then, every time you find whatever you're looking for in your loop, it erases your previous number and adds a new number.\n",
    "\n",
    "The count variable is just your \"running total\" - it keeps track of the sum so far.\n",
    "Does that make sense? \n",
    "\n",
    "It's like a scoreboard that starts at 0 and keeps adding up points as you go."
   ]
  },
  {
   "cell_type": "code",
   "execution_count": 13,
   "id": "cad61b9f",
   "metadata": {},
   "outputs": [
    {
     "name": "stdout",
     "output_type": "stream",
     "text": [
      "5\n"
     ]
    }
   ],
   "source": [
    "people = [\n",
    "    {\n",
    "        \"name\": \"Juan\",\n",
    "        \"age\": 34,\n",
    "        \"n_kids\": 2\n",
    "    },\n",
    "    {\n",
    "        \"name\": \"Pepe\",\n",
    "        \"age\": 27,\n",
    "        \"n_kids\": 0\n",
    "    },\n",
    "    {\n",
    "        \"name\": \"Sonia\",\n",
    "        \"age\": 41,\n",
    "        \"n_kids\": 1\n",
    "    },\n",
    "    {\n",
    "        \"name\": \"Lucía\",\n",
    "        \"age\": 22,\n",
    "        \"n_kids\": 2\n",
    "    },\n",
    "    {\n",
    "        \"name\": \"Leo\",\n",
    "        \"age\": 55,\n",
    "        \"n_kids\": 5\n",
    "    }\n",
    "]\n",
    "count = 0 \n",
    "for persons in people:\n",
    "    if persons.get(\"name\"):\n",
    "        count += 1 # counting the number of people ('name')\n",
    "\n",
    "print(count)"
   ]
  },
  {
   "cell_type": "markdown",
   "id": "3b3fd5c8",
   "metadata": {},
   "source": [
    "**How many kids do they have in total?**"
   ]
  },
  {
   "cell_type": "code",
   "execution_count": 14,
   "id": "128b1357",
   "metadata": {},
   "outputs": [
    {
     "name": "stdout",
     "output_type": "stream",
     "text": [
      "10\n"
     ]
    }
   ],
   "source": [
    "count = 0 # sets counter to 0 \n",
    "for persons in people: # for each dictoinary {persons} entry in the [list] people\n",
    "    if persons.get(\"n_kids\"): # if {persons} has \"n_kids\" >0 get those\n",
    "        count += persons.get(\"n_kids\") # then count = count + n_kids to add each count to next n_kid\n",
    "\n",
    "print(count) # prints 10"
   ]
  },
  {
   "cell_type": "markdown",
   "id": "68517a67",
   "metadata": {},
   "source": [
    "## For Loop and List Comprehension"
   ]
  },
  {
   "cell_type": "markdown",
   "id": "4fa22f7e",
   "metadata": {},
   "source": [
    "**Square using a For Loop**"
   ]
  },
  {
   "cell_type": "code",
   "execution_count": 15,
   "id": "21c62ad5",
   "metadata": {},
   "outputs": [
    {
     "data": {
      "text/plain": [
       "[1, 4, 9]"
      ]
     },
     "execution_count": 15,
     "metadata": {},
     "output_type": "execute_result"
    }
   ],
   "source": [
    "numbers = [1, 2, 3]\n",
    "square_number = [] \n",
    "for number in numbers:\n",
    "    square_number.append(number**2)\n",
    "\n",
    "square_number"
   ]
  },
  {
   "cell_type": "markdown",
   "id": "2becdb8f",
   "metadata": {},
   "source": [
    "**Square using List Comprehension**"
   ]
  },
  {
   "cell_type": "code",
   "execution_count": 16,
   "id": "1fb26a69",
   "metadata": {},
   "outputs": [
    {
     "data": {
      "text/plain": [
       "[1, 4, 9]"
      ]
     },
     "execution_count": 16,
     "metadata": {},
     "output_type": "execute_result"
    }
   ],
   "source": [
    "square_number = [number**2 for number in numbers]\n",
    "square_number "
   ]
  },
  {
   "cell_type": "markdown",
   "id": "e303a687",
   "metadata": {},
   "source": [
    "For loop version step by step:\n",
    "\n",
    "You start with an empty list\n",
    "You loop through each word\n",
    "For each word, you do something to it (replace \"a\" with \"e\")\n",
    "You take that modified word and append it to your list\n",
    "\n",
    "Now, list comprehension follows the exact same logic, just rearranged:\n",
    "\n",
    "What do you want to collect? (The thing you were appending)\n",
    "Where are you getting it from? (Your loop part)\n",
    "Any conditions? (If you had an if statement)"
   ]
  },
  {
   "cell_type": "markdown",
   "id": "20ea1a7c",
   "metadata": {},
   "source": [
    "## If / Else in comprehension"
   ]
  },
  {
   "cell_type": "code",
   "execution_count": 17,
   "id": "156ca0ea",
   "metadata": {},
   "outputs": [
    {
     "ename": "NameError",
     "evalue": "name 'i' is not defined",
     "output_type": "error",
     "traceback": [
      "\u001b[31m---------------------------------------------------------------------------\u001b[39m",
      "\u001b[31mNameError\u001b[39m                                 Traceback (most recent call last)",
      "\u001b[36mCell\u001b[39m\u001b[36m \u001b[39m\u001b[32mIn[17]\u001b[39m\u001b[32m, line 12\u001b[39m\n\u001b[32m      8\u001b[39m \u001b[38;5;28;01mfor\u001b[39;00m word \u001b[38;5;129;01min\u001b[39;00m list_of_words:\n\u001b[32m      9\u001b[39m     \u001b[38;5;66;03m# Check if the length of the city name is greater than 6 characters\u001b[39;00m\n\u001b[32m     10\u001b[39m     \u001b[38;5;28;01mif\u001b[39;00m \u001b[38;5;28mlen\u001b[39m(word) > \u001b[32m6\u001b[39m:\n\u001b[32m     11\u001b[39m         \u001b[38;5;66;03m# If it is, convert the city name to uppercase and append to new_list\u001b[39;00m\n\u001b[32m---> \u001b[39m\u001b[32m12\u001b[39m         new_list.append(\u001b[43mi\u001b[49m.upper())\n\u001b[32m     13\u001b[39m     \u001b[38;5;28;01melse\u001b[39;00m:\n\u001b[32m     14\u001b[39m         \u001b[38;5;66;03m# If it's not, convert the city name to lowercase and append to new_list\u001b[39;00m\n\u001b[32m     15\u001b[39m         new_list.append(i.lower())\n",
      "\u001b[31mNameError\u001b[39m: name 'i' is not defined"
     ]
    }
   ],
   "source": [
    "# Original list of city names\n",
    "list_of_words = [\"Barcelona\", \"Madrid\", \"Girona\", \"Murcia\"]\n",
    "\n",
    "# Initialize an empty list to store modified city names\n",
    "new_list = []\n",
    "\n",
    "# Iterate through each city name in the original list\n",
    "for word in list_of_words:\n",
    "    # Check if the length of the city name is greater than 6 characters\n",
    "    if len(word) > 6:\n",
    "        # If it is, convert the city name to uppercase and append to new_list\n",
    "        new_list.append(i.upper())\n",
    "    else:\n",
    "        # If it's not, convert the city name to lowercase and append to new_list\n",
    "        new_list.append(i.lower())\n",
    "\n",
    "# The new_list contains the modified city names\n",
    "new_list"
   ]
  },
  {
   "cell_type": "code",
   "execution_count": null,
   "id": "616aa08f",
   "metadata": {},
   "outputs": [
    {
     "data": {
      "text/plain": [
       "['BARCELONA', 'madrid', 'girona', 'murcia']"
      ]
     },
     "execution_count": 15,
     "metadata": {},
     "output_type": "execute_result"
    }
   ],
   "source": [
    "transformed_cities = [word.upper() if len(word) > 6 else word.lower() for word in list_of_words]\n",
    "\n",
    "transformed_cities"
   ]
  },
  {
   "cell_type": "markdown",
   "id": "fe2a5743",
   "metadata": {},
   "source": [
    "## Nested list comprehensions"
   ]
  },
  {
   "cell_type": "code",
   "execution_count": 18,
   "id": "014c9326",
   "metadata": {},
   "outputs": [
    {
     "data": {
      "text/plain": [
       "[[['Yes', 'No'], ['Good', 'Bad', 'Average']]]"
      ]
     },
     "execution_count": 18,
     "metadata": {},
     "output_type": "execute_result"
    }
   ],
   "source": [
    "# Each person has multiple responses to multiple questions\n",
    "survey_responses = [\n",
    "    [[\"Yes\", \"No\"], [\"Good\", \"Bad\", \"Average\"]],  # Person 1\n",
    "]\n",
    "# Need: flat list of all individual responses\n",
    "\n",
    "survey_responses"
   ]
  },
  {
   "cell_type": "markdown",
   "id": "053bdc16",
   "metadata": {},
   "source": [
    "For loop"
   ]
  },
  {
   "cell_type": "code",
   "execution_count": null,
   "id": "42aca5cd",
   "metadata": {},
   "outputs": [
    {
     "name": "stdout",
     "output_type": "stream",
     "text": [
      "['Yes', 'No', 'Good', 'Bad', 'Average']\n"
     ]
    }
   ],
   "source": [
    "new_responses = []  # Create an empty list to store the flattened elements.\n",
    "\n",
    "for outer_list in survey_responses:  # Iterate through the outer list yellow in survey responses\n",
    "    for inner_list in outer_list: #itterates through inner list (blue)\n",
    "        for answers in inner_list: # itterates through strings (individual answers)\n",
    "            new_responses.append(answers) # appends empty list with answers\n",
    "            \n",
    "\n",
    "print(new_responses) "
   ]
  },
  {
   "cell_type": "markdown",
   "id": "2d98926f",
   "metadata": {},
   "source": [
    "The structure should be: [what_you_want for loop1 for loop2 for loop3]"
   ]
  },
  {
   "cell_type": "code",
   "execution_count": 24,
   "id": "28f6227e",
   "metadata": {},
   "outputs": [
    {
     "data": {
      "text/plain": [
       "['Yes', 'No', 'Good', 'Bad', 'Average']"
      ]
     },
     "execution_count": 24,
     "metadata": {},
     "output_type": "execute_result"
    }
   ],
   "source": [
    "new_responses = [answers for outer_list in survey_responses for inner_list in outer_list for answers in inner_list]\n",
    "new_responses"
   ]
  },
  {
   "cell_type": "markdown",
   "id": "934ea1e7",
   "metadata": {},
   "source": [
    "## Dictionary comprehensions\n",
    "\n",
    "**Example: Write a dictionary containing the length of each word.**"
   ]
  },
  {
   "cell_type": "markdown",
   "id": "087435a2",
   "metadata": {},
   "source": [
    "Dictionary For loop"
   ]
  },
  {
   "cell_type": "code",
   "execution_count": null,
   "id": "5f4f17db",
   "metadata": {},
   "outputs": [
    {
     "data": {
      "text/plain": [
       "{'Barcelona': 9, 'Madrid': 6, 'Girona': 6, 'Murcia': 6}"
      ]
     },
     "execution_count": 40,
     "metadata": {},
     "output_type": "execute_result"
    }
   ],
   "source": [
    "list_of_words = [\"Barcelona\", \"Madrid\", \"Girona\", \"Murcia\"]\n",
    "\n",
    "dict_list = {} # empty dictionary\n",
    "\n",
    "for words in list_of_words: # for loop\n",
    "    dict_list[words] = len(words) # use the word as the key in the dictionary -> dict_list[words]\n",
    "    # and assign the length of that word as the value -> = len(words) \n",
    "\n",
    "dict_list"
   ]
  },
  {
   "cell_type": "markdown",
   "id": "bcf7cc63",
   "metadata": {},
   "source": [
    "Dictionary List Comprehension"
   ]
  },
  {
   "cell_type": "markdown",
   "id": "b2506f8b",
   "metadata": {},
   "source": [
    "For dictionary comprehensions, you need to specify both the key AND the value:"
   ]
  },
  {
   "cell_type": "code",
   "execution_count": null,
   "id": "c51bffb4",
   "metadata": {},
   "outputs": [
    {
     "ename": "NameError",
     "evalue": "name 'collection' is not defined",
     "output_type": "error",
     "traceback": [
      "\u001b[31m---------------------------------------------------------------------------\u001b[39m",
      "\u001b[31mNameError\u001b[39m                                 Traceback (most recent call last)",
      "\u001b[36mCell\u001b[39m\u001b[36m \u001b[39m\u001b[32mIn[38]\u001b[39m\u001b[32m, line 1\u001b[39m\n\u001b[32m----> \u001b[39m\u001b[32m1\u001b[39m example = {key: value \u001b[38;5;28;01mfor\u001b[39;00m item \u001b[38;5;129;01min\u001b[39;00m \u001b[43mcollection\u001b[49m}\n",
      "\u001b[31mNameError\u001b[39m: name 'collection' is not defined"
     ]
    }
   ],
   "source": [
    "example = {key: value for item in collection}"
   ]
  },
  {
   "cell_type": "code",
   "execution_count": null,
   "id": "1c82e6b6",
   "metadata": {},
   "outputs": [
    {
     "data": {
      "text/plain": [
       "{'Barcelona': 9, 'Madrid': 6, 'Girona': 6, 'Murcia': 6}"
      ]
     },
     "execution_count": 42,
     "metadata": {},
     "output_type": "execute_result"
    }
   ],
   "source": [
    "word_len = {words: len(words) for words in list_of_words}\n",
    "word_len"
   ]
  },
  {
   "cell_type": "markdown",
   "id": "5ed5c409",
   "metadata": {},
   "source": [
    "# Business case: Customer Feedback Analysis\n",
    "\n",
    "## Business Scenario:\n",
    "You work for a retail company that values customer feedback. The company receives feedback from customers about its products and services. You are tasked with analyzing this feedback to identify common positive and negative keywords mentioned by customers. Your goal is to create lists of positive and negative keywords from the feedback data."
   ]
  },
  {
   "cell_type": "code",
   "execution_count": null,
   "id": "db67971b",
   "metadata": {},
   "outputs": [
    {
     "name": "stdout",
     "output_type": "stream",
     "text": [
      "Positive keywords: ['love', 'great', 'quality', 'superb']\n",
      "Negative keywords: ['terrible', 'disappointing']\n"
     ]
    }
   ],
   "source": [
    "feedback_comments = [\n",
    "    \"The product is excellent! I love it.\",\n",
    "    \"Terrible customer service. Never buying again.\",\n",
    "    \"Great quality and fast delivery.\",\n",
    "    \"Disappointing experience. The item arrived damaged.\",\n",
    "    \"Superb value for the price.\",\n",
    "]\n",
    "\n",
    "# List of positive and negative keywords\n",
    "positive_keywords = [\"excellent\", \"love\", \"great\", \"superb\", \"quality\"]\n",
    "negative_keywords = [\"terrible\", \"disappointing\", \"damaged\"]\n",
    "\n",
    "positive_words = [] # create empty list\n",
    "for comment in feedback_comments: # Loop through each feedback comment\n",
    "    for word in comment.lower().split(): # Make the whole comment lowercase, then split it into words\n",
    "        if word in positive_keywords:  # If the word (already lowercase) is in your list of positive words\n",
    "            positive_words.append(word)  # Add it to your positive_words list\n",
    "\n",
    "print(\"Positive keywords:\", positive_words)\n",
    "\n",
    "negative_words = []\n",
    "for comment in feedback_comments: \n",
    "    for word in comment.lower().split():\n",
    "        if word in negative_keywords:\n",
    "            negative_words.append(word)\n",
    "\n",
    "\n",
    "print(\"Negative keywords:\", negative_words)\n",
    "\n",
    "\n",
    "# Continue the code here (example of expected output)\n",
    "# Positive Keywords: ['excellent', 'love', 'great', 'superb']\n",
    "# Negative Keywords: ['terrible', 'disappointing', 'damaged']"
   ]
  },
  {
   "cell_type": "code",
   "execution_count": null,
   "id": "4a81464d",
   "metadata": {},
   "outputs": [
    {
     "name": "stdout",
     "output_type": "stream",
     "text": [
      "Positive keywords: ['love', 'great', 'quality', 'superb']\n",
      "Negative keywords: ['terrible', 'disappointing']\n"
     ]
    }
   ],
   "source": [
    "positive_words = [word for comment in feedback_comments for word in comment.lower().split() if word in positive_keywords]\n",
    "\n",
    "print(\"Positive keywords:\", positive_words)\n",
    "\n",
    "\n",
    "negative_words = [word for comment in feedback_comments for word in comment.lower().split() if word in negative_keywords]\n",
    "\n",
    "print(\"Negative keywords:\", negative_words)\n"
   ]
  },
  {
   "cell_type": "code",
   "execution_count": null,
   "id": "18be32c0",
   "metadata": {},
   "outputs": [
    {
     "name": "stdout",
     "output_type": "stream",
     "text": [
      "['love', 'great', 'quality', 'superb']\n"
     ]
    }
   ],
   "source": [
    "negative_words2 = []\n",
    "\n",
    "for comment in feedback_comments:\n",
    "    for word in comment.lower().split():\n",
    "        if word in positive_keywords:\n",
    "            negative_words2.append(word)\n",
    "\n",
    "print(negative_words2)"
   ]
  },
  {
   "cell_type": "markdown",
   "id": "3af42524",
   "metadata": {},
   "source": [
    "## zip() "
   ]
  },
  {
   "cell_type": "markdown",
   "id": "06c44f79",
   "metadata": {},
   "source": [
    "What zip() does: It takes multiple lists and \"pairs up\" items from the same positions.\n",
    "Simple example:"
   ]
  },
  {
   "cell_type": "code",
   "execution_count": null,
   "id": "2a71b00d",
   "metadata": {},
   "outputs": [
    {
     "name": "stdout",
     "output_type": "stream",
     "text": [
      "[('Alice', 25), ('Bob', 30), ('Charlie', 35)]\n"
     ]
    }
   ],
   "source": [
    "names = ['Alice', 'Bob', 'Charlie']\n",
    "ages = [25, 30, 35]\n",
    "\n",
    "pairs = list(zip(names, ages))\n",
    "print(pairs)\n",
    "# Output: [('Alice', 25), ('Bob', 30), ('Charlie', 35)]"
   ]
  },
  {
   "cell_type": "markdown",
   "id": "6db64e77",
   "metadata": {},
   "source": [
    "Real-world use: Perfect for when you have related data in separate lists:"
   ]
  },
  {
   "cell_type": "code",
   "execution_count": null,
   "id": "27434111",
   "metadata": {},
   "outputs": [
    {
     "name": "stdout",
     "output_type": "stream",
     "text": [
      "NYC: 45°F\n",
      "LA: 72°F\n",
      "Chicago: 38°F\n"
     ]
    }
   ],
   "source": [
    "cities = ['NYC', 'LA', 'Chicago']\n",
    "temperatures = [45, 72, 38]\n",
    "\n",
    "for city, temp in zip(cities, temperatures):\n",
    "    print(f\"{city}: {temp}°F\")\n",
    "# NYC: 45°F\n",
    "# LA: 72°F  \n",
    "# Chicago: 38°F"
   ]
  },
  {
   "cell_type": "code",
   "execution_count": null,
   "id": "f35cd51f",
   "metadata": {},
   "outputs": [
    {
     "name": "stdout",
     "output_type": "stream",
     "text": [
      "hexxo worxd\n"
     ]
    }
   ],
   "source": [
    "text = \"hello world\" \n",
    "new_text = text.replace(\"l\", \"x\") \n",
    "print(new_text) # \"hexxo worxd\""
   ]
  },
  {
   "cell_type": "markdown",
   "id": "dd0472ee",
   "metadata": {},
   "source": [
    "## Function"
   ]
  },
  {
   "cell_type": "markdown",
   "id": "1c893432",
   "metadata": {},
   "source": [
    "A function in Python has the following basic structure:\n",
    "\n",
    "```python\n",
    "def function_name(parameters):\n",
    "    # Function body\n",
    "    # Code statements\n",
    "    # Return statement (optional)\n",
    "\n",
    "```\n",
    "\n",
    "**Combining functions**\n",
    "```python\n",
    "def my_function(list, operation):\n",
    "    if operation == \"+\":\n",
    "        # Do all your addition logic here\n",
    "        # arr_list = 0, loop, add everything\n",
    "        return the_sum\n",
    "    elif operation == \"*\": \n",
    "        # Do all your multiplication logic here  \n",
    "        # m_list = 1, loop, multiply everything\n",
    "        return the_product\n",
    "```        "
   ]
  },
  {
   "cell_type": "markdown",
   "id": "6866de07",
   "metadata": {},
   "source": [
    "# Finding prime number with factor using true false flags"
   ]
  },
  {
   "cell_type": "code",
   "execution_count": null,
   "id": "05a6cd0c",
   "metadata": {},
   "outputs": [],
   "source": [
    "\n",
    "# To take input from the user\n",
    "#num = int(input(\"Enter a number: \"))\n",
    "\n",
    "num = int(input(\"Enter a number: \"))\n",
    "\n",
    "def primenumber(prime):\n",
    "    flag = False\n",
    "    if num == 0 or num == 1:\n",
    "        return False\n",
    "    elif prime > 1: # check for factors\n",
    "        for i in range(2, num): # Check every possible factor. If you find even ONE, you know it's not prime, so stop looking.\n",
    "            if (num % i) == 0: # for i in range(2, 6): → This will check i = 2, 3, 4, 5. When i = 2: if (6 % 2) == 0\n",
    "                flag = True # we found a factor!\n",
    "            # break out of loop\n",
    "            break \n",
    "    if flag:\n",
    "        return False  # found factors, so not prime\n",
    "    else:\n",
    "        return True   # no factors found, so it's prime    \n",
    "\n",
    "primenumber(num)"
   ]
  },
  {
   "cell_type": "markdown",
   "id": "d5101e22",
   "metadata": {},
   "source": [
    "## Parameters or Arguments? ##"
   ]
  },
  {
   "cell_type": "markdown",
   "id": "2db3a07a",
   "metadata": {},
   "source": [
    "Calling a function\" just means \"use the function\" or \"make the function do its job.\"\n",
    "\n",
    "The VALUES (the actual strings in below example) are what get passed\n",
    "\n",
    "Those VALUES become ARGUMENTS when you PASS them to the FUNCTION\n",
    "\n",
    "The PARAMETERS (parameter1, parameter2) are the containers that receive those values"
   ]
  },
  {
   "cell_type": "code",
   "execution_count": 10,
   "id": "3b0be248",
   "metadata": {},
   "outputs": [
    {
     "name": "stdout",
     "output_type": "stream",
     "text": [
      "This VALUE is being PASSED to (called by) parameter1 as an argument, | And this VALUE is being PASSED to (called by) paramter2 as an argument\n"
     ]
    }
   ],
   "source": [
    "def my_function(parameter1, parameter2):\n",
    "  print(parameter1 + \" \" + parameter2)\n",
    "\n",
    "my_function(\"This VALUE is being PASSED to (called by) parameter1 as an argument, |\", \"And this VALUE is being PASSED to (called by) paramter2 as an argument\")"
   ]
  },
  {
   "cell_type": "markdown",
   "id": "1833ae7a",
   "metadata": {},
   "source": [
    "# Calling a function # "
   ]
  },
  {
   "cell_type": "markdown",
   "id": "73527e86",
   "metadata": {},
   "source": [
    "Calling a function\" just means \"use the function\" or \"make the function do its job.\"\n",
    "\n",
    "The VALUES (the actual strings) are what get passed\n",
    "\n",
    "Those VALUES become ARGUMENTS when you PASS them to the FUNCTION\n",
    "\n",
    "The PARAMETERS (parameter1, parameter2) are the containers that receive those values"
   ]
  },
  {
   "cell_type": "code",
   "execution_count": null,
   "id": "9ae7d768",
   "metadata": {},
   "outputs": [
    {
     "name": "stdout",
     "output_type": "stream",
     "text": [
      "Hello, John!\n"
     ]
    }
   ],
   "source": [
    "def greet(name): # here you are only defining the function\n",
    "    print(f\"Hello, {name}!\")\n",
    "\n",
    "greet(\"John\") # here you are calling the function when you run the code\n",
    "\n",
    "# greet = the function name (what you're calling)\n",
    "# (\"John\") = the parentheses with the argument inside\n",
    "# \"John\" = You pass that value \"Jonn\" as an argument when calling the function"
   ]
  },
  {
   "cell_type": "code",
   "execution_count": 11,
   "id": "7fb8e977",
   "metadata": {},
   "outputs": [
    {
     "data": {
      "text/plain": [
       "720"
      ]
     },
     "execution_count": 11,
     "metadata": {},
     "output_type": "execute_result"
    }
   ],
   "source": [
    "def factorial(n):\n",
    "    result = 1\n",
    "    for number in range(1, n+1):  \n",
    "        result *= number\n",
    "    return result\n",
    "x = 6\n",
    "factorial(x) "
   ]
  },
  {
   "cell_type": "markdown",
   "id": "60246fa9",
   "metadata": {},
   "source": [
    "# Object Oriented Programming: OOP\n",
    "\n",
    "**Definintions** \n",
    "\n",
    "Property = A characteristic or piece of data that belongs to an object (like a person's name, age, or height). Same as attribute.\n",
    "\n",
    "Attribute = Same as property! It's data stored in an object. Think of it like a labeled box that holds information about that specific object.\n",
    "\n",
    "Object/Instance = A specific instance of a class. If a class is like a blueprint for \"Car,\" then your actual Toyota Camry in the driveway is an object.\n",
    "\n",
    "Instance = Exactly the same as object! Just another word for the same thing.\n",
    "\n",
    "Action = What an object can DO. In programming, these become methods.\n",
    "\n",
    "Method = A function that's defined inside a class. It's how you code an \"action\" that objects of that class can perform. Methods can access and modify the \n",
    "object's attributes.\n",
    "\n",
    "**Think of it this way:**\n",
    "\n",
    "Class = Blueprint/template (like \"Dog\")\n",
    "\n",
    "Object/Instance = Specific example made from that blueprint (like \"Dog, Golden Retriever\")\n",
    "\n",
    "Attributes/Properties = Characteristics (name=\"Buddy\", age=3, breed=\"Golden Retriever\")\n",
    "\n",
    "Methods/Actions = What it can do (bark(), sit(), fetch())"
   ]
  },
  {
   "cell_type": "code",
   "execution_count": 1,
   "id": "9d3aa0a1",
   "metadata": {},
   "outputs": [],
   "source": [
    "class Dog:\n",
    "    def __init__(self, name, age):\n",
    "        self.name = name    # attribute (characteristic)\n",
    "        self.age = age      # attribute (characteristic)\n",
    "    \n",
    "    def bark(self):         # method (action)\n",
    "        print(\"Woof!\")\n",
    "    \n",
    "    def sit(self):          # method (action)\n",
    "        print(\"Sitting!\")"
   ]
  },
  {
   "cell_type": "code",
   "execution_count": null,
   "id": "cb7de624",
   "metadata": {},
   "outputs": [],
   "source": [
    "Inherit"
   ]
  },
  {
   "cell_type": "code",
   "execution_count": null,
   "id": "f5e8c836",
   "metadata": {},
   "outputs": [],
   "source": [
    "# Child class (inherits from Animal)\n",
    "class Dog(Animal):\n",
    "    def __init__(self, name, age, breed):\n",
    "        super().__init__(name, age)  # get the parent's characteristics\n",
    "        self.breed = breed           # add a new characteristic specific to dogs\n",
    "    \n",
    "    def bark(self):                  # action only dogs can do\n",
    "        print(f\"{self.name} says Woof!\")\n",
    "    \n",
    "    def fetch(self):                 # action only dogs can do\n",
    "        print(f\"{self.name} is fetching the ball\")"
   ]
  },
  {
   "cell_type": "markdown",
   "id": "38fe64c4",
   "metadata": {},
   "source": [
    "# Error handling\n",
    "\n",
    "\n",
    "**What is Error Handling?**\n",
    "\n",
    "It’s how Python lets you deal with errors without crashing your program.\n",
    "\n",
    "Typical errors include things like dividing by zero, wrong data types, or missing files.\n",
    "\n",
    "Key Keywords\n",
    "\n",
    "try: Put the code that might cause an error here.\n",
    "\n",
    "except: What to do if there’s an error.\n",
    "\n",
    "else: (Optional) Runs if there’s no error.\n",
    "\n",
    "finally: (Optional) Always runs, error or not (usually for cleanup).\n",
    "\n"
   ]
  },
  {
   "cell_type": "code",
   "execution_count": 1,
   "id": "b86ff417",
   "metadata": {},
   "outputs": [
    {
     "name": "stdout",
     "output_type": "stream",
     "text": [
      "Oops! That wasn't a number.\n"
     ]
    }
   ],
   "source": [
    "try:\n",
    "    # code that might fail\n",
    "    x = int(input(\"Enter a number: \"))\n",
    "except ValueError:\n",
    "    print(\"Oops! That wasn't a number.\")"
   ]
  },
  {
   "cell_type": "markdown",
   "id": "5f15395c",
   "metadata": {},
   "source": [
    "Common Built-in Errors:\n",
    "\n",
    "ZeroDivisionError, TypeError, ValueError, IndexError, etc.\n",
    "\n",
    "Why use it?\n",
    "\n",
    "Prevents your program from stopping if something goes wrong.\n",
    "\n",
    "Helps you give helpful error messages or take action (like asking for input again).\n",
    "\n"
   ]
  },
  {
   "cell_type": "markdown",
   "id": "940e4d95",
   "metadata": {},
   "source": [
    "# Python scope prioritization rules: LEGB Rule"
   ]
  },
  {
   "cell_type": "code",
   "execution_count": null,
   "id": "6c0faa77",
   "metadata": {},
   "outputs": [],
   "source": []
  },
  {
   "cell_type": "markdown",
   "id": "b3ab77b8",
   "metadata": {},
   "source": []
  },
  {
   "cell_type": "markdown",
   "id": "507bc192",
   "metadata": {},
   "source": [
    "##Regex\n"
   ]
  },
  {
   "cell_type": "markdown",
   "id": "cefa78ad",
   "metadata": {},
   "source": []
  }
 ],
 "metadata": {
  "kernelspec": {
   "display_name": "Python 3",
   "language": "python",
   "name": "python3"
  },
  "language_info": {
   "codemirror_mode": {
    "name": "ipython",
    "version": 3
   },
   "file_extension": ".py",
   "mimetype": "text/x-python",
   "name": "python",
   "nbconvert_exporter": "python",
   "pygments_lexer": "ipython3",
   "version": "3.13.3"
  }
 },
 "nbformat": 4,
 "nbformat_minor": 5
}
