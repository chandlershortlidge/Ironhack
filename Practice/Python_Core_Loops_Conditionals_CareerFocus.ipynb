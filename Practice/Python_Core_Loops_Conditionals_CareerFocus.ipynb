{
 "cells": [
  {
   "cell_type": "markdown",
   "id": "1ed17aec",
   "metadata": {},
   "source": [
    "\n",
    "# Python Practice: Loops, Conditionals, Dictionaries & More (Career Focus)\n",
    "\n",
    "These exercises are tailored for writing, NLP, and AI-related workflows. Some are meant to be quick wins, some will challenge you to think algorithmically.\n"
   ]
  },
  {
   "cell_type": "markdown",
   "id": "81688467",
   "metadata": {},
   "source": [
    "## 🚦 You Should Be Comfortable (Warmups)"
   ]
  },
  {
   "cell_type": "markdown",
   "id": "0a2e7690",
   "metadata": {},
   "source": [
    "### Problem 1\n",
    "titles = [\"Why AI Will Change Writing Forever\", \"Resume Tips for 2025\", \"How to Build a GPT Bot\"]\n",
    "\n",
    "**Task:** 1. For loop over a list of article titles—print each title on its own line."
   ]
  },
  {
   "cell_type": "code",
   "execution_count": null,
   "id": "f6c42b0a",
   "metadata": {},
   "outputs": [
    {
     "name": "stdout",
     "output_type": "stream",
     "text": [
      "Why AI Will Change Writing Forever\n",
      "Resume Tips for 2025\n",
      "How to Build a GPT Bot\n"
     ]
    }
   ],
   "source": [
    "titles = [\"Why AI Will Change Writing Forever\", \"Resume Tips for 2025\", \"How to Build a GPT Bot\"]\n",
    "for words in titles: \n",
    "    print(words)\n",
    "\n"
   ]
  },
  {
   "cell_type": "markdown",
   "id": "90401ee6",
   "metadata": {},
   "source": [
    "<details><summary>Hint</summary>\n",
    "\n",
    "Hint: Use `for title in titles:` and print each.\n",
    "\n",
    "</details>"
   ]
  },
  {
   "cell_type": "markdown",
   "id": "c68e14fd",
   "metadata": {},
   "source": [
    "### Problem 2\n",
    "sentences = [\n",
    "    \"AI is transforming the world.\",\n",
    "    \"Human creativity remains essential.\",\n",
    "    \"AI writing assistants are everywhere.\",\n",
    "    \"Writers need to adapt.\"\n",
    "]\n",
    "\n",
    "**Task:** 2. For each sentence in a list, print only those that contain the word \"AI\"."
   ]
  },
  {
   "cell_type": "code",
   "execution_count": 10,
   "id": "b2c0bcae",
   "metadata": {},
   "outputs": [
    {
     "name": "stdout",
     "output_type": "stream",
     "text": [
      "AI is transforming the world.\n",
      "Human creativity remains essential.\n",
      "AI writing assistants are everywhere.\n",
      "Writers need to adapt.\n"
     ]
    }
   ],
   "source": [
    "sentences = [\n",
    "    \"AI is transforming the world.\",\n",
    "    \"Human creativity remains essential.\",\n",
    "    \"AI writing assistants are everywhere.\",\n",
    "    \"Writers need to adapt.\"\n",
    "]\n",
    "\n",
    "\n",
    "\n",
    "# don't need to split because it's a list, already 4 seperate elements (sentences)\n",
    "ai_sentences = [] # create a blank list to store AI sentences\n",
    "\n",
    "for words in sentences: \n",
    "    print(words)\n",
    "\n"
   ]
  },
  {
   "cell_type": "markdown",
   "id": "16d529c0",
   "metadata": {},
   "source": [
    "<details><summary>Hint</summary>\n",
    "\n",
    "Hint: Use `if \"AI\" in sentence:`.\n",
    "\n",
    "</details>"
   ]
  },
  {
   "cell_type": "markdown",
   "id": "9559d0ac",
   "metadata": {},
   "source": [
    "### Problem 3\n",
    "titles = [\"Why AI Will Change Writing Forever\", \"Resume Tips for 2025\", \"How to Build a GPT Bot\"]\n",
    "\n",
    "**Task:** 3. Use `enumerate()` to print each title’s number and text."
   ]
  },
  {
   "cell_type": "code",
   "execution_count": null,
   "id": "4a036d13",
   "metadata": {},
   "outputs": [],
   "source": [
    "# Your code here"
   ]
  },
  {
   "cell_type": "markdown",
   "id": "9b9915b8",
   "metadata": {},
   "source": [
    "<details><summary>Hint</summary>\n",
    "\n",
    "Hint: `for i, title in enumerate(titles, 1):`.\n",
    "\n",
    "</details>"
   ]
  },
  {
   "cell_type": "markdown",
   "id": "26edc411",
   "metadata": {},
   "source": [
    "### Problem 4\n",
    "jobs = {\n",
    "    \"AI Content Strategist\": [\"Python\", \"Prompt Engineering\", \"SEO\"],\n",
    "    \"NLP Analyst\": [\"spaCy\", \"Pandas\", \"Regex\"],\n",
    "    \"Technical Editor\": [\"Markdown\", \"Fact-checking\"]\n",
    "}\n",
    "\n",
    "**Task:** 4. Given a dictionary of job titles and required skills, print each job title and the number of skills listed."
   ]
  },
  {
   "cell_type": "code",
   "execution_count": null,
   "id": "e57396ce",
   "metadata": {},
   "outputs": [],
   "source": [
    "# Your code here"
   ]
  },
  {
   "cell_type": "markdown",
   "id": "10fcb4a3",
   "metadata": {},
   "source": [
    "<details><summary>Hint</summary>\n",
    "\n",
    "Hint: Use `for job, skills in jobs.items(): print(job, len(skills))`.\n",
    "\n",
    "</details>"
   ]
  },
  {
   "cell_type": "markdown",
   "id": "5f96ea23",
   "metadata": {},
   "source": [
    "### Problem 5\n",
    "samples = [\n",
    "    \"This is a short sentence.\",\n",
    "    \"This is a much longer writing sample that demonstrates complexity and style.\",\n",
    "    \"Short again.\",\n",
    "    \"Another lengthy writing sample that would pass the filter.\"\n",
    "]\n",
    "\n",
    "**Task:** 5. Loop through a list of writing samples, and print the sample if it’s longer than 50 characters."
   ]
  },
  {
   "cell_type": "code",
   "execution_count": null,
   "id": "963e30dc",
   "metadata": {},
   "outputs": [],
   "source": [
    "# Your code here"
   ]
  },
  {
   "cell_type": "markdown",
   "id": "f70b384d",
   "metadata": {},
   "source": [
    "<details><summary>Hint</summary>\n",
    "\n",
    "Hint: Use `if len(sample) > 50:`.\n",
    "\n",
    "</details>"
   ]
  },
  {
   "cell_type": "markdown",
   "id": "97dae4ab",
   "metadata": {},
   "source": [
    "## 🔥 Good Struggle (Challenge Zone)"
   ]
  },
  {
   "cell_type": "markdown",
   "id": "89192b3e",
   "metadata": {},
   "source": [
    "### Problem 6\n",
    "cover_letters = [\n",
    "    \"Dear Hiring Manager. I am excited to apply for the role. My background is in AI.\",\n",
    "    \"To whom it may concern. My experience in editing is extensive.\",\n",
    "    \"Greetings. I am passionate about data-driven storytelling.\"\n",
    "]\n",
    "\n",
    "**Task:** 6. Given a list of cover letters, print only the first sentence from each (assume sentences end with a period)."
   ]
  },
  {
   "cell_type": "code",
   "execution_count": null,
   "id": "e2ea7bac",
   "metadata": {},
   "outputs": [],
   "source": [
    "# Your code here"
   ]
  },
  {
   "cell_type": "markdown",
   "id": "3bdbe803",
   "metadata": {},
   "source": [
    "<details><summary>Hint</summary>\n",
    "\n",
    "Hint: Split each cover letter at \".\", and print the first part (don't forget to add a period back!).\n",
    "\n",
    "</details>"
   ]
  },
  {
   "cell_type": "markdown",
   "id": "f351e51a",
   "metadata": {},
   "source": [
    "### Problem 7\n",
    "articles = [\n",
    "    \"How to write a great blog post.\",\n",
    "    \"10 AI tools every writer should try.\",\n",
    "    \"Expert editors share their secrets.\",\n",
    "    \"The evolution of digital journalism.\"\n",
    "]\n",
    "\n",
    "**Task:** 7. For each article, if it contains “AI”, print “Relevant”, otherwise print “Not relevant”. Stop looping entirely if you find an article that contains the word “Expert” (use `break`)."
   ]
  },
  {
   "cell_type": "code",
   "execution_count": null,
   "id": "ab95c390",
   "metadata": {},
   "outputs": [],
   "source": [
    "# Your code here"
   ]
  },
  {
   "cell_type": "markdown",
   "id": "b773b20d",
   "metadata": {},
   "source": [
    "<details><summary>Hint</summary>\n",
    "\n",
    "Hint: Check \"Expert\" first; use `break` if found. Otherwise, check \"AI\".\n",
    "\n",
    "</details>"
   ]
  },
  {
   "cell_type": "markdown",
   "id": "101432c7",
   "metadata": {},
   "source": [
    "### Problem 8\n",
    "samples = [\n",
    "    \"Short.\",\n",
    "    \"A decently long writing sample.\",\n",
    "    \"Too brief.\",\n",
    "    \"Another lengthy writing example.\"\n",
    "]\n",
    "\n",
    "**Task:** 8. Use a while loop to remove and print writing samples from a list one by one, but skip (using `continue`) any sample shorter than 20 characters. Stop when the list is empty."
   ]
  },
  {
   "cell_type": "code",
   "execution_count": null,
   "id": "4f0dea03",
   "metadata": {},
   "outputs": [],
   "source": [
    "# Your code here"
   ]
  },
  {
   "cell_type": "markdown",
   "id": "d6c14233",
   "metadata": {},
   "source": [
    "<details><summary>Hint</summary>\n",
    "\n",
    "Hint: Use `.pop(0)` inside the loop; use `continue` if `len(sample) < 20`.\n",
    "\n",
    "</details>"
   ]
  },
  {
   "cell_type": "markdown",
   "id": "df4e9322",
   "metadata": {},
   "source": [
    "### Problem 9\n",
    "sentiments = {\n",
    "    \"excellent\": 0.92,\n",
    "    \"adequate\": 0.45,\n",
    "    \"terrible\": 0.10,\n",
    "    \"positive\": 0.67,\n",
    "    \"neutral\": 0.49\n",
    "}\n",
    "\n",
    "**Task:** 9. Given a dictionary of words and their sentiment scores, print only the words with a score above 0.5."
   ]
  },
  {
   "cell_type": "code",
   "execution_count": null,
   "id": "81d21f3e",
   "metadata": {},
   "outputs": [],
   "source": [
    "# Your code here"
   ]
  },
  {
   "cell_type": "markdown",
   "id": "16483e2e",
   "metadata": {},
   "source": [
    "<details><summary>Hint</summary>\n",
    "\n",
    "Hint: Loop through items, check if `score > 0.5`.\n",
    "\n",
    "</details>"
   ]
  },
  {
   "cell_type": "markdown",
   "id": "86507ae7",
   "metadata": {},
   "source": [
    "### Problem 10\n",
    "samples = [\n",
    "    \"AI is here.\",\n",
    "    \"Prompt engineering is the future.\",\n",
    "    \"Short.\"\n",
    "]\n",
    "\n",
    "**Task:** 10. For each writing sample, print its index and whether it contains more vowels than consonants."
   ]
  },
  {
   "cell_type": "code",
   "execution_count": null,
   "id": "087854fd",
   "metadata": {},
   "outputs": [],
   "source": [
    "# Your code here"
   ]
  },
  {
   "cell_type": "markdown",
   "id": "061f9a5b",
   "metadata": {},
   "source": [
    "<details><summary>Hint</summary>\n",
    "\n",
    "Hint: Use `enumerate()`, count vowels/consonants, compare, then print.\n",
    "\n",
    "</details>"
   ]
  }
 ],
 "metadata": {
  "kernelspec": {
   "display_name": "Python 3",
   "language": "python",
   "name": "python3"
  },
  "language_info": {
   "codemirror_mode": {
    "name": "ipython",
    "version": 3
   },
   "file_extension": ".py",
   "mimetype": "text/x-python",
   "name": "python",
   "nbconvert_exporter": "python",
   "pygments_lexer": "ipython3",
   "version": "3.13.3"
  }
 },
 "nbformat": 4,
 "nbformat_minor": 5
}
