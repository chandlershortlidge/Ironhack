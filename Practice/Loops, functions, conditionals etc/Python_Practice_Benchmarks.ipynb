{
 "cells": [
  {
   "cell_type": "markdown",
   "id": "79138dd0",
   "metadata": {},
   "source": [
    "\n",
    "# 🚦 You're On Track! Problems\n",
    "\n",
    "These are exercises you *should* be able to work through on your own. Don't worry if you have to look up syntax—focus on your problem-solving approach!\n"
   ]
  },
  {
   "cell_type": "markdown",
   "id": "21fa9236",
   "metadata": {},
   "source": [
    "## Problem 1\n",
    "1. Write a function that counts the number of words in a string."
   ]
  },
  {
   "cell_type": "code",
   "execution_count": null,
   "id": "6febe6ff",
   "metadata": {},
   "outputs": [
    {
     "data": {
      "text/plain": [
       "4"
      ]
     },
     "execution_count": 1,
     "metadata": {},
     "output_type": "execute_result"
    }
   ],
   "source": [
    "def words(s):\n",
    "    x = s.split()\n",
    "    counter = len(x)\n",
    "    return counter \n",
    "\n",
    "\n",
    "# I have to split, which turns string into a list of words \n",
    "# then count the words in that list \n",
    "\n",
    "\n",
    "\n",
    "string1 = \"This is a string.\"\n",
    "words(string1)"
   ]
  },
  {
   "cell_type": "markdown",
   "id": "17074a22",
   "metadata": {},
   "source": [
    "<details><summary>Hint</summary>\n",
    "\n",
    "Hint: Use `.split()` to break the string into words, then use `len()`.\n",
    "\n",
    "</details>"
   ]
  },
  {
   "cell_type": "markdown",
   "id": "c16ba7bf",
   "metadata": {},
   "source": [
    "## Problem 2\n",
    "2. Given this paragraph, split it into sentences and print each sentence on a new line.\n",
    "\n",
    "paragraph = 'This is one sentence. Here is another. And the last one.'"
   ]
  },
  {
   "cell_type": "code",
   "execution_count": null,
   "id": "446ba96c",
   "metadata": {},
   "outputs": [
    {
     "name": "stdout",
     "output_type": "stream",
     "text": [
      "This is one sentence.\n",
      "Here is another.\n",
      "And the last one.\n"
     ]
    }
   ],
   "source": [
    "# split the sentence by (\".\")\n",
    "# loop through the list of words\n",
    "\n",
    "paragraph = 'This is one sentence. Here is another. And the last one.'\n",
    "sentences = paragraph.split(\".\") # printing a list of strings with a blanks space at the begining\n",
    "for sentence in sentences:\n",
    "    cleaned = sentence.strip()  # strips whitespace\n",
    "    if cleaned:                 # skips empty results\n",
    "        print(cleaned + \".\")    # prints each sentence on a new line\n",
    "\n"
   ]
  },
  {
   "cell_type": "markdown",
   "id": "9086ce10",
   "metadata": {},
   "source": [
    "<details><summary>Hint</summary>\n",
    "\n",
    "Hint: Try `.split('.')`, then loop and use `.strip()`.\n",
    "\n",
    "</details>"
   ]
  },
  {
   "cell_type": "markdown",
   "id": "55db1c85",
   "metadata": {},
   "source": [
    "## Problem 3\n",
    "3. From a list of numbers, print only those above a given threshold."
   ]
  },
  {
   "cell_type": "code",
   "execution_count": 31,
   "id": "3fcac32a",
   "metadata": {},
   "outputs": [
    {
     "name": "stdout",
     "output_type": "stream",
     "text": [
      "39\n",
      "49\n",
      "59\n",
      "69\n"
     ]
    }
   ],
   "source": [
    "numbers = [1, 18, 29, 39, 49, 59, 69]\n",
    "\n",
    "for num in numbers:\n",
    "    if num >= 38:\n",
    "        print(num)\n",
    "\n"
   ]
  },
  {
   "cell_type": "markdown",
   "id": "83dd0e4f",
   "metadata": {},
   "source": [
    "<details><summary>Hint</summary>\n",
    "\n",
    "Hint: Use a for loop and an `if` statement.\n",
    "\n",
    "</details>"
   ]
  },
  {
   "cell_type": "markdown",
   "id": "4b6fd63b",
   "metadata": {},
   "source": [
    "## Problem 4\n",
    "4. Print the first letter of every word in a sentence."
   ]
  },
  {
   "cell_type": "code",
   "execution_count": 46,
   "id": "29f56984",
   "metadata": {},
   "outputs": [
    {
     "name": "stdout",
     "output_type": "stream",
     "text": [
      "T\n",
      "i\n",
      "o\n",
      "s\n"
     ]
    }
   ],
   "source": [
    "sentence =  'This is one sentence.'\n",
    "words = sentence.split() # # creates a new list called 'words' by splitting the sentence at each space\n",
    "for word in words: # loops over each word in the list called 'words'\n",
    "    print (word[0]) # prints the first character (index 0) from each word\n"
   ]
  },
  {
   "cell_type": "markdown",
   "id": "869023f2",
   "metadata": {},
   "source": [
    "<details><summary>Hint</summary>\n",
    "\n",
    "Hint: Split the sentence, then loop and print `word[0]`.\n",
    "\n",
    "</details>"
   ]
  },
  {
   "cell_type": "markdown",
   "id": "58bdebcc",
   "metadata": {},
   "source": [
    "## Problem 5\n",
    "5. Check if a string contains a certain word."
   ]
  },
  {
   "cell_type": "code",
   "execution_count": 62,
   "id": "50b852c5",
   "metadata": {},
   "outputs": [
    {
     "name": "stdout",
     "output_type": "stream",
     "text": [
      "success\n"
     ]
    }
   ],
   "source": [
    "sentence =  'This is one big long sentence.'\n",
    "words = sentence.split()\n",
    "\n",
    "if \"one\" in words: \n",
    "    print(\"success\")"
   ]
  },
  {
   "cell_type": "markdown",
   "id": "40af384e",
   "metadata": {},
   "source": [
    "<details><summary>Hint</summary>\n",
    "\n",
    "Hint: Use the `in` keyword.\n",
    "\n",
    "</details>"
   ]
  },
  {
   "cell_type": "markdown",
   "id": "be506f38",
   "metadata": {},
   "source": [
    "## Problem 6\n",
    "6. Given a list of names, print only those longer than 5 characters."
   ]
  },
  {
   "cell_type": "code",
   "execution_count": 77,
   "id": "69da2198",
   "metadata": {},
   "outputs": [
    {
     "name": "stdout",
     "output_type": "stream",
     "text": [
      "['chandler', 'arnold']\n"
     ]
    }
   ],
   "source": [
    "# need an empty list to put the new names in \n",
    "list_o_names = [\"jon\", \"frank\", \"max\", \"chandler\", \"arnold\", \"mike\"]\n",
    "longernames = []\n",
    "\n",
    "for name in list_o_names:\n",
    "    if len(name) > 5:\n",
    "        longernames.append(name)\n",
    "print(longernames)\n",
    "\n"
   ]
  },
  {
   "cell_type": "markdown",
   "id": "0c6e0229",
   "metadata": {},
   "source": [
    "<details><summary>Hint</summary>\n",
    "\n",
    "Hint: Use `len(name)` in a for loop.\n",
    "\n",
    "</details>"
   ]
  },
  {
   "cell_type": "markdown",
   "id": "39a27a94",
   "metadata": {},
   "source": [
    "\n",
    "# 🔥 Good Struggle Problems\n",
    "\n",
    "It's totally normal to find these tricky! Take your time, break the problem into steps, and use hints if you get stuck.\n"
   ]
  },
  {
   "cell_type": "markdown",
   "id": "c082ef32",
   "metadata": {},
   "source": [
    "## Problem 1\n",
    "1. Given a paragraph, find the longest sentence (by word count)."
   ]
  },
  {
   "cell_type": "code",
   "execution_count": null,
   "id": "0988463a",
   "metadata": {},
   "outputs": [
    {
     "name": "stdout",
     "output_type": "stream",
     "text": [
      "11\n"
     ]
    }
   ],
   "source": [
    "\n",
    "paragraph = \"Nobody masters Pandas (or anything in programming) in two days. What matters most is building comfort with not knowing. And trusting you’ll learn how to figure it out over time.\"\n",
    "split_graf = paragraph.split(\".\") # creates list of sentences\n",
    "# len of split graf = 4 (one for each + extra)\n",
    "# i count the words in each sentence\n",
    "\n",
    "max_length = 0 # create variable to compare lenght to \n",
    "for sentence in split_graf: # for each element (sentence)\n",
    "    words = sentence.split() # j = each 3 sentence split into single words \n",
    "    wordnum = len(words) # wordnum = amount of words in each sentence (10, 9, 11)\n",
    "    if wordnum > max_length: # compares EACH wordnum (10, 9, 11)\n",
    "         #if wordnum is bigeger than max_lenght (0)\n",
    "        max_length = wordnum # THEN max_lenght is updated with wordnum, looping over each time till the biggest \n",
    "print(max_length)\n"
   ]
  },
  {
   "cell_type": "markdown",
   "id": "81606f04",
   "metadata": {},
   "source": [
    "<details><summary>Hint</summary>\n",
    "\n",
    "Hint: Split the paragraph by `.`, then for each sentence, count words with `.split()` and `len()`.\n",
    "\n",
    "</details>"
   ]
  },
  {
   "cell_type": "markdown",
   "id": "5427d3dd",
   "metadata": {},
   "source": [
    "## Problem 2\n",
    "2. Given a list of dictionaries like `[{'name': 'A', 'score': 88}, ...]`, calculate the average score."
   ]
  },
  {
   "cell_type": "code",
   "execution_count": 88,
   "id": "44bcdb98",
   "metadata": {},
   "outputs": [
    {
     "name": "stdout",
     "output_type": "stream",
     "text": [
      "86.6\n"
     ]
    }
   ],
   "source": [
    "students = [\n",
    "    {'name': 'Alice', 'score': 85},\n",
    "    {'name': 'Bob',   'score': 92},\n",
    "    {'name': 'Cleo',  'score': 78},\n",
    "    {'name': 'Derek', 'score': 90},\n",
    "    {'name': 'Ella',  'score': 88}\n",
    "]\n",
    "\n",
    "total_scores = 0\n",
    "for dictionary in students: # loops over first layer of the student list, the dictionary itself\n",
    "    for values in dictionary.values(): # loops over the values only in the dictionary\n",
    "        scores = dictionary['score'] # assigns the scores (accessed by []) to a variable scores\n",
    "    total_scores += scores\n",
    "avg = total_scores / len(students)\n",
    "print(avg)\n",
    "\n",
    "    "
   ]
  },
  {
   "cell_type": "markdown",
   "id": "d7323fed",
   "metadata": {},
   "source": [
    "<details><summary>Hint</summary>\n",
    "\n",
    "Hint: Use a for loop to add up all the `score` values, then divide by the number of dictionaries.\n",
    "\n",
    "</details>"
   ]
  },
  {
   "cell_type": "markdown",
   "id": "67140462",
   "metadata": {},
   "source": [
    "## Problem 3\n",
    "3. Use a loop to create a new list that contains only unique words from a paragraph."
   ]
  },
  {
   "cell_type": "code",
   "execution_count": null,
   "id": "eea03a70",
   "metadata": {},
   "outputs": [],
   "source": []
  },
  {
   "cell_type": "markdown",
   "id": "6c4d30e6",
   "metadata": {},
   "source": [
    "<details><summary>Hint</summary>\n",
    "\n",
    "Hint: Use `.split()` and a list or set to track which words you've seen.\n",
    "\n",
    "</details>"
   ]
  },
  {
   "cell_type": "markdown",
   "id": "cbddef82",
   "metadata": {},
   "source": [
    "## Problem 4\n",
    "4. Build a function that returns the number of vowels in a string."
   ]
  },
  {
   "cell_type": "code",
   "execution_count": null,
   "id": "d0981b04",
   "metadata": {},
   "outputs": [
    {
     "data": {
      "text/plain": [
       "13"
      ]
     },
     "execution_count": 130,
     "metadata": {},
     "output_type": "execute_result"
    }
   ],
   "source": [
    "\n",
    "≈\n",
    "\n",
    "sample_sentence = \"This is a string, a string with vowels and consonants.\"\n",
    "vowelcounter(sample_sentence)"
   ]
  },
  {
   "cell_type": "markdown",
   "id": "5b5d77eb",
   "metadata": {},
   "source": [
    "<details><summary>Hint</summary>\n",
    "\n",
    "Hint: Loop through each character, check if it's in 'aeiouAEIOU', and count.\n",
    "\n",
    "</details>"
   ]
  },
  {
   "cell_type": "markdown",
   "id": "eabcc1e5",
   "metadata": {},
   "source": [
    "Hints:\n",
    "What do you want your function to do?\n",
    "\n",
    "Count every vowel (“a”, “e”, “i”, “o”, “u”) in the string, not just “a”.\n",
    "\n",
    "What variable do you need?\n",
    "\n",
    "Instead of printing every time you find a vowel, maybe keep a counter and add 1 for each vowel you find.\n",
    "\n",
    "How do you check for all vowels?\n",
    "\n",
    "You want to ask: Is this letter in the group (“a”, “e”, “i”, “o”, “u”)?\n",
    "\n",
    "Questions to guide you:\n",
    "\n",
    "What would a list or string of all vowels look like?\n",
    "(Example: \"aeiou\")\n",
    "\n",
    "How can you check if a character is in that group?"
   ]
  },
  {
   "cell_type": "markdown",
   "id": "0ffd3178",
   "metadata": {},
   "source": []
  }
 ],
 "metadata": {
  "kernelspec": {
   "display_name": "Python 3",
   "language": "python",
   "name": "python3"
  },
  "language_info": {
   "codemirror_mode": {
    "name": "ipython",
    "version": 3
   },
   "file_extension": ".py",
   "mimetype": "text/x-python",
   "name": "python",
   "nbconvert_exporter": "python",
   "pygments_lexer": "ipython3",
   "version": "3.13.3"
  }
 },
 "nbformat": 4,
 "nbformat_minor": 5
}
