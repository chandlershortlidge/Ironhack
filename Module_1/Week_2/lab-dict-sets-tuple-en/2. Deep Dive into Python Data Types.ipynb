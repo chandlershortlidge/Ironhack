{
 "cells": [
  {
   "cell_type": "markdown",
   "metadata": {},
   "source": [
    "<!-- # Intro Python -->\n",
    "# Deep Dive into Python Data Types"
   ]
  },
  {
   "cell_type": "markdown",
   "metadata": {
    "lang": "en"
   },
   "source": [
    "## Data Structures\n",
    "\n",
    "In Python, we have four main structures for storing collections of data, each with its own characteristics and utilities. These structures make it easier for us to organize and manipulate data more efficiently. Below, we present the four fundamental data structures in Python:\n",
    "\n",
    "- **Lists**: Ordered and modifiable collections that can store a variety of data types, including other lists. **we use -> []**\n",
    "- **Tuples**: Ordered and immutable collections, similar to lists, but cannot be modified once created. **we use -> ()**\n",
    "- **Sets**: Unordered and index-less collections that do not allow duplicate elements, making them ideal for storing unique sets of data. **we use -> {}**\n",
    "- **Dictionaries**: Unordered, modifiable, and indexed collections, where data is stored in key-value pairs, making it easier to organize and retrieve complex information. **we use -> {key:values, key2:value2}**\n",
    "\n",
    "Throughout this section, we will explore each of these data structures in detail, discovering how they can help us work with data more effectively in Python.\n",
    "\n",
    "### Lists\n",
    "Lists in Python are data structures that can contain different types of data, from numbers to strings of text, and even other lists. This makes them extremely versatile and useful tools in programming. The elements in a list are ordered and have a specific index, allowing us to access, modify, add, or remove elements easily. Below, we present several examples of lists along with the syntax for accessing the data within them."
   ]
  },
  {
   "cell_type": "code",
   "execution_count": null,
   "metadata": {},
   "outputs": [],
   "source": [
    "# 1. List of Integers\n",
    "numbers = [1, 2, 3, 4, 5]\n",
    "\n",
    "# 2. List of Text Strings (strings)\n",
    "fruits = [\"apple\", \"banana\", \"cherry\"]\n",
    "\n",
    "# 3. Mixed List (containing different types of data)\n",
    "mixed = [1, \"Hello\", 3.14, True]\n",
    "\n",
    "# 4. Nested List (a list within another list)\n",
    "nested = [[1, 2, 3], [\"a\", \"b\", \"c\"]]"
   ]
  },
  {
   "cell_type": "code",
   "execution_count": null,
   "metadata": {},
   "outputs": [],
   "source": [
    "# Accessing Data Within a List\n",
    "# Accessing the first element of the list of numbers\n",
    "numbers[0]"
   ]
  },
  {
   "cell_type": "code",
   "execution_count": null,
   "metadata": {},
   "outputs": [],
   "source": [
    "# Accessing the Last Element of the Fruit List\n",
    "fruits[-1]"
   ]
  },
  {
   "cell_type": "code",
   "execution_count": null,
   "metadata": {},
   "outputs": [],
   "source": [
    "# Accessing an Element from a List Within Another List (Nested List)\n",
    "nested[1][2]"
   ]
  },
  {
   "cell_type": "code",
   "execution_count": null,
   "metadata": {},
   "outputs": [],
   "source": [
    "# To Find Out the Size of a List\n",
    "len(mixed)"
   ]
  },
  {
   "cell_type": "markdown",
   "metadata": {
    "lang": "en"
   },
   "source": [
    "#### List Methods\n",
    "\n",
    "Below, we describe some of the most common methods you can use to manipulate lists. Additionally, we invite you to consult the [official documentation](https://docs.python.org/3/tutorial/datastructures.html) for a complete guide to all the available methods.\n",
    "\n",
    "There are several methods that facilitate the management of lists; here are some of the most used ones:"
   ]
  },
  {
   "cell_type": "markdown",
   "metadata": {},
   "source": [
    "- `append()`: Adds an element to the end of the list."
   ]
  },
  {
   "cell_type": "code",
   "execution_count": null,
   "metadata": {},
   "outputs": [],
   "source": [
    "# 1. append()\n",
    "list0 = []\n",
    "list0.append('A')\n",
    "print(list0)"
   ]
  },
  {
   "cell_type": "markdown",
   "metadata": {},
   "source": [
    "- `extend()`: Extends the list by adding all elements of the given list."
   ]
  },
  {
   "cell_type": "code",
   "execution_count": null,
   "metadata": {},
   "outputs": [],
   "source": [
    "# 2. extend()\n",
    "list1 = [1, 2, 3]\n",
    "list2 = [4, 5, 6]\n",
    "list1.extend(list2)\n",
    "print(list1)"
   ]
  },
  {
   "cell_type": "markdown",
   "metadata": {},
   "source": [
    "- `insert()`: Inserts an element into the list at the specified index."
   ]
  },
  {
   "cell_type": "code",
   "execution_count": null,
   "metadata": {},
   "outputs": [],
   "source": [
    "# 3. insert()\n",
    "list0 = [1, 2, 3]\n",
    "list0.insert(1, 'B')\n",
    "print(list0)"
   ]
  },
  {
   "cell_type": "markdown",
   "metadata": {},
   "source": [
    "- `remove()`: Removes the first element from the list whose value is equal to the specified value."
   ]
  },
  {
   "cell_type": "code",
   "execution_count": null,
   "metadata": {},
   "outputs": [],
   "source": [
    "# 4. remove()\n",
    "list0 = [1, 2, 3, 2]\n",
    "list0.remove(2)\n",
    "print(list0)"
   ]
  },
  {
   "cell_type": "markdown",
   "metadata": {},
   "source": [
    "- `pop()`: Removes the element at the given position in the list, and returns it."
   ]
  },
  {
   "cell_type": "code",
   "execution_count": null,
   "metadata": {},
   "outputs": [],
   "source": [
    "# 5. pop()\n",
    "list0 = [1, 2, 3]\n",
    "list0.pop(1)\n",
    "print(list0)"
   ]
  },
  {
   "cell_type": "markdown",
   "metadata": {},
   "source": [
    "- `clear()`: Removes all items from the list."
   ]
  },
  {
   "cell_type": "code",
   "execution_count": null,
   "metadata": {},
   "outputs": [],
   "source": [
    "# 6. clear()\n",
    "list0 = [1, 2, 3]\n",
    "list0.clear()\n",
    "print(list0)"
   ]
  },
  {
   "cell_type": "markdown",
   "metadata": {},
   "source": [
    "- `index()`: Returns the index of the first item with the specified value."
   ]
  },
  {
   "cell_type": "code",
   "execution_count": null,
   "metadata": {},
   "outputs": [],
   "source": [
    "# 7. index()\n",
    "list0 = [1, 2, 3, 2]\n",
    "print(list0.index(2))"
   ]
  },
  {
   "cell_type": "markdown",
   "metadata": {},
   "source": [
    "- `count()`: Returns the number of times the specified value appears in the list."
   ]
  },
  {
   "cell_type": "code",
   "execution_count": null,
   "metadata": {},
   "outputs": [],
   "source": [
    "# 8. count()\n",
    "list0 = [1, 2, 3, 2]\n",
    "print(list0.count(2))"
   ]
  },
  {
   "cell_type": "markdown",
   "metadata": {},
   "source": [
    "- `sort()`: Sorts the items of the list."
   ]
  },
  {
   "cell_type": "code",
   "execution_count": null,
   "metadata": {},
   "outputs": [],
   "source": [
    "# 9. sort()\n",
    "list0 = [3, 1, 2]\n",
    "list0.sort()\n",
    "print(list0)"
   ]
  },
  {
   "cell_type": "markdown",
   "metadata": {},
   "source": [
    "- `reverse()`: Reverses the order of the list items."
   ]
  },
  {
   "cell_type": "code",
   "execution_count": null,
   "metadata": {},
   "outputs": [],
   "source": [
    "# 10. reverse()\n",
    "list0 = [1, 2, 3]\n",
    "list0.reverse()\n",
    "print(list0)"
   ]
  },
  {
   "cell_type": "markdown",
   "metadata": {},
   "source": [
    "- `copy()`: Returns a copy of the list."
   ]
  },
  {
   "cell_type": "code",
   "execution_count": null,
   "metadata": {},
   "outputs": [],
   "source": [
    "# 11. copy()\n",
    "list1 = [1, 2, 3]\n",
    "list2 = list1.copy()\n",
    "print(list2)"
   ]
  },
  {
   "cell_type": "markdown",
   "metadata": {},
   "source": [
    "**Slicing and Start, Stop, Step in Lists**\n",
    "\n",
    "\"Slicing\" is not a method per se, but it allows us to play with the elements of the lists and their positions. Essentially, it enables us to select a \"slice\" of the list using three parameters: start, stop, and step. The syntax for this is `list[start:stop:step]`, where:\n",
    "\n",
    "- **start**: represents the index of the first element we want to include in our selection. It's important to remember that indices in Python start at 0.\n",
    "- **stop**: represents the index of the first element we do NOT want to include in our selection. The selection will include elements up to `stop`-1.\n",
    "- **step**: defines the increment between the selected indices. If omitted, the default value will be 1, meaning that all elements from `start` to `stop`-1 will be selected.\n",
    "\n",
    "Below, we'll see practical examples of how to use these parameters to select different segments of a list in Python."
   ]
  },
  {
   "cell_type": "code",
   "execution_count": null,
   "metadata": {},
   "outputs": [],
   "source": [
    "names = [\"Ana\", \"Beto\", \"Carla\", \"David\", \"Elena\", \"Fernando\"]\n",
    "\n",
    "# Select elements from index 2 to the end\n",
    "print(names[2:])"
   ]
  },
  {
   "cell_type": "code",
   "execution_count": null,
   "metadata": {},
   "outputs": [],
   "source": [
    "# Select elements from index 4 to the end\n",
    "print(names[4:])"
   ]
  },
  {
   "cell_type": "code",
   "execution_count": null,
   "metadata": {},
   "outputs": [],
   "source": [
    "# Reverse the order of the elements in the list\n",
    "print(names[::-1])"
   ]
  },
  {
   "cell_type": "code",
   "execution_count": null,
   "metadata": {
    "scrolled": true
   },
   "outputs": [],
   "source": [
    "number_list = [0, 1, 2, 3, 4, 5, 6, 7, 8, 9, 10]\n",
    "\n",
    "# Select elements from index 0 to 10, skipping 2 elements each time\n",
    "print(number_list[0:10:2])"
   ]
  },
  {
   "cell_type": "markdown",
   "metadata": {},
   "source": [
    "**Exercise: Working with Lists**\n",
    "\n",
    "1. Create a list called `months` that contains the names of all the months of the year.\n",
    "2. Use the `append` method to add an extra element to the list that is \"End of Year\".\n",
    "3. Use the `remove` method to delete this last element you added.\n",
    "4. Using `slicing`, create a new list that contains only the months of the second quarter (April, May, and June).\n",
    "5. Use the `reverse` method to reverse the order of the elements in the original list of months.\n",
    "6. Find the appropriate method to sort the list of months in alphabetical order and apply it.\n",
    "7. Use the `index` method to find the position of your birth month in the list sorted alphabetically.\n",
    "\n",
    "**Extra**:\n",
    "\n",
    "- Create a list of lists, where each sublist contains the months of each quarter.\n",
    "- Use a `for` loop to print each month of each quarter, formatting the output as follows: \"The {month number} month of the year is {month name}\".\n",
    "\n",
    "Remember to check the [Python documentation](https://docs.python.org/3/tutorial/datastructures.html#more-on-lists) or use the `help()` function for details on how to use each of the list methods."
   ]
  },
  {
   "cell_type": "code",
   "execution_count": null,
   "metadata": {},
   "outputs": [],
   "source": [
    "# here your code"
   ]
  },
  {
   "cell_type": "markdown",
   "metadata": {},
   "source": [
    "### Tuples\n",
    "\n",
    "Tuples are a data structure very similar to lists, with the main difference being that they are immutable. This means you cannot change the elements of a tuple once it has been created. Despite this feature, tuples are quite flexible and can store different types of data, including other containers like lists or dictionaries. Like lists, tuples allow indexing and unpacking, thus facilitating access and manipulation of the data contained within them.\n",
    "\n",
    "Tuples are defined using parentheses `()` and the elements are separated by commas. Let's explore some examples and methods associated with tuples."
   ]
  },
  {
   "cell_type": "code",
   "execution_count": 1,
   "metadata": {},
   "outputs": [],
   "source": [
    "# Create a tuple\n",
    "my_tuple = (1, 2, 3, \"Hola\", True)"
   ]
  },
  {
   "cell_type": "code",
   "execution_count": 2,
   "metadata": {},
   "outputs": [
    {
     "data": {
      "text/plain": [
       "1"
      ]
     },
     "execution_count": 2,
     "metadata": {},
     "output_type": "execute_result"
    }
   ],
   "source": [
    "# Access the elements of a tuple\n",
    "my_tuple[0]"
   ]
  },
  {
   "cell_type": "code",
   "execution_count": null,
   "metadata": {},
   "outputs": [],
   "source": [
    "# Acceder last element\n",
    "my_tuple[-1]"
   ]
  },
  {
   "cell_type": "code",
   "execution_count": null,
   "metadata": {},
   "outputs": [],
   "source": [
    "# Unpacking a Tuple\n",
    "a, b, c, d, e = my_tuple\n",
    "c"
   ]
  },
  {
   "cell_type": "code",
   "execution_count": null,
   "metadata": {},
   "outputs": [],
   "source": [
    "# Methods Available in a Tuple\n",
    "# Count the number of times an element appears\n",
    "my_tuple.count(2)"
   ]
  },
  {
   "cell_type": "code",
   "execution_count": null,
   "metadata": {},
   "outputs": [],
   "source": [
    "# Finding the Index of an Element\n",
    "my_tuple.index(\"Hello\")"
   ]
  },
  {
   "cell_type": "code",
   "execution_count": null,
   "metadata": {},
   "outputs": [],
   "source": [
    "# Trying to Modify an Element of the Tuple (this will generate an error, because tuples are immutable)\n",
    "try:\n",
    "    my_tuple[1] = 10\n",
    "except TypeError as e:\n",
    "    print(f\"Error: {e}\")\n",
    "\n",
    "# Showing that the tuple has not changed\n",
    "print(my_tuple)"
   ]
  },
  {
   "cell_type": "markdown",
   "metadata": {},
   "source": [
    "**Tuple Methods**: Unlike lists, tuples are immutable, meaning we cannot add, modify, or delete elements once the tuple has been defined. However, tuples do come with several methods that can be quite useful. Below are some of them:"
   ]
  },
  {
   "cell_type": "markdown",
   "metadata": {},
   "source": [
    "- `tuple.index(x)`: This method returns the index of the first element equal to x."
   ]
  },
  {
   "cell_type": "code",
   "execution_count": 3,
   "metadata": {},
   "outputs": [
    {
     "name": "stdout",
     "output_type": "stream",
     "text": [
      "The index of the first element equal to 3 is: 2\n"
     ]
    }
   ],
   "source": [
    "# Creating a Tuple\n",
    "my_tuple = (1, 2, 3, 4, 3, 2, 1)\n",
    "\n",
    "# Using the index method\n",
    "index = my_tuple.index(3)\n",
    "print(f\"The index of the first element equal to 3 is: {index}\")"
   ]
  },
  {
   "cell_type": "markdown",
   "metadata": {},
   "source": [
    "- `tuple.count(x)`: This method counts the number of times x appears in the tuple."
   ]
  },
  {
   "cell_type": "code",
   "execution_count": null,
   "metadata": {},
   "outputs": [],
   "source": [
    "# Using the count method\n",
    "count = my_tuple.count(2)\n",
    "print(f\"The number 2 appears {count} times in the tuple\")"
   ]
  },
  {
   "cell_type": "markdown",
   "metadata": {},
   "source": [
    "- `tuple.__len__()`: This method returns the length of the tuple."
   ]
  },
  {
   "cell_type": "code",
   "execution_count": null,
   "metadata": {},
   "outputs": [],
   "source": [
    "# Using the len method to get the length\n",
    "length = len(my_tuple)\n",
    "print(f\"The length of the tuple is: {length}\")"
   ]
  },
  {
   "cell_type": "markdown",
   "metadata": {},
   "source": [
    "- `tuple.__contains__(x)`: This method checks if an element x is present in the tuple."
   ]
  },
  {
   "cell_type": "code",
   "execution_count": null,
   "metadata": {},
   "outputs": [],
   "source": [
    "# Checking if an Element is in the Tuple\n",
    "if 5 in my_tuple:\n",
    "    print(\"The number 5 is in the tuple.\")\n",
    "else:\n",
    "    print(\"The number 5 is not in the tuple.\")"
   ]
  },
  {
   "cell_type": "markdown",
   "metadata": {},
   "source": [
    "- `tuple.__getitem__(i)`: This method allows accessing an item in the tuple by its index i."
   ]
  },
  {
   "cell_type": "code",
   "execution_count": null,
   "metadata": {},
   "outputs": [],
   "source": [
    "# Accessing an Element by Index\n",
    "element = my_tuple[3]\n",
    "print(f\"The element at index 3 is: {element}\")"
   ]
  },
  {
   "cell_type": "markdown",
   "metadata": {},
   "source": [
    "- `tuple.__reversed__()`: This method returns a reversed version of the tuple."
   ]
  },
  {
   "cell_type": "code",
   "execution_count": null,
   "metadata": {},
   "outputs": [],
   "source": [
    "# Getting a Reversed Version of the Tuple\n",
    "reversed_tuple = tuple(reversed(my_tuple))\n",
    "print(f\"Reversed tuple: {reversed_tuple}\")"
   ]
  },
  {
   "cell_type": "markdown",
   "metadata": {},
   "source": [
    "You can learn more about tuple methods in the [official documentation](https://docs.python.org/3/tutorial/datastructures.html#tuples-and-sequences)."
   ]
  },
  {
   "cell_type": "markdown",
   "metadata": {
    "lang": "en"
   },
   "source": [
    "### Sets\n",
    "\n",
    "In Python, a set is an unordered collection of unique elements. Unlike lists and tuples, sets do not allow duplicate elements. Sets are useful when you need to store elements where the order is not important and you want to ensure there are no duplicates.\n",
    "\n",
    "Sets are defined using curly braces `{}` or the `set()` function, and the elements are separated by commas. Throughout this section, we will explore how to work with sets in Python and some of the methods available for them."
   ]
  },
  {
   "cell_type": "code",
   "execution_count": null,
   "metadata": {},
   "outputs": [],
   "source": [
    "# Sets creation\n",
    "my_set = {1, 2, 3, 4, 5}"
   ]
  },
  {
   "cell_type": "code",
   "execution_count": null,
   "metadata": {},
   "outputs": [],
   "source": [
    "# Print set\n",
    "print(my_set)"
   ]
  },
  {
   "cell_type": "code",
   "execution_count": null,
   "metadata": {
    "scrolled": true
   },
   "outputs": [],
   "source": [
    "# Sets do not allow duplicates\n",
    "my_set = {1, 2, 2, 3, 3, 4, 5}\n",
    "print(my_set)  # output: {1, 2, 3, 4, 5}"
   ]
  },
  {
   "cell_type": "markdown",
   "metadata": {},
   "source": [
    "The `set()` constructor in Python is used to create an empty set or to convert other iterable objects (like lists or tuples) into sets. Here are some examples of how it works:"
   ]
  },
  {
   "cell_type": "code",
   "execution_count": null,
   "metadata": {},
   "outputs": [],
   "source": [
    "# Create empty set with set()\n",
    "empty_set = set()\n",
    "print(empty_set)  # output: set()"
   ]
  },
  {
   "cell_type": "code",
   "execution_count": null,
   "metadata": {},
   "outputs": [],
   "source": [
    "# Convert a list to a set\n",
    "my_list = [1, 2, 2, 3, 4, 4]\n",
    "my_set = set(my_list)\n",
    "print(my_set)  # output: {1, 2, 3, 4}"
   ]
  },
  {
   "cell_type": "code",
   "execution_count": null,
   "metadata": {},
   "outputs": [],
   "source": [
    "# Convert tuple into set\n",
    "my_tuple = (1, 2, 3, 3, 4, 5)\n",
    "my_set = set(my_tuple)\n",
    "print(my_set)  # output: {1, 2, 3, 4, 5}"
   ]
  },
  {
   "cell_type": "markdown",
   "metadata": {},
   "source": [
    "**Set Operations in Python**: Sets in Python are not only useful for storing unique elements but also allow for various set operations, such as union, intersection, and difference. These operations are very useful for working with data sets and performing analysis.\n",
    "\n",
    "Below, we will explore three of the most common set operations in Python: union, intersection, and difference. Through practical examples, we will see how to perform these operations and how they can be beneficial in different situations.\n",
    "\n",
    "![sets are venn diagrams](https://mathworld.wolfram.com/images/eps-svg/VennDiagram_900.svg)"
   ]
  },
  {
   "cell_type": "code",
   "execution_count": null,
   "metadata": {},
   "outputs": [],
   "source": [
    "# Set Operations: Union, Intersection, and Difference\n",
    "set1 = {1, 2, 3, 4, 5}\n",
    "set2 = {3, 4, 5, 6, 7}"
   ]
  },
  {
   "cell_type": "code",
   "execution_count": null,
   "metadata": {},
   "outputs": [],
   "source": [
    "# Union\n",
    "union = set1 | set2\n",
    "print(union)"
   ]
  },
  {
   "cell_type": "code",
   "execution_count": null,
   "metadata": {},
   "outputs": [],
   "source": [
    "# intersection\n",
    "intersection = set1 & set2\n",
    "print(intersection)"
   ]
  },
  {
   "cell_type": "code",
   "execution_count": null,
   "metadata": {},
   "outputs": [],
   "source": [
    "# Difference\n",
    "difference = set1 - set2\n",
    "print(diferencia)  # output: {1, 2}"
   ]
  },
  {
   "cell_type": "markdown",
   "metadata": {},
   "source": [
    "**Available Methods for Sets in Python**: In Python, sets are a useful data structure that provides a range of built-in methods for operations and manipulations. Here are some of the most common methods you can use with sets:\n",
    "\n",
    "- `add(element)`: Adds an element to the set."
   ]
  },
  {
   "cell_type": "code",
   "execution_count": null,
   "metadata": {},
   "outputs": [],
   "source": [
    "my_set = {1, 2, 3}\n",
    "my_set.add(4)\n",
    "print(my_set)"
   ]
  },
  {
   "cell_type": "markdown",
   "metadata": {},
   "source": [
    "- `remove(element)`: Removes a specific element from the set. Raises an error if the element is not present."
   ]
  },
  {
   "cell_type": "code",
   "execution_count": null,
   "metadata": {},
   "outputs": [],
   "source": [
    "my_set = {1, 2, 3}\n",
    "my_set.remove(2)\n",
    "print(my_set)"
   ]
  },
  {
   "cell_type": "markdown",
   "metadata": {},
   "source": [
    "- `discard(element)`: Removes an element from the set if it is present, but does not raise an error if the element does not exist."
   ]
  },
  {
   "cell_type": "code",
   "execution_count": null,
   "metadata": {},
   "outputs": [],
   "source": [
    "my_set = {1, 2, 3}\n",
    "my_set.discard(4)\n",
    "print(my_set)"
   ]
  },
  {
   "cell_type": "markdown",
   "metadata": {},
   "source": [
    "- `pop()`: Removes and returns a random element from the set."
   ]
  },
  {
   "cell_type": "code",
   "execution_count": null,
   "metadata": {},
   "outputs": [],
   "source": [
    "my_set = {1, 2, 3}\n",
    "element = my_set.pop()\n",
    "print(element)"
   ]
  },
  {
   "cell_type": "markdown",
   "metadata": {},
   "source": [
    "- `clear()`: Removes all elements from the set, leaving it empty."
   ]
  },
  {
   "cell_type": "code",
   "execution_count": null,
   "metadata": {},
   "outputs": [],
   "source": [
    "my_set = {1, 2, 3}\n",
    "my_set.clear()\n",
    "print(my_set)"
   ]
  },
  {
   "cell_type": "markdown",
   "metadata": {},
   "source": [
    "- `union(other_set)`: Returns a new set that is the union of two sets."
   ]
  },
  {
   "cell_type": "code",
   "execution_count": null,
   "metadata": {},
   "outputs": [],
   "source": [
    "set1 = {1, 2, 3}\n",
    "set2 = {3, 4, 5}\n",
    "union = set1.union(set2)\n",
    "print(union)"
   ]
  },
  {
   "cell_type": "markdown",
   "metadata": {},
   "source": [
    "- `intersection(other_set)`: Returns a new set that is the intersection of two sets."
   ]
  },
  {
   "cell_type": "code",
   "execution_count": null,
   "metadata": {},
   "outputs": [],
   "source": [
    "set1 = {1, 2, 3}\n",
    "set2 = {3, 4, 5}\n",
    "interseccion = set1.intersection(set2)\n",
    "print(interseccion)"
   ]
  },
  {
   "cell_type": "markdown",
   "metadata": {},
   "source": [
    "- `difference(other_set)`: Returns a new set that is the difference between two sets."
   ]
  },
  {
   "cell_type": "code",
   "execution_count": null,
   "metadata": {},
   "outputs": [],
   "source": [
    "set1 = {1, 2, 3}\n",
    "set2 = {3, 4, 5}\n",
    "diff = set1.difference(set2)\n",
    "print(diff)"
   ]
  },
  {
   "cell_type": "markdown",
   "metadata": {},
   "source": [
    "- `issubset(other_set)`: Checks if the set is a subset of another set."
   ]
  },
  {
   "cell_type": "code",
   "execution_count": null,
   "metadata": {},
   "outputs": [],
   "source": [
    "set1 = {1, 2}\n",
    "set2 = {1, 2, 3, 4}\n",
    "is_sub = set1.issubset(set2)\n",
    "print(is_sub)"
   ]
  },
  {
   "cell_type": "markdown",
   "metadata": {},
   "source": [
    "- `issuperset(other_set)`: Checks if the set is a superset of another set."
   ]
  },
  {
   "cell_type": "code",
   "execution_count": null,
   "metadata": {},
   "outputs": [],
   "source": [
    "set1 = {1, 2, 3, 4}\n",
    "set2 = {1, 2}\n",
    "is_super = set1.issuperset(set2)\n",
    "print(is_super)  # output: True\n"
   ]
  },
  {
   "cell_type": "markdown",
   "metadata": {},
   "source": [
    "These are just a few of the methods available for working with sets in Python. You can use them to perform a variety of operations and manipulations on your data.\n",
    "### Dictionaries\n",
    "\n",
    "In Python, dictionaries are a data structure that allows storing key-value pairs. Each item in a dictionary consists of a unique key associated with a corresponding value. Dictionaries are extremely flexible and versatile, and are used to represent structured data in the form of a lookup table.\n",
    "\n",
    "In a dictionary:\n",
    "- Keys are unique and cannot be duplicated.\n",
    "- Values can be of any data type, such as integers, strings, lists, or other dictionaries.\n",
    "- Dictionaries are unordered, meaning they do not maintain a specific order of items.\n",
    "\n",
    "Dictionaries are defined using curly braces `{}` and each key-value pair is separated by `:`. For example:"
   ]
  },
  {
   "cell_type": "code",
   "execution_count": 5,
   "metadata": {},
   "outputs": [
    {
     "data": {
      "text/plain": [
       "{'name': 'Juan', 'age': 22, 'subjects': ['Math', 'Science', 'Language']}"
      ]
     },
     "execution_count": 5,
     "metadata": {},
     "output_type": "execute_result"
    }
   ],
   "source": [
    "# Creating a Dictionary\n",
    "student_information = {\n",
    "    \"name\": \"Juan\",\n",
    "    \"age\": 22,\n",
    "    \"subjects\": [\"Math\", \"Science\", \"Language\"],\n",
    "}\n",
    "student_information"
   ]
  },
  {
   "cell_type": "code",
   "execution_count": null,
   "metadata": {},
   "outputs": [],
   "source": [
    "# Accessing Elements in the Dictionary\n",
    "print(student_information[\"name\"])\n",
    "print(student_information[\"subjects\"])"
   ]
  },
  {
   "cell_type": "code",
   "execution_count": null,
   "metadata": {},
   "outputs": [],
   "source": [
    "# Modifying a Value in the Dictionary\n",
    "student_information[\"age\"] = 23\n",
    "student_information"
   ]
  },
  {
   "cell_type": "code",
   "execution_count": null,
   "metadata": {},
   "outputs": [
    {
     "data": {
      "text/plain": [
       "{'name': 'Juan',\n",
       " 'age': 22,\n",
       " 'subjects': ['Math', 'Science', 'Language'],\n",
       " 'graduation': 2023}"
      ]
     },
     "execution_count": 7,
     "metadata": {},
     "output_type": "execute_result"
    }
   ],
   "source": [
    "# Adding a New Key-Value Pair to the Dictionary\n",
    "student_information[\"graduation\"] = 2023\n",
    "student_information \n",
    "\n",
    "# {'name': 'Juan',\n",
    "#  'age': 22,\n",
    "#  'subjects': ['Math', 'Science', 'Language'],\n",
    "#  'graduation': 2023}"
   ]
  },
  {
   "cell_type": "code",
   "execution_count": 8,
   "metadata": {},
   "outputs": [
    {
     "data": {
      "text/plain": [
       "{'name': 'Juan', 'age': 22, 'graduation': 2023}"
      ]
     },
     "execution_count": 8,
     "metadata": {},
     "output_type": "execute_result"
    }
   ],
   "source": [
    "# Removing a Key-Value Pair from the Dictionary\n",
    "del student_information[\"subjects\"]\n",
    "student_information"
   ]
  },
  {
   "cell_type": "markdown",
   "metadata": {},
   "source": [
    "- The `get()` method is used to obtain the value associated with a specific key in the dictionary."
   ]
  },
  {
   "cell_type": "code",
   "execution_count": 11,
   "metadata": {
    "scrolled": true
   },
   "outputs": [
    {
     "name": "stdout",
     "output_type": "stream",
     "text": [
      "Ana\n"
     ]
    }
   ],
   "source": [
    "dictionary = {'name': 'Ana', 'age': 25}\n",
    "value = dictionary.get('name')\n",
    "print(value)"
   ]
  },
  {
   "cell_type": "markdown",
   "metadata": {},
   "source": [
    "If the key does not exist, it returns an optional default value."
   ]
  },
  {
   "cell_type": "code",
   "execution_count": null,
   "metadata": {},
   "outputs": [
    {
     "name": "stdout",
     "output_type": "stream",
     "text": [
      "0\n"
     ]
    }
   ],
   "source": [
    "dictionary = {'name': 'Ana', 'age': 25}\n",
    "missing = dictionary.get('Eve', 0) # means \"look for 'Eve' in the dictionary, and if she's not there, return 0 instead of throwing an error.\n",
    "print(missing)"
   ]
  },
  {
   "cell_type": "markdown",
   "metadata": {},
   "source": [
    "- The `keys()` method returns a view of all the keys present in the dictionary."
   ]
  },
  {
   "cell_type": "code",
   "execution_count": 10,
   "metadata": {},
   "outputs": [
    {
     "name": "stdout",
     "output_type": "stream",
     "text": [
      "dict_keys(['name', 'age'])\n"
     ]
    }
   ],
   "source": [
    "diccionario = {'name': 'Ana', 'age': 25}\n",
    "values = diccionario.keys()\n",
    "print(values)"
   ]
  },
  {
   "cell_type": "markdown",
   "metadata": {},
   "source": [
    "- The `values()` method returns a view of all the values present in the dictionary."
   ]
  },
  {
   "cell_type": "code",
   "execution_count": null,
   "metadata": {},
   "outputs": [],
   "source": [
    "diccionario = {'nombre': 'Ana', 'edad': 25}\n",
    "valores = diccionario.values()\n",
    "print(valores)"
   ]
  },
  {
   "cell_type": "markdown",
   "metadata": {},
   "source": [
    "- The `items()` method returns a view of all the key-value pairs present in the dictionary."
   ]
  },
  {
   "cell_type": "code",
   "execution_count": null,
   "metadata": {},
   "outputs": [],
   "source": [
    "diccionario = {'nombre': 'Ana', 'edad': 25}\n",
    "items = diccionario.items()\n",
    "print(items)"
   ]
  },
  {
   "cell_type": "markdown",
   "metadata": {},
   "source": [
    "- The `update()` method is used to update the dictionary with the key-value pairs from another dictionary or with specified key-value pairs."
   ]
  },
  {
   "cell_type": "code",
   "execution_count": null,
   "metadata": {},
   "outputs": [],
   "source": [
    "diccionario = {'nombre': 'Ana', 'edad': 25}\n",
    "diccionario.update({'edad': 26})\n",
    "print(diccionario)"
   ]
  },
  {
   "cell_type": "markdown",
   "metadata": {},
   "source": [
    "You can read more about these and other dictionary methods in the [official Python documentation](https://docs.python.org/3/library/stdtypes.html#dict).\n",
    "\n",
    "## Comparison of Data Structures in Python\n",
    "\n",
    "In Python, you have various data structures available for storing and manipulating information. Below, we'll compare lists, tuples, sets, and dictionaries, highlighting their differences and when it's appropriate to use each one:\n",
    "\n",
    "### Lists:\n",
    "- **Usage**: Use a list when you need an ordered and mutable collection of elements.\n",
    "- **Syntax**: They are defined with square brackets `[]`.\n",
    "- **Main Features**:\n",
    "  - Can contain elements of different types.\n",
    "  - Elements can be changed (mutable).\n",
    "  - Elements are accessed by index.\n",
    "  - Can contain duplicates.\n",
    "\n",
    "### Tuples:\n",
    "- **Usage**: Use a tuple when you need an ordered and immutable collection of elements.\n",
    "- **Syntax**: They are defined with parentheses `()`.\n",
    "- **Main Features**:\n",
    "  - Can contain elements of different types.\n",
    "  - Elements cannot be changed (immutable).\n",
    "  - Elements are accessed by index.\n",
    "  - Can contain duplicates.\n",
    "\n",
    "### Sets:\n",
    "- **Usage**: Use a set when you need an unordered collection of unique elements.\n",
    "- **Syntax**: They are defined with curly braces `{}`.\n",
    "- **Main Features**:\n",
    "  - Contain unique elements (no duplicates).\n",
    "  - Not indexable or ordered.\n",
    "  - Useful for performing set operations like union and intersection.\n",
    "\n",
    "### Dictionaries:\n",
    "- **Usage**: Use a dictionary when you need a collection of key-value pairs.\n",
    "- **Syntax**: They are defined with curly braces `{}` and each key-value pair is separated by `:`. Example: `{\"key\": value}`.\n",
    "- **Main Features**:\n",
    "  - Store data in key-value pairs.\n",
    "  - Keys are unique and cannot be duplicated.\n",
    "  - Values can be of any type.\n",
    "  - Efficient for key-based lookups.\n",
    "\n",
    "## Final Exercise\n",
    "\n",
    "You're going to create a program that simulates a simple inventory system for a store. You should use variables, data types, basic operations, lists, tuples, sets, dictionaries, string methods, and set operations to develop this program. Here are the specific tasks you need to"
   ]
  },
  {
   "cell_type": "code",
   "execution_count": null,
   "metadata": {},
   "outputs": [],
   "source": [
    "# Ejemplo\n",
    "inventario = {\n",
    "    \"Product A\": (30, 20.50),\n",
    "    \"Product B\": (20, 30.00)\n",
    "}"
   ]
  },
  {
   "cell_type": "markdown",
   "metadata": {},
   "source": [
    "- **Step 2**: Use the input() function to request the user to enter the name of a product, the quantity of units sold, and the sale price. Use a string method for the input().\n",
    "\n",
    "- **Step 3:** Use basic operations to update the inventory after a sale, and calculate the total revenue generated by the sale.\n",
    "\n",
    "- **Step 4:** Use string methods to format and display a sales receipt that includes the product name, the quantity sold, the unit price, and the total sale.\n",
    "\n",
    "- **Step 5:** Create a list that contains the names of all the products in the inventory and use set operations to identify any new product that was not previously in the inventory.\n",
    "\n",
    "**Additional Instructions**:\n",
    "\n",
    "- Use comments to clearly document your code.\n",
    "- Ensure your program can handle multiple data types (such as strings and numbers) and implements type conversions when necessary.\n",
    "- Try to incorporate at least one example of each of the string methods mentioned in the summary section."
   ]
  },
  {
   "cell_type": "code",
   "execution_count": null,
   "metadata": {},
   "outputs": [],
   "source": [
    "# your code here"
   ]
  },
  {
   "cell_type": "code",
   "execution_count": null,
   "metadata": {},
   "outputs": [],
   "source": [
    "# STEP 1: Create a dictionary representing the initial store inventory\n",
    "# Each key is a product name and each value is a list containing the\n",
    "# number of units available and the price per unit.\n",
    "inventory = {\n",
    "    \"Product A\": [30, 20.50],\n",
    "    \"Product B\": [20, 30.00]\n",
    "}\n",
    "\n",
    "# STEP 2: Ask the user to enter the sale details\n",
    "# We use the title() method to ensure the first letter of each word in the product name is capitalized.\n",
    "product_name = input(\"Please enter the product name: \").title()\n",
    "# We convert the input for the number of units sold to an integer.\n",
    "units_sold = int(input(\"Please enter the number of units sold: \"))\n",
    "\n",
    "\n",
    "# STEP 3: Update the inventory after a sale and calculate the revenue generated by the sale\n",
    "# We obtain the unit price of the product from the inventory.\n",
    "sale_price = inventory[product_name][1]\n",
    "\n",
    "# We adjust the number of units available.\n",
    "inventory[product_name][0] = inventory[product_name][0] - units_sold\n",
    "\n",
    "# We calculate the total revenue generated by the sale.\n",
    "generated_revenue = units_sold * sale_price\n",
    "\n",
    "# STEP 4: Format and display a sale receipt\n",
    "# We create a formatted receipt with the sale details.\n",
    "receipt = f\"\"\"\n",
    "Sales Receipt\n",
    "Product: {product_name}\n",
    "Units Sold: {units_sold}\n",
    "Unit Price: €{sale_price:.2f}\n",
    "Total Sale: €{generated_revenue:.2f}\n",
    "\"\"\"\n",
    "\n",
    "# We display the receipt.\n",
    "print(receipt)\n",
    "\n",
    "# STEP 5: Create a list with the names of all the products in the inventory and identify new products\n",
    "# We create a list with the names of all the products in the inventory.\n",
    "product_list = list(inventory.keys())\n",
    "\n",
    "# We display the updated inventory.\n",
    "print(\"Updated Inventory:\", inventory)"
   ]
  },
  {
   "cell_type": "markdown",
   "metadata": {
    "lang": "en"
   },
   "source": [
    "## Summary\n",
    "\n",
    "In this Jupyter notebook, we have explored fundamental Python concepts for beginners. Here's a summary of what we've learned:\n",
    "\n",
    "#### Variables and Data Types\n",
    "- We learned how to declare variables and explored data types like integers, floats, strings, and booleans.\n",
    "- We understood implicit and explicit type conversions.\n",
    "\n",
    "#### Basic Operations\n",
    "- We performed basic arithmetic operations such as addition, subtraction, multiplication, division, and modulo.\n",
    "- We understood the difference between normal division and integer division.\n",
    "\n",
    "#### Data Input and Output\n",
    "- We used `input()` to receive data from the user and `print()` to display information on the console.\n",
    "\n",
    "#### Lists, Tuples, and Sets\n",
    "- We explored lists, tuples, and sets as data structures to store collections of elements.\n",
    "- We learned to access elements within these structures and to perform common operations.\n",
    "\n",
    "#### Dictionaries\n",
    "- We introduced dictionaries as key-value data structures and how to use them to store and retrieve related information.\n",
    "\n",
    "#### Set Operations\n",
    "- We learned about set operations like union, intersection, and difference.\n",
    "\n",
    "#### String Methods\n",
    "- We explored various methods to manipulate text strings, including `capitalize()`, `upper()`, `lower()`, `swapcase()`, `title()`, `join()`, `startswith()`, `endswith()`, `lstrip()`, `rstrip()`, `replace()`, and `split()`.\n",
    "\n",
    "This notebook provides a solid foundation for Python beginners and will serve as a useful reference as you continue learning and working with the language."
   ]
  }
 ],
 "metadata": {
  "kernelspec": {
   "display_name": "Python 3",
   "language": "python",
   "name": "python3"
  },
  "language_info": {
   "codemirror_mode": {
    "name": "ipython",
    "version": 3
   },
   "file_extension": ".py",
   "mimetype": "text/x-python",
   "name": "python",
   "nbconvert_exporter": "python",
   "pygments_lexer": "ipython3",
   "version": "3.13.3"
  },
  "nbTranslate": {
   "displayLangs": [
    "en",
    "es"
   ],
   "hotkey": "alt-a",
   "langInMainMenu": true,
   "sourceLang": "es",
   "targetLang": "en",
   "useGoogleTranslate": true
  },
  "toc": {
   "base_numbering": 1,
   "nav_menu": {},
   "number_sections": true,
   "sideBar": true,
   "skip_h1_title": true,
   "title_cell": "Table of Contents",
   "title_sidebar": "Contents",
   "toc_cell": true,
   "toc_position": {
    "height": "calc(100% - 180px)",
    "left": "10px",
    "top": "150px",
    "width": "222.891px"
   },
   "toc_section_display": true,
   "toc_window_display": false
  },
  "varInspector": {
   "cols": {
    "lenName": 16,
    "lenType": 16,
    "lenVar": 40
   },
   "kernels_config": {
    "python": {
     "delete_cmd_postfix": "",
     "delete_cmd_prefix": "del ",
     "library": "var_list.py",
     "varRefreshCmd": "print(var_dic_list())"
    },
    "r": {
     "delete_cmd_postfix": ") ",
     "delete_cmd_prefix": "rm(",
     "library": "var_list.r",
     "varRefreshCmd": "cat(var_dic_list()) "
    }
   },
   "types_to_exclude": [
    "module",
    "function",
    "builtin_function_or_method",
    "instance",
    "_Feature"
   ],
   "window_display": false
  }
 },
 "nbformat": 4,
 "nbformat_minor": 4
}
