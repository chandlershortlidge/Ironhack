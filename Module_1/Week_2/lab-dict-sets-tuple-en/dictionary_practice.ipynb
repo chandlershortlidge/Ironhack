{
 "cells": [
  {
   "cell_type": "code",
   "execution_count": null,
   "id": "accf2c1c",
   "metadata": {},
   "outputs": [
    {
     "name": "stdout",
     "output_type": "stream",
     "text": [
      "=== Exercise 1: Basic Dictionary Access ===\n",
      "85\n",
      "78\n",
      "0\n"
     ]
    }
   ],
   "source": [
    "# Python Dictionary Exercises - 6 Beginner-Friendly Problems\n",
    "\n",
    "# Exercise 1: Basic Dictionary Access\n",
    "# Create a dictionary of student grades and practice accessing values\n",
    "print(\"=== Exercise 1: Basic Dictionary Access ===\")\n",
    "grades = {'Alice': 85, 'Bob': 92, 'Charlie': 78, 'Diana': 96}\n",
    "\n",
    "# TODO: Access and print Alice's grade\n",
    "# TODO: Access and print Charlie's grade\n",
    "# TODO: Try to get a grade for 'Eve' using .get() method with default value 0\n",
    "\n",
    "# TODO: Access and print Alice's grade\n",
    "grade1 = grades.get('Alice')\n",
    "print(grade1)\n",
    "\n",
    "# TODO: Access and print Charlie's grade\n",
    "grade2 = grades.get('Charlie')\n",
    "print(grade2)\n",
    "\n",
    "# TODO: Try to get a grade for 'Eve' using .get() method with default value 0\n",
    "grade3 = grades.get('Eve', 0) # \"look for 'Eve' in the grades dictionary, and if she's not there, return 0 instead of throwing an error.\"\n",
    "print(grade3)\n",
    "\n"
   ]
  },
  {
   "cell_type": "code",
   "execution_count": null,
   "id": "c99e19f4",
   "metadata": {},
   "outputs": [
    {
     "name": "stdout",
     "output_type": "stream",
     "text": [
      "=== Exercise 2: Adding and Modifying Items ===\n",
      "{'apples': 12, 'bananas': 8, 'oranges': 15, 'grapes': 20}\n",
      "{'apples': 12, 'bananas': 12, 'oranges': 15, 'grapes': 20}\n"
     ]
    }
   ],
   "source": [
    "# Exercise 2: Adding and Modifying Dictionary Items\n",
    "print(\"=== Exercise 2: Adding and Modifying Items ===\")\n",
    "inventory = {'apples': 12, 'bananas': 8, 'oranges': 15}\n",
    "\n",
    "# TODO: Add 'grapes' with quantity 20\n",
    "# TODO: Update 'bananas' quantity to 12\n",
    "# TODO: Print the updated inventory'\n",
    "\n",
    "inventory[\"grapes\"] = 20\n",
    "print(inventory)\n",
    "\n",
    "# TODO: Update 'bananas' quantity to 12\n",
    "inventory[\"bananas\"] = 12\n",
    "print(inventory)"
   ]
  },
  {
   "cell_type": "code",
   "execution_count": 15,
   "id": "7945a378",
   "metadata": {},
   "outputs": [
    {
     "name": "stdout",
     "output_type": "stream",
     "text": [
      "=== Exercise 3: Iterating Through Dictionaries ===\n",
      "dict_keys(['red', 'green', 'blue', 'yellow'])\n",
      "dict_values(['#FF0000', '#00FF00', '#0000FF', '#FFFF00'])\n",
      "dict_items([('red', '#FF0000'), ('green', '#00FF00'), ('blue', '#0000FF'), ('yellow', '#FFFF00')])\n"
     ]
    }
   ],
   "source": [
    "# Exercise 3: Iterating Through Dictionary Keys and Values\n",
    "print(\"=== Exercise 3: Iterating Through Dictionaries ===\")\n",
    "colors = {'red': '#FF0000', 'green': '#00FF00', 'blue': '#0000FF', 'yellow': '#FFFF00'}\n",
    "\n",
    "# TODO: Print all color names (keys)\n",
    "# TODO: Print all hex codes (values)  \n",
    "# TODO: Print both color name and hex code together\n",
    "\n",
    "colorkeys = colors.keys()\n",
    "print(colorkeys)\n",
    "\n",
    "colorvalues = colors.values()\n",
    "print(colorvalues)\n",
    "\n",
    "coloritems = colors.items()\n",
    "print(coloritems)"
   ]
  },
  {
   "cell_type": "code",
   "execution_count": 17,
   "id": "f78ffa4f",
   "metadata": {},
   "outputs": [
    {
     "name": "stdout",
     "output_type": "stream",
     "text": [
      "The color red has hex code #FF0000\n",
      "The color green has hex code #00FF00\n",
      "The color blue has hex code #0000FF\n",
      "The color yellow has hex code #FFFF00\n"
     ]
    }
   ],
   "source": [
    "for color, hex_code in colors.items():\n",
    "    print(f\"The color {color} has hex code {hex_code}\")"
   ]
  },
  {
   "cell_type": "code",
   "execution_count": 2,
   "id": "5aaf4930",
   "metadata": {},
   "outputs": [
    {
     "name": "stdout",
     "output_type": "stream",
     "text": [
      "=== Exercise 4: List Comprehension with Dictionaries ===\n"
     ]
    }
   ],
   "source": [
    "# Exercise 4: Using List Comprehension with Dictionaries\n",
    "print(\"=== Exercise 4: List Comprehension with Dictionaries ===\")\n",
    "temperatures = {'Monday': 72, 'Tuesday': 68, 'Wednesday': 75, 'Thursday': 70, 'Friday': 73}\n",
    "\n",
    "# TODO: Create a list of days where temperature is above 70(\n",
    "# TODO: Create a dictionary with temperatures converted to Celsius C = (F-32)*5/9)\n",
    "# Hint: Use dictionary comprehension {key: value for key, value in dict.items()}\n",
    "\n"
   ]
  },
  {
   "cell_type": "code",
   "execution_count": 3,
   "id": "59a1c359",
   "metadata": {},
   "outputs": [
    {
     "name": "stdout",
     "output_type": "stream",
     "text": [
      "['Monday', 'Wednesday', 'Friday']\n"
     ]
    }
   ],
   "source": [
    "temp_list = []\n",
    "for days, temperature in temperatures.items(): # loop through the keys and values\n",
    "    if temperature > 70:\n",
    "        temp_list.append(days)\n",
    "        \n",
    "print(temp_list)\n",
    "\n",
    "\n",
    "\n"
   ]
  },
  {
   "cell_type": "code",
   "execution_count": 4,
   "id": "d719d476",
   "metadata": {},
   "outputs": [
    {
     "data": {
      "text/plain": [
       "['Monday', 'Wednesday', 'Friday']"
      ]
     },
     "execution_count": 4,
     "metadata": {},
     "output_type": "execute_result"
    }
   ],
   "source": [
    "# list comprehension \n",
    "tempature_list = [days for days, temperature in temperatures.items() if temperature > 70]\n",
    "tempature_list"
   ]
  },
  {
   "cell_type": "code",
   "execution_count": 6,
   "id": "62f97b58",
   "metadata": {},
   "outputs": [
    {
     "name": "stdout",
     "output_type": "stream",
     "text": [
      "{'Monday': 22.22222222222222, 'Tuesday': 20.0, 'Wednesday': 23.88888888888889, 'Thursday': 21.11111111111111, 'Friday': 22.77777777777778}\n"
     ]
    }
   ],
   "source": [
    "celsius_dict = {}\n",
    "\n",
    "for days, temperature in temperatures.items():\n",
    "    newtemp = ((temperature - 32) * 5/9)\n",
    "    celsius_dict[days] = newtemp\n",
    "\n",
    "\n",
    "print(celsius_dict)\n",
    "   \n",
    "\n"
   ]
  },
  {
   "cell_type": "code",
   "execution_count": null,
   "id": "ee66528f",
   "metadata": {},
   "outputs": [],
   "source": []
  },
  {
   "cell_type": "code",
   "execution_count": 2,
   "id": "066567c0",
   "metadata": {},
   "outputs": [
    {
     "name": "stdout",
     "output_type": "stream",
     "text": [
      "=== Exercise 5: Using zip() with Dictionaries ===\n"
     ]
    }
   ],
   "source": [
    "# Exercise 5: Working with zip() and Dictionaries\n",
    "print(\"=== Exercise 5: Using zip() with Dictionaries ===\")\n",
    "cities = ['Paris', 'Tokyo', 'London', 'Sydney']\n",
    "countries = ['France', 'Japan', 'UK', 'Australia']\n",
    "populations = [2.16, 13.96, 8.98, 5.31]  # in millions\n",
    "\n",
    "# TODO: Create a dictionary mapping cities to countries using zip()\n",
    "# TODO: Create a dictionary mapping cities to populations using zip()\n",
    "# TODO: Create a dictionary with cities as keys and tuples of (country, population) as values\n",
    "\n",
    "\n"
   ]
  },
  {
   "cell_type": "code",
   "execution_count": 4,
   "id": "818a047b",
   "metadata": {},
   "outputs": [
    {
     "data": {
      "text/plain": [
       "{'Paris': 'France', 'Tokyo': 'Japan', 'London': 'UK', 'Sydney': 'Australia'}"
      ]
     },
     "execution_count": 4,
     "metadata": {},
     "output_type": "execute_result"
    }
   ],
   "source": [
    "city_country = {}  # Create an empty dictionary to store the key-value pairs.\n",
    "\n",
    "# Iterate through the 'names' and 'emojis' lists using the 'zip' function.\n",
    "for city, country in zip(cities, countries):\n",
    "    city_country[city] = country  # \"append\" the new dictionary with 'city' as the key and 'country' as the value \n",
    "\n",
    "city_country # The result will be a dictionary where 'city' maps to 'country'."
   ]
  },
  {
   "cell_type": "code",
   "execution_count": 6,
   "id": "bcd8835d",
   "metadata": {},
   "outputs": [
    {
     "data": {
      "text/plain": [
       "{'Paris': 2.16, 'Tokyo': 13.96, 'London': 8.98, 'Sydney': 5.31}"
      ]
     },
     "execution_count": 6,
     "metadata": {},
     "output_type": "execute_result"
    }
   ],
   "source": [
    "city_pop = {}\n",
    "\n",
    "for city, population in zip(cities, populations):\n",
    "    city_pop[city] = population\n",
    "\n",
    "city_pop"
   ]
  },
  {
   "cell_type": "code",
   "execution_count": 9,
   "id": "62597959",
   "metadata": {},
   "outputs": [
    {
     "data": {
      "text/plain": [
       "{'Paris': (2.16, 'France'),\n",
       " 'Tokyo': (13.96, 'Japan'),\n",
       " 'London': (8.98, 'UK'),\n",
       " 'Sydney': (5.31, 'Australia')}"
      ]
     },
     "execution_count": 9,
     "metadata": {},
     "output_type": "execute_result"
    }
   ],
   "source": [
    "# TODO: Create a dictionary with cities as keys and tuples of (country, population) as values\n",
    "\n",
    "city_dict = {}\n",
    "\n",
    "for city, country, population, in zip(cities, populations, countries):\n",
    "    city_dict[city] = (country, population)\n",
    "\n",
    "city_dict\n"
   ]
  },
  {
   "cell_type": "code",
   "execution_count": 8,
   "id": "b6804076",
   "metadata": {},
   "outputs": [
    {
     "name": "stdout",
     "output_type": "stream",
     "text": [
      "=== Exercise 6: Nested Dictionaries ===\n"
     ]
    }
   ],
   "source": [
    "print(\"=== Exercise 6: Nested Dictionaries ===\")\n",
    "students = {\n",
    "    'John': {'age': 20, 'major': 'Computer Science', 'gpa': 3.7},\n",
    "    'Sarah': {'age': 19, 'major': 'Biology', 'gpa': 3.9},\n",
    "    'Mike': {'age': 21, 'major': 'Physics', 'gpa': 3.5}\n",
    "}\n",
    "\n",
    "# TODO: Print John's major\n",
    "# TODO: Print Sarah's GPA\n",
    "# TODO: Add a new student 'Emma' with age 20, major 'Mathematics', gpa 3.8\n",
    "# TODO: Update Mike's age to 22\n",
    "# TODO: Print all students who have GPA above 3.6"
   ]
  },
  {
   "cell_type": "code",
   "execution_count": 26,
   "id": "b9317c9f",
   "metadata": {},
   "outputs": [
    {
     "name": "stdout",
     "output_type": "stream",
     "text": [
      "Computer Science\n"
     ]
    }
   ],
   "source": [
    "# TODO: Print John's major\n",
    "\n",
    "john_major = students[\"John\"][\"major\"]\n",
    "print(john_major)"
   ]
  },
  {
   "cell_type": "code",
   "execution_count": 28,
   "id": "e5afa8d6",
   "metadata": {},
   "outputs": [
    {
     "name": "stdout",
     "output_type": "stream",
     "text": [
      "3.9\n"
     ]
    }
   ],
   "source": [
    "# TODO: Print Sarah's GPA\n",
    "\n",
    "sarah_gpa = students[\"Sarah\"][\"gpa\"]\n",
    "print(sarah_gpa)"
   ]
  },
  {
   "cell_type": "code",
   "execution_count": 38,
   "id": "e88f5577",
   "metadata": {},
   "outputs": [
    {
     "name": "stdout",
     "output_type": "stream",
     "text": [
      "{'John': {'age': 20, 'major': 'Computer Science', 'gpa': 3.7}, 'Sarah': {'age': 19, 'major': 'Biology', 'gpa': 3.9}, 'Mike': {'age': 21, 'major': 'Physics', 'gpa': 3.5}, 'Emma': {'age': 20, 'major': 'Mathematics', 'gpa': 3.78}}\n"
     ]
    }
   ],
   "source": [
    "# TODO: Add a new student 'Emma' with age 20, major 'Mathematics', gpa 3.8\n",
    "\n",
    "students[\"Emma\"] = {'age': 20, 'major': 'Mathematics', 'gpa': 3.78}\n",
    "print(students)"
   ]
  },
  {
   "cell_type": "code",
   "execution_count": 42,
   "id": "cecc4984",
   "metadata": {},
   "outputs": [
    {
     "name": "stdout",
     "output_type": "stream",
     "text": [
      "{'John': {'age': 20, 'major': 'Computer Science', 'gpa': 3.7}, 'Sarah': {'age': 19, 'major': 'Biology', 'gpa': 3.9}, 'Mike': {'age': 22}, 'Emma': {'age': 20, 'major': 'Mathematics', 'gpa': 3.78}}\n"
     ]
    }
   ],
   "source": [
    "# TODO: Update Mike's age to 22\n",
    "\n",
    "students[\"Mike\"][\"age\"] = 22\n",
    "\n",
    "print(students)\n"
   ]
  },
  {
   "cell_type": "code",
   "execution_count": 2,
   "id": "684e8754",
   "metadata": {},
   "outputs": [
    {
     "ename": "KeyError",
     "evalue": "'city'",
     "output_type": "error",
     "traceback": [
      "\u001b[31m---------------------------------------------------------------------------\u001b[39m",
      "\u001b[31mKeyError\u001b[39m                                  Traceback (most recent call last)",
      "\u001b[36mCell\u001b[39m\u001b[36m \u001b[39m\u001b[32mIn[2]\u001b[39m\u001b[32m, line 3\u001b[39m\n\u001b[32m      1\u001b[39m test_dict = {\u001b[33m'\u001b[39m\u001b[33mcountry\u001b[39m\u001b[33m'\u001b[39m: \u001b[33m'\u001b[39m\u001b[33mUSA\u001b[39m\u001b[33m'\u001b[39m, \u001b[33m'\u001b[39m\u001b[33mstate\u001b[39m\u001b[33m'\u001b[39m: \u001b[33m'\u001b[39m\u001b[33mCalifornia\u001b[39m\u001b[33m'\u001b[39m}\n\u001b[32m----> \u001b[39m\u001b[32m3\u001b[39m \u001b[43mtest_dict\u001b[49m\u001b[43m.\u001b[49m\u001b[43mpop\u001b[49m\u001b[43m(\u001b[49m\u001b[33;43m'\u001b[39;49m\u001b[33;43mcity\u001b[39;49m\u001b[33;43m'\u001b[39;49m\u001b[43m)\u001b[49m\n",
      "\u001b[31mKeyError\u001b[39m: 'city'"
     ]
    }
   ],
   "source": [
    "test_dict = {'country': 'USA', 'state': 'California'}\n",
    "\n",
    "test_dict.pop('city')"
   ]
  },
  {
   "cell_type": "code",
   "execution_count": 3,
   "id": "6d37e33a",
   "metadata": {},
   "outputs": [],
   "source": [
    "test_dict.pop('city', None)"
   ]
  },
  {
   "cell_type": "code",
   "execution_count": null,
   "id": "8256a93b",
   "metadata": {},
   "outputs": [],
   "source": []
  }
 ],
 "metadata": {
  "kernelspec": {
   "display_name": "Python 3",
   "language": "python",
   "name": "python3"
  },
  "language_info": {
   "codemirror_mode": {
    "name": "ipython",
    "version": 3
   },
   "file_extension": ".py",
   "mimetype": "text/x-python",
   "name": "python",
   "nbconvert_exporter": "python",
   "pygments_lexer": "ipython3",
   "version": "3.13.3"
  }
 },
 "nbformat": 4,
 "nbformat_minor": 5
}
