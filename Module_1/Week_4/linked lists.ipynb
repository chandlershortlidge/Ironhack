{
 "cells": [
  {
   "cell_type": "markdown",
   "id": "9edff232",
   "metadata": {},
   "source": [
    "# Arrays (lists)"
   ]
  },
  {
   "cell_type": "code",
   "execution_count": 1,
   "id": "97a04549",
   "metadata": {},
   "outputs": [],
   "source": [
    "import numpy as np"
   ]
  },
  {
   "cell_type": "code",
   "execution_count": 2,
   "id": "e8cba699",
   "metadata": {},
   "outputs": [],
   "source": [
    "arr = [] # empty array\n",
    "arr = [1, 2, 3] # list array\n",
    "# lenghty = how many elements it fits\n",
    "# indecies = position of every element\n",
    "# elements"
   ]
  },
  {
   "cell_type": "code",
   "execution_count": 3,
   "id": "aeebea36",
   "metadata": {},
   "outputs": [
    {
     "data": {
      "text/plain": [
       "2"
      ]
     },
     "execution_count": 3,
     "metadata": {},
     "output_type": "execute_result"
    }
   ],
   "source": [
    "arr[1] # element 1"
   ]
  },
  {
   "cell_type": "code",
   "execution_count": 4,
   "id": "39374d1e",
   "metadata": {},
   "outputs": [],
   "source": [
    "np_arr = np.zeros(10)"
   ]
  },
  {
   "cell_type": "code",
   "execution_count": 5,
   "id": "360ddb93",
   "metadata": {},
   "outputs": [],
   "source": [
    "np_arr[4] # assign/update\n",
    "\n",
    "np_arr[4] = 10 # replaces new element to the 4th element"
   ]
  },
  {
   "cell_type": "code",
   "execution_count": 6,
   "id": "0656cc43",
   "metadata": {},
   "outputs": [
    {
     "data": {
      "text/plain": [
       "array([ 0.,  0.,  0.,  0., 10.,  0.,  0.,  0.,  0.,  0.])"
      ]
     },
     "execution_count": 6,
     "metadata": {},
     "output_type": "execute_result"
    }
   ],
   "source": [
    "np_arr"
   ]
  },
  {
   "cell_type": "code",
   "execution_count": 7,
   "id": "18143d7e",
   "metadata": {},
   "outputs": [
    {
     "data": {
      "text/plain": [
       "[1, 2, 3, 5]"
      ]
     },
     "execution_count": 7,
     "metadata": {},
     "output_type": "execute_result"
    }
   ],
   "source": [
    "# dynamic arrays\n",
    "arr.append(5) # we can append in the end\n",
    "# efficient because we just add to the end\n",
    "\n",
    "arr"
   ]
  },
  {
   "cell_type": "code",
   "execution_count": 8,
   "id": "299a36d3",
   "metadata": {},
   "outputs": [
    {
     "data": {
      "text/plain": [
       "[1, 2, 17, 3, 5]"
      ]
     },
     "execution_count": 8,
     "metadata": {},
     "output_type": "execute_result"
    }
   ],
   "source": [
    "arr.insert(2, 17) # insert; expensive because we have to rearrange elements\n",
    "\n",
    "arr"
   ]
  },
  {
   "cell_type": "code",
   "execution_count": 9,
   "id": "e7b7d614",
   "metadata": {},
   "outputs": [
    {
     "data": {
      "text/plain": [
       "[1, 2, 3, 5]"
      ]
     },
     "execution_count": 9,
     "metadata": {},
     "output_type": "execute_result"
    }
   ],
   "source": [
    "arr.remove(17) # remove\n",
    "arr # loops through entire array because it doeesn't know the position. takes a long time; \"expensive\"\n"
   ]
  },
  {
   "cell_type": "code",
   "execution_count": 10,
   "id": "02011c20",
   "metadata": {},
   "outputs": [
    {
     "data": {
      "text/plain": [
       "5"
      ]
     },
     "execution_count": 10,
     "metadata": {},
     "output_type": "execute_result"
    }
   ],
   "source": [
    "arr.pop() # removefrom the end, efficient. \n",
    "# if you need to remove last element, use pop"
   ]
  },
  {
   "cell_type": "code",
   "execution_count": 11,
   "id": "68266919",
   "metadata": {},
   "outputs": [
    {
     "name": "stdout",
     "output_type": "stream",
     "text": [
      "1\n",
      "2\n",
      "3\n"
     ]
    }
   ],
   "source": [
    "# traversial using for loop\n",
    "for num in arr:\n",
    "    print(num)"
   ]
  },
  {
   "cell_type": "markdown",
   "id": "0b47de96",
   "metadata": {},
   "source": [
    "# exercise -- an algorithm \n",
    "1. you have an array of intergers\n",
    "2. goal: find minimum without using min function\n",
    "3. have to write a function called find_min"
   ]
  },
  {
   "cell_type": "code",
   "execution_count": 12,
   "id": "5bc02b62",
   "metadata": {},
   "outputs": [
    {
     "data": {
      "text/plain": [
       "-1"
      ]
     },
     "execution_count": 12,
     "metadata": {},
     "output_type": "execute_result"
    }
   ],
   "source": [
    "from typing import List, Any\n",
    "\n",
    "def find_min(arr: List[int]) -> int:\n",
    "    min_val = arr[0]\n",
    "    for num in arr: \n",
    "        if num < min_val:\n",
    "            min_val = num \n",
    "    return min_val\n",
    "\n",
    "arr2 = [-1, 1, 2, 3]\n",
    "find_min(arr2)\n"
   ]
  },
  {
   "cell_type": "markdown",
   "id": "cbecdbae",
   "metadata": {},
   "source": [
    "# Linked lists"
   ]
  },
  {
   "cell_type": "markdown",
   "id": "55b3edc4",
   "metadata": {},
   "source": [
    "# 🟢 Class Node\n",
    "Think of this as a train car:"
   ]
  },
  {
   "cell_type": "markdown",
   "id": "89ac2d52",
   "metadata": {},
   "source": [
    "- self.data = data – The cargo.\n",
    "- self.next = None – The car’s link to the next car. When you create it, it doesn’t point to anything yet.\n",
    "\n"
   ]
  },
  {
   "cell_type": "markdown",
   "id": "42ed728f",
   "metadata": {},
   "source": [
    "# 🟢 Class LinkedList\n",
    "#   This is the whole train, but it just remembers where the first car is (the \"head\")."
   ]
  },
  {
   "cell_type": "code",
   "execution_count": 10,
   "id": "7fd0acb8",
   "metadata": {},
   "outputs": [],
   "source": [
    "# Define a Node class to represent each element in the linked list\n",
    "class Node:\n",
    "    def __init__(self, data):\n",
    "        # Each node stores data and a reference to the next node\n",
    "        self.data = data\n",
    "        self.next = None  # Initially, the next node is set to None\n",
    "\n",
    "# Define a LinkedList class to manage the linked list operations\n",
    "class LinkedList:\n",
    "    def __init__(self):\n",
    "        # The linked list starts with no elements, so the head is None\n",
    "        self.head = None\n",
    "\n",
    "    # Method to append (add) a new node to the end of the linked list\n",
    "    def append(self, data):\n",
    "        new_node = Node(data)  # Create a new node with the provided data\n",
    "        if not self.head:\n",
    "            # If the list is empty, the new node becomes the head of the list\n",
    "            self.head = new_node\n",
    "            return\n",
    "\n",
    "        # If the list is not empty, traverse to the last node\n",
    "        last_node = self.head\n",
    "        while last_node.next:\n",
    "            last_node = last_node.next\n",
    "\n",
    "        # Add the new node after the last node\n",
    "        last_node.next = new_node\n",
    "\n",
    "    # Method to print all elements in the linked list\n",
    "    def display(self):\n",
    "        current = self.head  # Start from the head node\n",
    "        while current:\n",
    "            print(current.data, end=\" -> \")  # Print each node's data\n",
    "            current = current.next  # Move to the next node\n",
    "        print(\"None\")  # Indicate the end of the list\n",
    "\n",
    "# the output of the linked list \"display\":\n",
    "# 1 -> 2 -> 3 -> None\n",
    "\n"
   ]
  },
  {
   "cell_type": "code",
   "execution_count": 12,
   "id": "a793a858",
   "metadata": {},
   "outputs": [
    {
     "name": "stdout",
     "output_type": "stream",
     "text": [
      "1 -> 2 -> 3 -> None\n"
     ]
    }
   ],
   "source": [
    "# Create an empty linked list\n",
    "llist = LinkedList()\n",
    "\n",
    "# Append nodes to the linked list\n",
    "llist.append(1)\n",
    "llist.append(2)\n",
    "llist.append(3)\n",
    "\n",
    "# Display the linked list\n",
    "llist.display()  # Output: 1 -> 2 -> 3 -> None\n",
    "\n"
   ]
  }
 ],
 "metadata": {
  "kernelspec": {
   "display_name": "Python 3",
   "language": "python",
   "name": "python3"
  },
  "language_info": {
   "codemirror_mode": {
    "name": "ipython",
    "version": 3
   },
   "file_extension": ".py",
   "mimetype": "text/x-python",
   "name": "python",
   "nbconvert_exporter": "python",
   "pygments_lexer": "ipython3",
   "version": "3.13.3"
  }
 },
 "nbformat": 4,
 "nbformat_minor": 5
}
