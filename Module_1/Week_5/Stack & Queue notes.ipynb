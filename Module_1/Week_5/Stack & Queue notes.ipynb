{
 "cells": [
  {
   "cell_type": "markdown",
   "id": "ee4cc8ae",
   "metadata": {},
   "source": [
    "# Stack and Queue"
   ]
  },
  {
   "cell_type": "markdown",
   "id": "22b0a2ee",
   "metadata": {},
   "source": [
    "### Stacks\n",
    "- push(): add an item to stack \n",
    "- pop(): pull an item from stack \n",
    "- top(): remove top element from stack \n",
    "- isemtpy(): True or False if stack is empty\n",
    "- isfull(): True False if stack is full "
   ]
  },
  {
   "cell_type": "code",
   "execution_count": 1,
   "id": "76c4668d",
   "metadata": {},
   "outputs": [],
   "source": [
    "stack = [] # empty array organized as empty list"
   ]
  },
  {
   "cell_type": "code",
   "execution_count": 8,
   "id": "c4c27627",
   "metadata": {},
   "outputs": [],
   "source": [
    "stack.append(4) # push \n",
    "stack.append(6)\n",
    "stack.append(8)\n",
    "stack.append(10)"
   ]
  },
  {
   "cell_type": "code",
   "execution_count": 9,
   "id": "995203cf",
   "metadata": {},
   "outputs": [
    {
     "data": {
      "text/plain": [
       "10"
      ]
     },
     "execution_count": 9,
     "metadata": {},
     "output_type": "execute_result"
    }
   ],
   "source": [
    "stack.pop()"
   ]
  },
  {
   "cell_type": "code",
   "execution_count": 10,
   "id": "33950091",
   "metadata": {},
   "outputs": [
    {
     "data": {
      "text/plain": [
       "8"
      ]
     },
     "execution_count": 10,
     "metadata": {},
     "output_type": "execute_result"
    }
   ],
   "source": [
    "stack.pop()"
   ]
  },
  {
   "cell_type": "code",
   "execution_count": 11,
   "id": "0494a5b9",
   "metadata": {},
   "outputs": [
    {
     "data": {
      "text/plain": [
       "[4, 4, 6]"
      ]
     },
     "execution_count": 11,
     "metadata": {},
     "output_type": "execute_result"
    }
   ],
   "source": [
    "stack"
   ]
  },
  {
   "cell_type": "code",
   "execution_count": 12,
   "id": "426b7204",
   "metadata": {},
   "outputs": [
    {
     "data": {
      "text/plain": [
       "6"
      ]
     },
     "execution_count": 12,
     "metadata": {},
     "output_type": "execute_result"
    }
   ],
   "source": [
    "# top = list[-1]\n",
    "stack[-1]"
   ]
  },
  {
   "cell_type": "code",
   "execution_count": 13,
   "id": "e86734b2",
   "metadata": {},
   "outputs": [
    {
     "name": "stdout",
     "output_type": "stream",
     "text": [
      "[4, 4, 6]\n"
     ]
    }
   ],
   "source": [
    "if stack:\n",
    "    print(stack) # when list is "
   ]
  },
  {
   "cell_type": "code",
   "execution_count": 14,
   "id": "8244be47",
   "metadata": {},
   "outputs": [
    {
     "data": {
      "text/plain": [
       "False"
      ]
     },
     "execution_count": 14,
     "metadata": {},
     "output_type": "execute_result"
    }
   ],
   "source": [
    "# isFull \n",
    "not (len(stack) < 10)\n",
    "len(stack) == 10"
   ]
  },
  {
   "cell_type": "code",
   "execution_count": 25,
   "id": "51a9af32",
   "metadata": {},
   "outputs": [],
   "source": [
    "string = \"abcde\" # we want to reverse the string\n",
    "\n",
    "stack = []\n",
    "for char in string: \n",
    "    stack.append(char) # putting into stack"
   ]
  },
  {
   "cell_type": "code",
   "execution_count": 26,
   "id": "a034d8ff",
   "metadata": {},
   "outputs": [
    {
     "data": {
      "text/plain": [
       "['a', 'b', 'c', 'd', 'e']"
      ]
     },
     "execution_count": 26,
     "metadata": {},
     "output_type": "execute_result"
    }
   ],
   "source": [
    "stack"
   ]
  },
  {
   "cell_type": "code",
   "execution_count": 27,
   "id": "7237ece3",
   "metadata": {},
   "outputs": [
    {
     "name": "stdout",
     "output_type": "stream",
     "text": [
      "['e', 'd', 'c', 'b', 'a']\n"
     ]
    }
   ],
   "source": [
    "reverse_list = []\n",
    "while stack: # check if stack is empty\n",
    "    el = stack.pop()\n",
    "    reverse_list.append(el)\n",
    "\n",
    "print(reverse_list)\n",
    "  "
   ]
  },
  {
   "cell_type": "code",
   "execution_count": 28,
   "id": "e942a14c",
   "metadata": {},
   "outputs": [
    {
     "data": {
      "text/plain": [
       "'edcba'"
      ]
     },
     "execution_count": 28,
     "metadata": {},
     "output_type": "execute_result"
    }
   ],
   "source": [
    "\"\".join(reverse_list)"
   ]
  },
  {
   "cell_type": "code",
   "execution_count": 29,
   "id": "a8bf710a",
   "metadata": {},
   "outputs": [
    {
     "data": {
      "text/plain": [
       "27"
      ]
     },
     "execution_count": 29,
     "metadata": {},
     "output_type": "execute_result"
    }
   ],
   "source": [
    "((2 + 3) +4) * (4-1)"
   ]
  },
  {
   "cell_type": "code",
   "execution_count": 38,
   "id": "c494fa1f",
   "metadata": {},
   "outputs": [],
   "source": [
    "def is_balanced_parantheses(s):\n",
    "    stack = []\n",
    "    for char in string:\n",
    "        if char == \"(\":\n",
    "            stack.append(\"(\")\n",
    "        elif char == \")\":\n",
    "            if not stack:\n",
    "                return False\n",
    "            stack.pop()\n",
    "\n",
    "    return len(stack) == 0\n"
   ]
  },
  {
   "cell_type": "code",
   "execution_count": 39,
   "id": "026927b9",
   "metadata": {},
   "outputs": [
    {
     "data": {
      "text/plain": [
       "True"
      ]
     },
     "execution_count": 39,
     "metadata": {},
     "output_type": "execute_result"
    }
   ],
   "source": [
    "is_balanced_parantheses(\"((2 + 3) +4) * (4-1)\")\n",
    "# testing balanced case"
   ]
  },
  {
   "cell_type": "code",
   "execution_count": null,
   "id": "efdbe91b",
   "metadata": {},
   "outputs": [
    {
     "data": {
      "text/plain": [
       "True"
      ]
     },
     "execution_count": 40,
     "metadata": {},
     "output_type": "execute_result"
    }
   ],
   "source": [
    "is_balanced_parantheses(\"((2 + 3) + 4 * (4-1)\") "
   ]
  },
  {
   "cell_type": "markdown",
   "id": "9f7020d6",
   "metadata": {},
   "source": [
    "### Stacks\n",
    "- push(): add an item to stack, unless stack is full, then raise error\n",
    "- pop(): pull an item from stack \n",
    "- top(): remove top element from stack \n",
    "- isemtpy(): True or False if stack is empty\n",
    "- isfull(): True False if stack is full "
   ]
  },
  {
   "cell_type": "code",
   "execution_count": 47,
   "id": "c9925851",
   "metadata": {},
   "outputs": [],
   "source": [
    "from typing import Any\n",
    "\n",
    "class ArrayStack:\n",
    "    def __init__(self, capacity=None):\n",
    "        self.stack = []\n",
    "        self.capacity = capacity\n",
    "\n",
    "    def push(self, item)  -> None: \n",
    "        if self.is_full():\n",
    "            raise OverflowError(\"Stack is full\")               \n",
    "        self.stack.append(item)\n",
    "    \n",
    "    def pop(self)  -> Any: \n",
    "        if self.stack.is_empty(): \n",
    "            raise IndexError(\"The stack is empty, nothing to pop\")\n",
    "        return self.stack.pop()\n",
    "    \n",
    "    def top(self) -> Any:\n",
    "        return self.stack[-1]\n",
    "\n",
    "    def is_empty(self) -> bool:\n",
    "        return len(self.stack) == 0\n",
    "    \n",
    "    def is_full(self) -> bool: \n",
    "        if self.capacity is None: \n",
    "            return False\n",
    "        return len(self.stack) >= self.capacity\n",
    "      \n",
    "\n",
    "\n",
    "    \n",
    "\n",
    "\n"
   ]
  },
  {
   "cell_type": "code",
   "execution_count": null,
   "id": "9d5bef60",
   "metadata": {},
   "outputs": [],
   "source": [
    "stack = \n"
   ]
  },
  {
   "cell_type": "markdown",
   "id": "c7b69fe3",
   "metadata": {},
   "source": [
    "# Queue\n",
    "\n",
    "Attributes: \n",
    "- capacity\n",
    "- front\n",
    "- rear\n",
    "\n",
    "Methods: \n",
    "- endqueue\n",
    "- dequeue\n",
    "- peek \n",
    "- is_emtpy \n",
    "- size \n",
    "- is_full"
   ]
  },
  {
   "cell_type": "code",
   "execution_count": 48,
   "id": "537f18f2",
   "metadata": {},
   "outputs": [],
   "source": [
    "queue = [1, 2, 3]"
   ]
  },
  {
   "cell_type": "code",
   "execution_count": null,
   "id": "7fd10b0e",
   "metadata": {},
   "outputs": [],
   "source": [
    "# shrink \n",
    "queue[0] = None"
   ]
  },
  {
   "cell_type": "code",
   "execution_count": 51,
   "id": "832bde7b",
   "metadata": {},
   "outputs": [],
   "source": [
    "from collections import deque"
   ]
  },
  {
   "cell_type": "code",
   "execution_count": 52,
   "id": "30e45ce7",
   "metadata": {},
   "outputs": [],
   "source": [
    "queue = deque()"
   ]
  },
  {
   "cell_type": "code",
   "execution_count": 55,
   "id": "f4c2493a",
   "metadata": {},
   "outputs": [],
   "source": [
    "queue.append(4)\n",
    "queue.append(5)\n",
    "queue.append(6)"
   ]
  },
  {
   "cell_type": "code",
   "execution_count": 56,
   "id": "6cb0796f",
   "metadata": {},
   "outputs": [
    {
     "data": {
      "text/plain": [
       "6"
      ]
     },
     "execution_count": 56,
     "metadata": {},
     "output_type": "execute_result"
    }
   ],
   "source": [
    "queue.pop()"
   ]
  },
  {
   "cell_type": "code",
   "execution_count": 57,
   "id": "a42f8857",
   "metadata": {},
   "outputs": [
    {
     "data": {
      "text/plain": [
       "4"
      ]
     },
     "execution_count": 57,
     "metadata": {},
     "output_type": "execute_result"
    }
   ],
   "source": [
    "queue.popleft()"
   ]
  },
  {
   "cell_type": "code",
   "execution_count": 58,
   "id": "7406b4f5",
   "metadata": {},
   "outputs": [],
   "source": [
    "items = [1, 2, 3, 4]"
   ]
  },
  {
   "cell_type": "code",
   "execution_count": 59,
   "id": "dd795431",
   "metadata": {},
   "outputs": [],
   "source": [
    "queue = deque()"
   ]
  },
  {
   "cell_type": "code",
   "execution_count": 61,
   "id": "7fe1015b",
   "metadata": {},
   "outputs": [
    {
     "name": "stdout",
     "output_type": "stream",
     "text": [
      "Enqueued: 1\n",
      "Enqueued: 2\n",
      "Enqueued: 3\n",
      "Enqueued: 4\n"
     ]
    }
   ],
   "source": [
    "for item in items:\n",
    "    queue.append(item)\n",
    "    print(f\"Enqueued: {item}\")"
   ]
  },
  {
   "cell_type": "code",
   "execution_count": 62,
   "id": "c6c69bae",
   "metadata": {},
   "outputs": [
    {
     "name": "stdout",
     "output_type": "stream",
     "text": [
      "Dequeued: 1\n",
      "Dequeued: 2\n",
      "Dequeued: 3\n",
      "Dequeued: 4\n",
      "Dequeued: 1\n",
      "Dequeued: 2\n",
      "Dequeued: 3\n",
      "Dequeued: 4\n"
     ]
    }
   ],
   "source": [
    "while queue:\n",
    "    item = queue.popleft()\n",
    "    print(f\"Dequeued: {item}\")"
   ]
  },
  {
   "cell_type": "code",
   "execution_count": null,
   "id": "c5f0d54e",
   "metadata": {},
   "outputs": [],
   "source": []
  },
  {
   "cell_type": "code",
   "execution_count": null,
   "id": "993d8fe5",
   "metadata": {},
   "outputs": [],
   "source": []
  },
  {
   "cell_type": "markdown",
   "id": "4c191fbe",
   "metadata": {},
   "source": []
  }
 ],
 "metadata": {
  "kernelspec": {
   "display_name": "Python 3",
   "language": "python",
   "name": "python3"
  },
  "language_info": {
   "codemirror_mode": {
    "name": "ipython",
    "version": 3
   },
   "file_extension": ".py",
   "mimetype": "text/x-python",
   "name": "python",
   "nbconvert_exporter": "python",
   "pygments_lexer": "ipython3",
   "version": "3.13.3"
  }
 },
 "nbformat": 4,
 "nbformat_minor": 5
}
